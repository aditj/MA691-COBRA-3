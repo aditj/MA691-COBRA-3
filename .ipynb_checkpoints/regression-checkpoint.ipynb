{
 "cells": [
  {
   "cell_type": "code",
   "execution_count": 1,
   "metadata": {},
   "outputs": [],
   "source": [
    "import pandas as pd\n",
    "import numpy as np"
   ]
  },
  {
   "cell_type": "code",
   "execution_count": 186,
   "metadata": {},
   "outputs": [],
   "source": [
    "df = pd.read_csv(\"selected.csv\", index_col = False)\n",
    "df.drop([\"Unnamed: 0\"], inplace = True, axis = 1)"
   ]
  },
  {
   "cell_type": "code",
   "execution_count": 199,
   "metadata": {},
   "outputs": [],
   "source": [
    "df = df.replace(' NA', np.nan)\n",
    "df = df.replace('NA', np.nan)"
   ]
  },
  {
   "cell_type": "code",
   "execution_count": 204,
   "metadata": {},
   "outputs": [
    {
     "data": {
      "text/plain": [
       "217815_at        0\n",
       "204888_s_at      0\n",
       "218883_s_at      0\n",
       "211779_x_at      0\n",
       "221028_s_at      0\n",
       "218914_at        0\n",
       "203391_at        0\n",
       "204768_s_at      0\n",
       "risksg           1\n",
       "risknpi          2\n",
       "grade            2\n",
       "NPI              2\n",
       "Histtype         4\n",
       "Angioinv        77\n",
       "Lymp_infil     117\n",
       "dtype: int64"
      ]
     },
     "execution_count": 204,
     "metadata": {},
     "output_type": "execute_result"
    }
   ],
   "source": [
    "df.isna().sum(axis = 0).sort_values()[-15:]"
   ]
  },
  {
   "cell_type": "code",
   "execution_count": 207,
   "metadata": {},
   "outputs": [
    {
     "data": {
      "text/plain": [
       "count    198.000000\n",
       "mean       3.707755\n",
       "std        0.761394\n",
       "min        2.160000\n",
       "25%        3.300000\n",
       "50%        3.510000\n",
       "75%        4.415000\n",
       "max        5.000000\n",
       "Name: NPI, dtype: float64"
      ]
     },
     "execution_count": 207,
     "metadata": {},
     "output_type": "execute_result"
    }
   ],
   "source": [
    "df['NPI'] = df['NPI'].astype('float')\n",
    "df['NPI'].replace(np.nan, df['NPI'].mean(), inplace = True)"
   ]
  },
  {
   "cell_type": "code",
   "execution_count": 188,
   "metadata": {},
   "outputs": [],
   "source": [
    "removals = ['t.rfs',\n",
    " 'e.rfs',\n",
    " 't.os',\n",
    " 'e.os',\n",
    " 't.dmfs',\n",
    " 'e.dmfs',\n",
    " 't.tdm',\n",
    " 'e.tdm', \"samplename\", \"id\",\"filename\",\"hospital\", 'Surgery_type', 'Histtype', 'Angioinv',\n",
    "       'Lymp_infil', 'node', 'grade', 'er', 'risksg', 'risknpi',\n",
    "       'AOL_os_10y', 'risk_AOL', 'veridex_risk']\n",
    "rest = [i for i in df.columns if i not in removals]"
   ]
  },
  {
   "cell_type": "code",
   "execution_count": 189,
   "metadata": {},
   "outputs": [],
   "source": [
    "X = df[rest]\n",
    "X = X.replace(' NA', np.nan)\n",
    "X = X.replace(\"NA\", np.nan)\n",
    "X = X.dropna()"
   ]
  },
  {
   "cell_type": "code",
   "execution_count": 192,
   "metadata": {},
   "outputs": [
    {
     "data": {
      "text/html": [
       "<div>\n",
       "<style scoped>\n",
       "    .dataframe tbody tr th:only-of-type {\n",
       "        vertical-align: middle;\n",
       "    }\n",
       "\n",
       "    .dataframe tbody tr th {\n",
       "        vertical-align: top;\n",
       "    }\n",
       "\n",
       "    .dataframe thead th {\n",
       "        text-align: right;\n",
       "    }\n",
       "</style>\n",
       "<table border=\"1\" class=\"dataframe\">\n",
       "  <thead>\n",
       "    <tr style=\"text-align: right;\">\n",
       "      <th></th>\n",
       "      <th>219340_s_at</th>\n",
       "      <th>217771_at</th>\n",
       "      <th>202418_at</th>\n",
       "      <th>206295_at</th>\n",
       "      <th>201091_s_at</th>\n",
       "      <th>204015_s_at</th>\n",
       "      <th>200726_at</th>\n",
       "      <th>200965_s_at</th>\n",
       "      <th>210314_x_at</th>\n",
       "      <th>221882_s_at</th>\n",
       "      <th>...</th>\n",
       "      <th>202239_at</th>\n",
       "      <th>204218_at</th>\n",
       "      <th>221241_s_at</th>\n",
       "      <th>209862_s_at</th>\n",
       "      <th>217019_at</th>\n",
       "      <th>210593_at</th>\n",
       "      <th>216103_at</th>\n",
       "      <th>age</th>\n",
       "      <th>size</th>\n",
       "      <th>NPI</th>\n",
       "    </tr>\n",
       "  </thead>\n",
       "  <tbody>\n",
       "    <tr>\n",
       "      <th>0</th>\n",
       "      <td>7.014110</td>\n",
       "      <td>9.938705</td>\n",
       "      <td>11.053083</td>\n",
       "      <td>5.326001</td>\n",
       "      <td>10.964107</td>\n",
       "      <td>6.244280</td>\n",
       "      <td>10.926361</td>\n",
       "      <td>8.962608</td>\n",
       "      <td>10.523859</td>\n",
       "      <td>10.926365</td>\n",
       "      <td>...</td>\n",
       "      <td>10.016732</td>\n",
       "      <td>8.319661</td>\n",
       "      <td>5.649573</td>\n",
       "      <td>8.180319</td>\n",
       "      <td>7.751753</td>\n",
       "      <td>4.528973</td>\n",
       "      <td>3.944944</td>\n",
       "      <td>57</td>\n",
       "      <td>3.0</td>\n",
       "      <td>4.6</td>\n",
       "    </tr>\n",
       "    <tr>\n",
       "      <th>1</th>\n",
       "      <td>7.326724</td>\n",
       "      <td>6.374728</td>\n",
       "      <td>10.596457</td>\n",
       "      <td>8.290123</td>\n",
       "      <td>11.594716</td>\n",
       "      <td>6.542130</td>\n",
       "      <td>12.242090</td>\n",
       "      <td>9.531718</td>\n",
       "      <td>10.342614</td>\n",
       "      <td>9.555092</td>\n",
       "      <td>...</td>\n",
       "      <td>10.161838</td>\n",
       "      <td>9.118091</td>\n",
       "      <td>7.599788</td>\n",
       "      <td>8.332043</td>\n",
       "      <td>7.669779</td>\n",
       "      <td>4.190050</td>\n",
       "      <td>5.215237</td>\n",
       "      <td>57</td>\n",
       "      <td>3.0</td>\n",
       "      <td>4.6</td>\n",
       "    </tr>\n",
       "    <tr>\n",
       "      <th>2</th>\n",
       "      <td>6.974651</td>\n",
       "      <td>9.226757</td>\n",
       "      <td>10.834848</td>\n",
       "      <td>5.731169</td>\n",
       "      <td>9.166088</td>\n",
       "      <td>6.586000</td>\n",
       "      <td>11.661716</td>\n",
       "      <td>10.238680</td>\n",
       "      <td>10.144875</td>\n",
       "      <td>9.308048</td>\n",
       "      <td>...</td>\n",
       "      <td>10.032721</td>\n",
       "      <td>8.927673</td>\n",
       "      <td>4.987613</td>\n",
       "      <td>9.023475</td>\n",
       "      <td>7.134818</td>\n",
       "      <td>6.538038</td>\n",
       "      <td>5.191881</td>\n",
       "      <td>48</td>\n",
       "      <td>2.5</td>\n",
       "      <td>4.5</td>\n",
       "    </tr>\n",
       "    <tr>\n",
       "      <th>3</th>\n",
       "      <td>7.703683</td>\n",
       "      <td>8.169183</td>\n",
       "      <td>11.627066</td>\n",
       "      <td>8.538247</td>\n",
       "      <td>9.086937</td>\n",
       "      <td>8.477335</td>\n",
       "      <td>12.174021</td>\n",
       "      <td>9.819279</td>\n",
       "      <td>10.888251</td>\n",
       "      <td>10.208241</td>\n",
       "      <td>...</td>\n",
       "      <td>10.727427</td>\n",
       "      <td>9.292112</td>\n",
       "      <td>7.205051</td>\n",
       "      <td>8.374399</td>\n",
       "      <td>7.912452</td>\n",
       "      <td>7.230222</td>\n",
       "      <td>4.540211</td>\n",
       "      <td>42</td>\n",
       "      <td>1.8</td>\n",
       "      <td>4.36</td>\n",
       "    </tr>\n",
       "    <tr>\n",
       "      <th>4</th>\n",
       "      <td>6.581141</td>\n",
       "      <td>7.496745</td>\n",
       "      <td>11.500773</td>\n",
       "      <td>5.979282</td>\n",
       "      <td>8.887616</td>\n",
       "      <td>7.398170</td>\n",
       "      <td>11.484011</td>\n",
       "      <td>11.489233</td>\n",
       "      <td>9.702690</td>\n",
       "      <td>10.931843</td>\n",
       "      <td>...</td>\n",
       "      <td>9.556686</td>\n",
       "      <td>9.166668</td>\n",
       "      <td>6.973316</td>\n",
       "      <td>7.599664</td>\n",
       "      <td>7.539716</td>\n",
       "      <td>6.421427</td>\n",
       "      <td>5.278598</td>\n",
       "      <td>46</td>\n",
       "      <td>3.0</td>\n",
       "      <td>3.6</td>\n",
       "    </tr>\n",
       "    <tr>\n",
       "      <th>...</th>\n",
       "      <td>...</td>\n",
       "      <td>...</td>\n",
       "      <td>...</td>\n",
       "      <td>...</td>\n",
       "      <td>...</td>\n",
       "      <td>...</td>\n",
       "      <td>...</td>\n",
       "      <td>...</td>\n",
       "      <td>...</td>\n",
       "      <td>...</td>\n",
       "      <td>...</td>\n",
       "      <td>...</td>\n",
       "      <td>...</td>\n",
       "      <td>...</td>\n",
       "      <td>...</td>\n",
       "      <td>...</td>\n",
       "      <td>...</td>\n",
       "      <td>...</td>\n",
       "      <td>...</td>\n",
       "      <td>...</td>\n",
       "      <td>...</td>\n",
       "    </tr>\n",
       "    <tr>\n",
       "      <th>193</th>\n",
       "      <td>6.954604</td>\n",
       "      <td>10.129438</td>\n",
       "      <td>10.888537</td>\n",
       "      <td>6.915913</td>\n",
       "      <td>10.740020</td>\n",
       "      <td>6.139044</td>\n",
       "      <td>12.018292</td>\n",
       "      <td>8.323876</td>\n",
       "      <td>8.839213</td>\n",
       "      <td>9.604668</td>\n",
       "      <td>...</td>\n",
       "      <td>10.176306</td>\n",
       "      <td>9.681136</td>\n",
       "      <td>8.542533</td>\n",
       "      <td>7.888977</td>\n",
       "      <td>6.592585</td>\n",
       "      <td>4.429037</td>\n",
       "      <td>3.218512</td>\n",
       "      <td>39</td>\n",
       "      <td>2.2</td>\n",
       "      <td>4.44</td>\n",
       "    </tr>\n",
       "    <tr>\n",
       "      <th>194</th>\n",
       "      <td>4.108023</td>\n",
       "      <td>8.701039</td>\n",
       "      <td>10.908745</td>\n",
       "      <td>6.655799</td>\n",
       "      <td>11.145993</td>\n",
       "      <td>7.044179</td>\n",
       "      <td>11.711415</td>\n",
       "      <td>10.428482</td>\n",
       "      <td>9.634663</td>\n",
       "      <td>11.067820</td>\n",
       "      <td>...</td>\n",
       "      <td>9.573702</td>\n",
       "      <td>8.937584</td>\n",
       "      <td>6.457199</td>\n",
       "      <td>9.263448</td>\n",
       "      <td>6.427916</td>\n",
       "      <td>6.215172</td>\n",
       "      <td>6.154912</td>\n",
       "      <td>46</td>\n",
       "      <td>3.2</td>\n",
       "      <td>4.64</td>\n",
       "    </tr>\n",
       "    <tr>\n",
       "      <th>195</th>\n",
       "      <td>5.667819</td>\n",
       "      <td>10.940586</td>\n",
       "      <td>10.464572</td>\n",
       "      <td>6.845962</td>\n",
       "      <td>10.463171</td>\n",
       "      <td>9.980030</td>\n",
       "      <td>11.939616</td>\n",
       "      <td>9.615587</td>\n",
       "      <td>9.424510</td>\n",
       "      <td>7.743568</td>\n",
       "      <td>...</td>\n",
       "      <td>9.051649</td>\n",
       "      <td>9.079387</td>\n",
       "      <td>7.138855</td>\n",
       "      <td>8.577323</td>\n",
       "      <td>6.539374</td>\n",
       "      <td>7.436809</td>\n",
       "      <td>6.104234</td>\n",
       "      <td>47</td>\n",
       "      <td>2.5</td>\n",
       "      <td>2.5</td>\n",
       "    </tr>\n",
       "    <tr>\n",
       "      <th>196</th>\n",
       "      <td>7.466355</td>\n",
       "      <td>10.032314</td>\n",
       "      <td>10.894581</td>\n",
       "      <td>7.338324</td>\n",
       "      <td>8.609631</td>\n",
       "      <td>10.528216</td>\n",
       "      <td>11.848449</td>\n",
       "      <td>10.528911</td>\n",
       "      <td>10.517222</td>\n",
       "      <td>9.298178</td>\n",
       "      <td>...</td>\n",
       "      <td>9.788903</td>\n",
       "      <td>9.504684</td>\n",
       "      <td>8.603733</td>\n",
       "      <td>8.079926</td>\n",
       "      <td>7.798234</td>\n",
       "      <td>5.624854</td>\n",
       "      <td>6.104978</td>\n",
       "      <td>43</td>\n",
       "      <td>1.2</td>\n",
       "      <td>3.24</td>\n",
       "    </tr>\n",
       "    <tr>\n",
       "      <th>197</th>\n",
       "      <td>6.429858</td>\n",
       "      <td>10.722343</td>\n",
       "      <td>11.692123</td>\n",
       "      <td>6.939691</td>\n",
       "      <td>9.011730</td>\n",
       "      <td>9.160088</td>\n",
       "      <td>11.425778</td>\n",
       "      <td>9.901486</td>\n",
       "      <td>9.631856</td>\n",
       "      <td>8.958376</td>\n",
       "      <td>...</td>\n",
       "      <td>10.701032</td>\n",
       "      <td>8.687783</td>\n",
       "      <td>6.446787</td>\n",
       "      <td>7.909082</td>\n",
       "      <td>5.712037</td>\n",
       "      <td>3.876885</td>\n",
       "      <td>6.508481</td>\n",
       "      <td>39</td>\n",
       "      <td>2.5</td>\n",
       "      <td>4.5</td>\n",
       "    </tr>\n",
       "  </tbody>\n",
       "</table>\n",
       "<p>196 rows × 79 columns</p>\n",
       "</div>"
      ],
      "text/plain": [
       "     219340_s_at  217771_at  202418_at  206295_at  201091_s_at  204015_s_at  \\\n",
       "0       7.014110   9.938705  11.053083   5.326001    10.964107     6.244280   \n",
       "1       7.326724   6.374728  10.596457   8.290123    11.594716     6.542130   \n",
       "2       6.974651   9.226757  10.834848   5.731169     9.166088     6.586000   \n",
       "3       7.703683   8.169183  11.627066   8.538247     9.086937     8.477335   \n",
       "4       6.581141   7.496745  11.500773   5.979282     8.887616     7.398170   \n",
       "..           ...        ...        ...        ...          ...          ...   \n",
       "193     6.954604  10.129438  10.888537   6.915913    10.740020     6.139044   \n",
       "194     4.108023   8.701039  10.908745   6.655799    11.145993     7.044179   \n",
       "195     5.667819  10.940586  10.464572   6.845962    10.463171     9.980030   \n",
       "196     7.466355  10.032314  10.894581   7.338324     8.609631    10.528216   \n",
       "197     6.429858  10.722343  11.692123   6.939691     9.011730     9.160088   \n",
       "\n",
       "     200726_at  200965_s_at  210314_x_at  221882_s_at  ...  202239_at  \\\n",
       "0    10.926361     8.962608    10.523859    10.926365  ...  10.016732   \n",
       "1    12.242090     9.531718    10.342614     9.555092  ...  10.161838   \n",
       "2    11.661716    10.238680    10.144875     9.308048  ...  10.032721   \n",
       "3    12.174021     9.819279    10.888251    10.208241  ...  10.727427   \n",
       "4    11.484011    11.489233     9.702690    10.931843  ...   9.556686   \n",
       "..         ...          ...          ...          ...  ...        ...   \n",
       "193  12.018292     8.323876     8.839213     9.604668  ...  10.176306   \n",
       "194  11.711415    10.428482     9.634663    11.067820  ...   9.573702   \n",
       "195  11.939616     9.615587     9.424510     7.743568  ...   9.051649   \n",
       "196  11.848449    10.528911    10.517222     9.298178  ...   9.788903   \n",
       "197  11.425778     9.901486     9.631856     8.958376  ...  10.701032   \n",
       "\n",
       "     204218_at  221241_s_at  209862_s_at  217019_at  210593_at  216103_at  \\\n",
       "0     8.319661     5.649573     8.180319   7.751753   4.528973   3.944944   \n",
       "1     9.118091     7.599788     8.332043   7.669779   4.190050   5.215237   \n",
       "2     8.927673     4.987613     9.023475   7.134818   6.538038   5.191881   \n",
       "3     9.292112     7.205051     8.374399   7.912452   7.230222   4.540211   \n",
       "4     9.166668     6.973316     7.599664   7.539716   6.421427   5.278598   \n",
       "..         ...          ...          ...        ...        ...        ...   \n",
       "193   9.681136     8.542533     7.888977   6.592585   4.429037   3.218512   \n",
       "194   8.937584     6.457199     9.263448   6.427916   6.215172   6.154912   \n",
       "195   9.079387     7.138855     8.577323   6.539374   7.436809   6.104234   \n",
       "196   9.504684     8.603733     8.079926   7.798234   5.624854   6.104978   \n",
       "197   8.687783     6.446787     7.909082   5.712037   3.876885   6.508481   \n",
       "\n",
       "     age  size    NPI  \n",
       "0     57   3.0    4.6  \n",
       "1     57   3.0    4.6  \n",
       "2     48   2.5    4.5  \n",
       "3     42   1.8   4.36  \n",
       "4     46   3.0    3.6  \n",
       "..   ...   ...    ...  \n",
       "193   39   2.2   4.44  \n",
       "194   46   3.2   4.64  \n",
       "195   47   2.5    2.5  \n",
       "196   43   1.2   3.24  \n",
       "197   39   2.5    4.5  \n",
       "\n",
       "[196 rows x 79 columns]"
      ]
     },
     "execution_count": 192,
     "metadata": {},
     "output_type": "execute_result"
    }
   ],
   "source": [
    "X"
   ]
  },
  {
   "cell_type": "code",
   "execution_count": 191,
   "metadata": {},
   "outputs": [],
   "source": [
    "y = df[\"t.os\"]"
   ]
  },
  {
   "cell_type": "code",
   "execution_count": 179,
   "metadata": {},
   "outputs": [],
   "source": [
    "from sklearn import linear_model\n",
    "from sklearn.model_selection import train_test_split"
   ]
  },
  {
   "cell_type": "code",
   "execution_count": 180,
   "metadata": {},
   "outputs": [],
   "source": [
    "X_train, X_test, y_train, y_test = train_test_split(X, y, test_size=0.10, random_state=42)"
   ]
  },
  {
   "cell_type": "code",
   "execution_count": 181,
   "metadata": {},
   "outputs": [
    {
     "data": {
      "text/plain": [
       "LinearRegression(copy_X=True, fit_intercept=True, n_jobs=None, normalize=True)"
      ]
     },
     "execution_count": 181,
     "metadata": {},
     "output_type": "execute_result"
    }
   ],
   "source": [
    "lr = linear_model.LinearRegression(normalize = True)\n",
    "lr.fit(X_train,y_train)"
   ]
  },
  {
   "cell_type": "code",
   "execution_count": 182,
   "metadata": {},
   "outputs": [
    {
     "data": {
      "text/plain": [
       "array([ 4123.19355149, -1458.55627948,   966.89663063,  8075.22322452,\n",
       "       13822.01454667,  7111.58771131,   545.57202989, 10602.02018044])"
      ]
     },
     "execution_count": 182,
     "metadata": {},
     "output_type": "execute_result"
    }
   ],
   "source": [
    "lr.predict(X_test)"
   ]
  },
  {
   "cell_type": "code",
   "execution_count": 183,
   "metadata": {},
   "outputs": [
    {
     "data": {
      "text/plain": [
       "-6.598191991307221"
      ]
     },
     "execution_count": 183,
     "metadata": {},
     "output_type": "execute_result"
    }
   ],
   "source": [
    "lr.score(X_test, y_test)"
   ]
  },
  {
   "cell_type": "code",
   "execution_count": 185,
   "metadata": {},
   "outputs": [
    {
     "data": {
      "text/html": [
       "<div>\n",
       "<style scoped>\n",
       "    .dataframe tbody tr th:only-of-type {\n",
       "        vertical-align: middle;\n",
       "    }\n",
       "\n",
       "    .dataframe tbody tr th {\n",
       "        vertical-align: top;\n",
       "    }\n",
       "\n",
       "    .dataframe thead th {\n",
       "        text-align: right;\n",
       "    }\n",
       "</style>\n",
       "<table border=\"1\" class=\"dataframe\">\n",
       "  <thead>\n",
       "    <tr style=\"text-align: right;\">\n",
       "      <th></th>\n",
       "      <th>219340_s_at</th>\n",
       "      <th>217771_at</th>\n",
       "      <th>202418_at</th>\n",
       "      <th>206295_at</th>\n",
       "      <th>201091_s_at</th>\n",
       "      <th>204015_s_at</th>\n",
       "      <th>200726_at</th>\n",
       "      <th>200965_s_at</th>\n",
       "      <th>210314_x_at</th>\n",
       "      <th>221882_s_at</th>\n",
       "      <th>...</th>\n",
       "      <th>202239_at</th>\n",
       "      <th>204218_at</th>\n",
       "      <th>221241_s_at</th>\n",
       "      <th>209862_s_at</th>\n",
       "      <th>217019_at</th>\n",
       "      <th>210593_at</th>\n",
       "      <th>216103_at</th>\n",
       "      <th>age</th>\n",
       "      <th>size</th>\n",
       "      <th>NPI</th>\n",
       "    </tr>\n",
       "  </thead>\n",
       "  <tbody>\n",
       "    <tr>\n",
       "      <th>0</th>\n",
       "      <td>7.014110</td>\n",
       "      <td>9.938705</td>\n",
       "      <td>11.053083</td>\n",
       "      <td>5.326001</td>\n",
       "      <td>10.964107</td>\n",
       "      <td>6.244280</td>\n",
       "      <td>10.926361</td>\n",
       "      <td>8.962608</td>\n",
       "      <td>10.523859</td>\n",
       "      <td>10.926365</td>\n",
       "      <td>...</td>\n",
       "      <td>10.016732</td>\n",
       "      <td>8.319661</td>\n",
       "      <td>5.649573</td>\n",
       "      <td>8.180319</td>\n",
       "      <td>7.751753</td>\n",
       "      <td>4.528973</td>\n",
       "      <td>3.944944</td>\n",
       "      <td>57</td>\n",
       "      <td>3.0</td>\n",
       "      <td>4.6</td>\n",
       "    </tr>\n",
       "    <tr>\n",
       "      <th>1</th>\n",
       "      <td>7.326724</td>\n",
       "      <td>6.374728</td>\n",
       "      <td>10.596457</td>\n",
       "      <td>8.290123</td>\n",
       "      <td>11.594716</td>\n",
       "      <td>6.542130</td>\n",
       "      <td>12.242090</td>\n",
       "      <td>9.531718</td>\n",
       "      <td>10.342614</td>\n",
       "      <td>9.555092</td>\n",
       "      <td>...</td>\n",
       "      <td>10.161838</td>\n",
       "      <td>9.118091</td>\n",
       "      <td>7.599788</td>\n",
       "      <td>8.332043</td>\n",
       "      <td>7.669779</td>\n",
       "      <td>4.190050</td>\n",
       "      <td>5.215237</td>\n",
       "      <td>57</td>\n",
       "      <td>3.0</td>\n",
       "      <td>4.6</td>\n",
       "    </tr>\n",
       "    <tr>\n",
       "      <th>2</th>\n",
       "      <td>6.974651</td>\n",
       "      <td>9.226757</td>\n",
       "      <td>10.834848</td>\n",
       "      <td>5.731169</td>\n",
       "      <td>9.166088</td>\n",
       "      <td>6.586000</td>\n",
       "      <td>11.661716</td>\n",
       "      <td>10.238680</td>\n",
       "      <td>10.144875</td>\n",
       "      <td>9.308048</td>\n",
       "      <td>...</td>\n",
       "      <td>10.032721</td>\n",
       "      <td>8.927673</td>\n",
       "      <td>4.987613</td>\n",
       "      <td>9.023475</td>\n",
       "      <td>7.134818</td>\n",
       "      <td>6.538038</td>\n",
       "      <td>5.191881</td>\n",
       "      <td>48</td>\n",
       "      <td>2.5</td>\n",
       "      <td>4.5</td>\n",
       "    </tr>\n",
       "    <tr>\n",
       "      <th>3</th>\n",
       "      <td>7.703683</td>\n",
       "      <td>8.169183</td>\n",
       "      <td>11.627066</td>\n",
       "      <td>8.538247</td>\n",
       "      <td>9.086937</td>\n",
       "      <td>8.477335</td>\n",
       "      <td>12.174021</td>\n",
       "      <td>9.819279</td>\n",
       "      <td>10.888251</td>\n",
       "      <td>10.208241</td>\n",
       "      <td>...</td>\n",
       "      <td>10.727427</td>\n",
       "      <td>9.292112</td>\n",
       "      <td>7.205051</td>\n",
       "      <td>8.374399</td>\n",
       "      <td>7.912452</td>\n",
       "      <td>7.230222</td>\n",
       "      <td>4.540211</td>\n",
       "      <td>42</td>\n",
       "      <td>1.8</td>\n",
       "      <td>4.36</td>\n",
       "    </tr>\n",
       "    <tr>\n",
       "      <th>4</th>\n",
       "      <td>6.581141</td>\n",
       "      <td>7.496745</td>\n",
       "      <td>11.500773</td>\n",
       "      <td>5.979282</td>\n",
       "      <td>8.887616</td>\n",
       "      <td>7.398170</td>\n",
       "      <td>11.484011</td>\n",
       "      <td>11.489233</td>\n",
       "      <td>9.702690</td>\n",
       "      <td>10.931843</td>\n",
       "      <td>...</td>\n",
       "      <td>9.556686</td>\n",
       "      <td>9.166668</td>\n",
       "      <td>6.973316</td>\n",
       "      <td>7.599664</td>\n",
       "      <td>7.539716</td>\n",
       "      <td>6.421427</td>\n",
       "      <td>5.278598</td>\n",
       "      <td>46</td>\n",
       "      <td>3.0</td>\n",
       "      <td>3.6</td>\n",
       "    </tr>\n",
       "    <tr>\n",
       "      <th>...</th>\n",
       "      <td>...</td>\n",
       "      <td>...</td>\n",
       "      <td>...</td>\n",
       "      <td>...</td>\n",
       "      <td>...</td>\n",
       "      <td>...</td>\n",
       "      <td>...</td>\n",
       "      <td>...</td>\n",
       "      <td>...</td>\n",
       "      <td>...</td>\n",
       "      <td>...</td>\n",
       "      <td>...</td>\n",
       "      <td>...</td>\n",
       "      <td>...</td>\n",
       "      <td>...</td>\n",
       "      <td>...</td>\n",
       "      <td>...</td>\n",
       "      <td>...</td>\n",
       "      <td>...</td>\n",
       "      <td>...</td>\n",
       "      <td>...</td>\n",
       "    </tr>\n",
       "    <tr>\n",
       "      <th>82</th>\n",
       "      <td>7.848784</td>\n",
       "      <td>11.150353</td>\n",
       "      <td>11.074425</td>\n",
       "      <td>7.407453</td>\n",
       "      <td>9.104565</td>\n",
       "      <td>9.711662</td>\n",
       "      <td>11.525735</td>\n",
       "      <td>10.656007</td>\n",
       "      <td>10.230751</td>\n",
       "      <td>8.801253</td>\n",
       "      <td>...</td>\n",
       "      <td>10.222810</td>\n",
       "      <td>10.398994</td>\n",
       "      <td>7.711656</td>\n",
       "      <td>8.177121</td>\n",
       "      <td>8.432630</td>\n",
       "      <td>6.410626</td>\n",
       "      <td>2.767558</td>\n",
       "      <td>38</td>\n",
       "      <td>2.0</td>\n",
       "      <td>4.4</td>\n",
       "    </tr>\n",
       "    <tr>\n",
       "      <th>83</th>\n",
       "      <td>6.908822</td>\n",
       "      <td>10.676630</td>\n",
       "      <td>11.259588</td>\n",
       "      <td>6.891620</td>\n",
       "      <td>10.332114</td>\n",
       "      <td>9.071527</td>\n",
       "      <td>11.871613</td>\n",
       "      <td>11.241270</td>\n",
       "      <td>9.825837</td>\n",
       "      <td>8.982965</td>\n",
       "      <td>...</td>\n",
       "      <td>9.740720</td>\n",
       "      <td>9.163487</td>\n",
       "      <td>7.569324</td>\n",
       "      <td>9.007674</td>\n",
       "      <td>7.297087</td>\n",
       "      <td>6.093005</td>\n",
       "      <td>5.548316</td>\n",
       "      <td>45</td>\n",
       "      <td>2.6</td>\n",
       "      <td>2.52</td>\n",
       "    </tr>\n",
       "    <tr>\n",
       "      <th>84</th>\n",
       "      <td>7.675148</td>\n",
       "      <td>11.043700</td>\n",
       "      <td>10.519891</td>\n",
       "      <td>6.421395</td>\n",
       "      <td>10.377613</td>\n",
       "      <td>8.960534</td>\n",
       "      <td>11.927412</td>\n",
       "      <td>10.732328</td>\n",
       "      <td>9.322898</td>\n",
       "      <td>9.279746</td>\n",
       "      <td>...</td>\n",
       "      <td>9.113513</td>\n",
       "      <td>9.657157</td>\n",
       "      <td>7.612120</td>\n",
       "      <td>7.923662</td>\n",
       "      <td>7.430340</td>\n",
       "      <td>3.783258</td>\n",
       "      <td>5.312322</td>\n",
       "      <td>43</td>\n",
       "      <td>2.6</td>\n",
       "      <td>3.52</td>\n",
       "    </tr>\n",
       "    <tr>\n",
       "      <th>85</th>\n",
       "      <td>6.513746</td>\n",
       "      <td>10.060904</td>\n",
       "      <td>11.045897</td>\n",
       "      <td>7.241932</td>\n",
       "      <td>8.644831</td>\n",
       "      <td>6.566798</td>\n",
       "      <td>10.616751</td>\n",
       "      <td>9.408574</td>\n",
       "      <td>10.193340</td>\n",
       "      <td>9.174723</td>\n",
       "      <td>...</td>\n",
       "      <td>10.065612</td>\n",
       "      <td>9.526618</td>\n",
       "      <td>7.718696</td>\n",
       "      <td>8.367098</td>\n",
       "      <td>7.281421</td>\n",
       "      <td>6.761107</td>\n",
       "      <td>5.956549</td>\n",
       "      <td>47</td>\n",
       "      <td>1.5</td>\n",
       "      <td>4.3</td>\n",
       "    </tr>\n",
       "    <tr>\n",
       "      <th>184</th>\n",
       "      <td>7.609791</td>\n",
       "      <td>10.176676</td>\n",
       "      <td>10.882559</td>\n",
       "      <td>7.513235</td>\n",
       "      <td>10.128209</td>\n",
       "      <td>9.239640</td>\n",
       "      <td>12.535473</td>\n",
       "      <td>9.441493</td>\n",
       "      <td>9.960905</td>\n",
       "      <td>9.755739</td>\n",
       "      <td>...</td>\n",
       "      <td>10.227581</td>\n",
       "      <td>9.094832</td>\n",
       "      <td>5.937884</td>\n",
       "      <td>8.659358</td>\n",
       "      <td>6.247596</td>\n",
       "      <td>4.203105</td>\n",
       "      <td>3.413641</td>\n",
       "      <td>48</td>\n",
       "      <td>1.5</td>\n",
       "      <td>2.3</td>\n",
       "    </tr>\n",
       "  </tbody>\n",
       "</table>\n",
       "<p>80 rows × 79 columns</p>\n",
       "</div>"
      ],
      "text/plain": [
       "     219340_s_at  217771_at  202418_at  206295_at  201091_s_at  204015_s_at  \\\n",
       "0       7.014110   9.938705  11.053083   5.326001    10.964107     6.244280   \n",
       "1       7.326724   6.374728  10.596457   8.290123    11.594716     6.542130   \n",
       "2       6.974651   9.226757  10.834848   5.731169     9.166088     6.586000   \n",
       "3       7.703683   8.169183  11.627066   8.538247     9.086937     8.477335   \n",
       "4       6.581141   7.496745  11.500773   5.979282     8.887616     7.398170   \n",
       "..           ...        ...        ...        ...          ...          ...   \n",
       "82      7.848784  11.150353  11.074425   7.407453     9.104565     9.711662   \n",
       "83      6.908822  10.676630  11.259588   6.891620    10.332114     9.071527   \n",
       "84      7.675148  11.043700  10.519891   6.421395    10.377613     8.960534   \n",
       "85      6.513746  10.060904  11.045897   7.241932     8.644831     6.566798   \n",
       "184     7.609791  10.176676  10.882559   7.513235    10.128209     9.239640   \n",
       "\n",
       "     200726_at  200965_s_at  210314_x_at  221882_s_at  ...  202239_at  \\\n",
       "0    10.926361     8.962608    10.523859    10.926365  ...  10.016732   \n",
       "1    12.242090     9.531718    10.342614     9.555092  ...  10.161838   \n",
       "2    11.661716    10.238680    10.144875     9.308048  ...  10.032721   \n",
       "3    12.174021     9.819279    10.888251    10.208241  ...  10.727427   \n",
       "4    11.484011    11.489233     9.702690    10.931843  ...   9.556686   \n",
       "..         ...          ...          ...          ...  ...        ...   \n",
       "82   11.525735    10.656007    10.230751     8.801253  ...  10.222810   \n",
       "83   11.871613    11.241270     9.825837     8.982965  ...   9.740720   \n",
       "84   11.927412    10.732328     9.322898     9.279746  ...   9.113513   \n",
       "85   10.616751     9.408574    10.193340     9.174723  ...  10.065612   \n",
       "184  12.535473     9.441493     9.960905     9.755739  ...  10.227581   \n",
       "\n",
       "     204218_at  221241_s_at  209862_s_at  217019_at  210593_at  216103_at  \\\n",
       "0     8.319661     5.649573     8.180319   7.751753   4.528973   3.944944   \n",
       "1     9.118091     7.599788     8.332043   7.669779   4.190050   5.215237   \n",
       "2     8.927673     4.987613     9.023475   7.134818   6.538038   5.191881   \n",
       "3     9.292112     7.205051     8.374399   7.912452   7.230222   4.540211   \n",
       "4     9.166668     6.973316     7.599664   7.539716   6.421427   5.278598   \n",
       "..         ...          ...          ...        ...        ...        ...   \n",
       "82   10.398994     7.711656     8.177121   8.432630   6.410626   2.767558   \n",
       "83    9.163487     7.569324     9.007674   7.297087   6.093005   5.548316   \n",
       "84    9.657157     7.612120     7.923662   7.430340   3.783258   5.312322   \n",
       "85    9.526618     7.718696     8.367098   7.281421   6.761107   5.956549   \n",
       "184   9.094832     5.937884     8.659358   6.247596   4.203105   3.413641   \n",
       "\n",
       "     age  size    NPI  \n",
       "0     57   3.0    4.6  \n",
       "1     57   3.0    4.6  \n",
       "2     48   2.5    4.5  \n",
       "3     42   1.8   4.36  \n",
       "4     46   3.0    3.6  \n",
       "..   ...   ...    ...  \n",
       "82    38   2.0    4.4  \n",
       "83    45   2.6   2.52  \n",
       "84    43   2.6   3.52  \n",
       "85    47   1.5    4.3  \n",
       "184   48   1.5    2.3  \n",
       "\n",
       "[80 rows x 79 columns]"
      ]
     },
     "execution_count": 185,
     "metadata": {},
     "output_type": "execute_result"
    }
   ],
   "source": [
    "X"
   ]
  },
  {
   "cell_type": "code",
   "execution_count": 117,
   "metadata": {},
   "outputs": [],
   "source": [
    "from sklearn import svm\n",
    "regr = svm.SVR()"
   ]
  },
  {
   "cell_type": "code",
   "execution_count": 118,
   "metadata": {},
   "outputs": [
    {
     "data": {
      "text/plain": [
       "SVR(C=1.0, cache_size=200, coef0=0.0, degree=3, epsilon=0.1, gamma='scale',\n",
       "    kernel='rbf', max_iter=-1, shrinking=True, tol=0.001, verbose=False)"
      ]
     },
     "execution_count": 118,
     "metadata": {},
     "output_type": "execute_result"
    }
   ],
   "source": [
    "regr.fit(X_train, y_train)"
   ]
  },
  {
   "cell_type": "code",
   "execution_count": 119,
   "metadata": {},
   "outputs": [
    {
     "data": {
      "text/plain": [
       "-0.020398984676287313"
      ]
     },
     "execution_count": 119,
     "metadata": {},
     "output_type": "execute_result"
    }
   ],
   "source": [
    "regr.score(X_test, y_test)"
   ]
  },
  {
   "cell_type": "code",
   "execution_count": 140,
   "metadata": {},
   "outputs": [],
   "source": [
    "from sklearn.ensemble import AdaBoostRegressor, GradientBoostingRegressor, RandomForestRegressor\n",
    "from sklearn.tree import DecisionTreeRegressor\n",
    "from sklearn.metrics import mean_squared_error    "
   ]
  },
  {
   "cell_type": "code",
   "execution_count": 144,
   "metadata": {},
   "outputs": [
    {
     "data": {
      "text/plain": [
       "RandomForestRegressor(bootstrap=True, ccp_alpha=0.0, criterion='mse',\n",
       "                      max_depth=None, max_features='auto', max_leaf_nodes=None,\n",
       "                      max_samples=None, min_impurity_decrease=0.0,\n",
       "                      min_impurity_split=None, min_samples_leaf=1,\n",
       "                      min_samples_split=2, min_weight_fraction_leaf=0.0,\n",
       "                      n_estimators=500, n_jobs=None, oob_score=False,\n",
       "                      random_state=None, verbose=0, warm_start=False)"
      ]
     },
     "execution_count": 144,
     "metadata": {},
     "output_type": "execute_result"
    }
   ],
   "source": [
    "rfreg = RandomForestRegressor(n_estimators=500, )\n",
    "rfreg.fit(X_train, y_train)"
   ]
  },
  {
   "cell_type": "code",
   "execution_count": 146,
   "metadata": {},
   "outputs": [
    {
     "data": {
      "text/plain": [
       "0.05415053647156509"
      ]
     },
     "execution_count": 146,
     "metadata": {},
     "output_type": "execute_result"
    }
   ],
   "source": [
    "rfreg.score(X_test, y_test)"
   ]
  },
  {
   "cell_type": "code",
   "execution_count": 148,
   "metadata": {},
   "outputs": [
    {
     "data": {
      "text/plain": [
       "2075.141146945913"
      ]
     },
     "execution_count": 148,
     "metadata": {},
     "output_type": "execute_result"
    }
   ],
   "source": [
    "mean_squared_error(y_test, rfreg.predict(X_test))**0.5"
   ]
  },
  {
   "cell_type": "code",
   "execution_count": 138,
   "metadata": {},
   "outputs": [
    {
     "data": {
      "text/plain": [
       "AdaBoostRegressor(base_estimator=DecisionTreeRegressor(ccp_alpha=0.0,\n",
       "                                                       criterion='mse',\n",
       "                                                       max_depth=5,\n",
       "                                                       max_features=None,\n",
       "                                                       max_leaf_nodes=None,\n",
       "                                                       min_impurity_decrease=0.0,\n",
       "                                                       min_impurity_split=None,\n",
       "                                                       min_samples_leaf=1,\n",
       "                                                       min_samples_split=2,\n",
       "                                                       min_weight_fraction_leaf=0.0,\n",
       "                                                       presort='deprecated',\n",
       "                                                       random_state=None,\n",
       "                                                       splitter='best'),\n",
       "                  learning_rate=1, loss='exponential', n_estimators=10000,\n",
       "                  random_state=None)"
      ]
     },
     "execution_count": 138,
     "metadata": {},
     "output_type": "execute_result"
    }
   ],
   "source": [
    "adaboost = AdaBoostRegressor(base_estimator= DecisionTreeRegressor(max_depth = 5),\n",
    "                             n_estimators=10000,\n",
    "                             loss = 'exponential',\n",
    "                             learning_rate=1)\n",
    "adaboost.fit(X_train, y_train)"
   ]
  },
  {
   "cell_type": "code",
   "execution_count": 139,
   "metadata": {},
   "outputs": [
    {
     "data": {
      "text/plain": [
       "0.06293133517246885"
      ]
     },
     "execution_count": 139,
     "metadata": {},
     "output_type": "execute_result"
    }
   ],
   "source": [
    "adaboost.score(X_test, y_test)"
   ]
  },
  {
   "cell_type": "code",
   "execution_count": 124,
   "metadata": {},
   "outputs": [
    {
     "data": {
      "text/plain": [
       "4917288.339896582"
      ]
     },
     "execution_count": 124,
     "metadata": {},
     "output_type": "execute_result"
    }
   ],
   "source": [
    "mean_squared_error(y_test, adaboost.predict(X_test))"
   ]
  },
  {
   "cell_type": "code",
   "execution_count": 141,
   "metadata": {},
   "outputs": [],
   "source": [
    "params = {'n_estimators': 500,\n",
    "          'max_depth': 10,\n",
    "          'min_samples_split': 5,\n",
    "          'learning_rate': 0.01}"
   ]
  },
  {
   "cell_type": "code",
   "execution_count": 50,
   "metadata": {},
   "outputs": [],
   "source": [
    "gradboost = GradientBoostingRegressor(**params)"
   ]
  },
  {
   "cell_type": "code",
   "execution_count": 51,
   "metadata": {},
   "outputs": [
    {
     "data": {
      "text/plain": [
       "GradientBoostingRegressor(alpha=0.9, ccp_alpha=0.0, criterion='friedman_mse',\n",
       "                          init=None, learning_rate=0.01, loss='ls',\n",
       "                          max_depth=10, max_features=None, max_leaf_nodes=None,\n",
       "                          min_impurity_decrease=0.0, min_impurity_split=None,\n",
       "                          min_samples_leaf=1, min_samples_split=5,\n",
       "                          min_weight_fraction_leaf=0.0, n_estimators=500,\n",
       "                          n_iter_no_change=None, presort='deprecated',\n",
       "                          random_state=None, subsample=1.0, tol=0.0001,\n",
       "                          validation_fraction=0.1, verbose=0, warm_start=False)"
      ]
     },
     "execution_count": 51,
     "metadata": {},
     "output_type": "execute_result"
    }
   ],
   "source": [
    "gradboost.fit(X_train, y_train)"
   ]
  },
  {
   "cell_type": "code",
   "execution_count": 52,
   "metadata": {},
   "outputs": [
    {
     "data": {
      "text/plain": [
       "0.030014310914953324"
      ]
     },
     "execution_count": 52,
     "metadata": {},
     "output_type": "execute_result"
    }
   ],
   "source": [
    "gradboost.score(X_test, y_test)"
   ]
  },
  {
   "cell_type": "code",
   "execution_count": 48,
   "metadata": {},
   "outputs": [
    {
     "data": {
      "text/plain": [
       "array([4527.58723515, 4342.77025358, 3999.99170916, 3291.09911654,\n",
       "       5177.95434515, 4496.6563058 , 4871.76987045, 4645.71575901,\n",
       "       4487.28310247, 3500.2028284 , 4655.80960955, 4576.71243431,\n",
       "       4127.35127166, 4149.65063051, 3621.85262475, 4794.44337693,\n",
       "       2996.70416133, 4067.19220632, 5156.95667338, 3429.30951022])"
      ]
     },
     "execution_count": 48,
     "metadata": {},
     "output_type": "execute_result"
    }
   ],
   "source": [
    "gradboost.predict(X_test)"
   ]
  },
  {
   "cell_type": "code",
   "execution_count": 64,
   "metadata": {},
   "outputs": [],
   "source": [
    "import matplotlib.pyplot as plt"
   ]
  },
  {
   "cell_type": "code",
   "execution_count": 66,
   "metadata": {},
   "outputs": [],
   "source": [
    "feature_imp = gradboost.feature_importances_\n",
    "sorted_idx = np.argsort(feature_imp)"
   ]
  },
  {
   "cell_type": "code",
   "execution_count": 67,
   "metadata": {},
   "outputs": [],
   "source": [
    "features = X_train.columns[sorted_idx]"
   ]
  },
  {
   "cell_type": "code",
   "execution_count": 70,
   "metadata": {},
   "outputs": [
    {
     "data": {
      "image/png": "[encoded data removed]",
      "text/plain": [
       "<Figure size 432x288 with 1 Axes>"
      ]
     },
     "metadata": {
      "needs_background": "light"
     },
     "output_type": "display_data"
    }
   ],
   "source": [
    "pos = np.arange(sorted_idx.shape[0]) + .5\n",
    "plt.barh(pos[:20], feature_imp[sorted_idx][:20])\n",
    "plt.yticks(pos[:20], features[sorted_idx][:20]);\n"
   ]
  },
  {
   "cell_type": "code",
   "execution_count": 72,
   "metadata": {},
   "outputs": [],
   "source": [
    "cols = features[sorted_idx][:12]"
   ]
  },
  {
   "cell_type": "code",
   "execution_count": 82,
   "metadata": {},
   "outputs": [],
   "source": [
    "X = df[cols]\n",
    "y = df['t.os']"
   ]
  },
  {
   "cell_type": "code",
   "execution_count": 83,
   "metadata": {},
   "outputs": [],
   "source": [
    "X_train, X_test, y_train, y_test = train_test_split(X, y, test_size = 0.1)"
   ]
  },
  {
   "cell_type": "code",
   "execution_count": 84,
   "metadata": {},
   "outputs": [
    {
     "data": {
      "text/plain": [
       "GradientBoostingRegressor(alpha=0.9, ccp_alpha=0.0, criterion='friedman_mse',\n",
       "                          init=None, learning_rate=0.01, loss='ls',\n",
       "                          max_depth=10, max_features=None, max_leaf_nodes=None,\n",
       "                          min_impurity_decrease=0.0, min_impurity_split=None,\n",
       "                          min_samples_leaf=1, min_samples_split=5,\n",
       "                          min_weight_fraction_leaf=0.0, n_estimators=500,\n",
       "                          n_iter_no_change=None, presort='deprecated',\n",
       "                          random_state=None, subsample=1.0, tol=0.0001,\n",
       "                          validation_fraction=0.1, verbose=0, warm_start=False)"
      ]
     },
     "execution_count": 84,
     "metadata": {},
     "output_type": "execute_result"
    }
   ],
   "source": [
    "gradboost.fit(X_train, y_train)"
   ]
  },
  {
   "cell_type": "code",
   "execution_count": 85,
   "metadata": {},
   "outputs": [
    {
     "data": {
      "text/plain": [
       "-0.32892805602383746"
      ]
     },
     "execution_count": 85,
     "metadata": {},
     "output_type": "execute_result"
    }
   ],
   "source": [
    "gradboost.score(X_test, y_test)"
   ]
  },
  {
   "cell_type": "code",
   "execution_count": 81,
   "metadata": {},
   "outputs": [
    {
     "data": {
      "text/plain": [
       "Index(['Histtype', 'Angioinv', 'Lymp_infil', 'node', 'grade', 'er', 't.rfs',\n",
       "       'e.rfs', 't.os', 'e.os', 't.dmfs', 'e.dmfs', 't.tdm', 'e.tdm', 'risksg',\n",
       "       'NPI', 'risknpi', 'AOL_os_10y', 'risk_AOL', 'veridex_risk'],\n",
       "      dtype='object')"
      ]
     },
     "execution_count": 81,
     "metadata": {},
     "output_type": "execute_result"
    }
   ],
   "source": []
  },
  {
   "cell_type": "code",
   "execution_count": null,
   "metadata": {},
   "outputs": [],
   "source": []
  }
 ],
 "metadata": {
  "kernelspec": {
   "display_name": "Python 3",
   "language": "python",
   "name": "python3"
  },
  "language_info": {
   "codemirror_mode": {
    "name": "ipython",
    "version": 3
   },
   "file_extension": ".py",
   "mimetype": "text/x-python",
   "name": "python",
   "nbconvert_exporter": "python",
   "pygments_lexer": "ipython3",
   "version": "3.7.6"
  }
 },
 "nbformat": 4,
 "nbformat_minor": 5
}
