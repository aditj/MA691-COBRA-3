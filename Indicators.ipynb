{
 "cells": [
  {
   "cell_type": "code",
   "execution_count": null,
   "metadata": {},
   "outputs": [],
   "source": []
  },
  {
   "cell_type": "code",
   "execution_count": null,
   "metadata": {},
   "outputs": [],
   "source": []
  },
  {
   "cell_type": "code",
   "execution_count": 228,
   "metadata": {},
   "outputs": [],
   "source": [
    "import pandas as pd\n",
    "import numpy as np\n",
    "from sklearn.metrics import r2_score\n",
    "import matplotlib.pyplot as plt\n",
    "from sklearn.ensemble import AdaBoostRegressor, GradientBoostingRegressor, RandomForestRegressor\n",
    "from sklearn.linear_model import LogisticRegression\n",
    "from sklearn.tree import DecisionTreeRegressor\n",
    "from sklearn.model_selection import train_test_split\n",
    "from sklearn.metrics import mean_squared_error    "
   ]
  },
  {
   "cell_type": "code",
   "execution_count": 229,
   "metadata": {},
   "outputs": [],
   "source": [
    "df = pd.read_csv(\"selected.csv\", index_col = False)\n",
    "df.drop([\"Unnamed: 0\"], inplace = True, axis = 1)"
   ]
  },
  {
   "cell_type": "code",
   "execution_count": 230,
   "metadata": {},
   "outputs": [],
   "source": [
    "df = df.replace(' NA', np.nan)\n",
    "df = df.replace('NA', np.nan)"
   ]
  },
  {
   "cell_type": "code",
   "execution_count": 231,
   "metadata": {},
   "outputs": [
    {
     "data": {
      "text/plain": [
       "217815_at        0\n",
       "204888_s_at      0\n",
       "218883_s_at      0\n",
       "211779_x_at      0\n",
       "221028_s_at      0\n",
       "218914_at        0\n",
       "203391_at        0\n",
       "204768_s_at      0\n",
       "risksg           1\n",
       "risknpi          2\n",
       "grade            2\n",
       "NPI              2\n",
       "Histtype         4\n",
       "Angioinv        77\n",
       "Lymp_infil     117\n",
       "dtype: int64"
      ]
     },
     "execution_count": 231,
     "metadata": {},
     "output_type": "execute_result"
    }
   ],
   "source": [
    "df.isna().sum(axis = 0).sort_values()[-15:]"
   ]
  },
  {
   "cell_type": "code",
   "execution_count": 232,
   "metadata": {},
   "outputs": [],
   "source": [
    "df['NPI'] = df['NPI'].astype('float')\n",
    "df['NPI'].replace(np.nan, df['NPI'].mean(), inplace = True)"
   ]
  },
  {
   "cell_type": "code",
   "execution_count": 233,
   "metadata": {},
   "outputs": [],
   "source": [
    "removals = ['t.rfs',\n",
    " 'e.rfs',\n",
    " 't.os',\n",
    " 'e.os',\n",
    " 't.dmfs',\n",
    " 'e.dmfs',\n",
    " 't.tdm',\n",
    " 'e.tdm', \"samplename\", \"id\",\"filename\",\"hospital\", 'Surgery_type', 'Histtype', 'Angioinv',\n",
    "       'Lymp_infil', 'node', 'grade', 'er', 'risksg', 'risknpi',\n",
    "        'risk_AOL', 'veridex_risk']\n",
    "rest = [i for i in df.columns if i not in removals]"
   ]
  },
  {
   "cell_type": "code",
   "execution_count": 234,
   "metadata": {},
   "outputs": [],
   "source": [
    "X = df[rest]\n",
    "X = X.replace(' NA', np.nan)\n",
    "X = X.replace(\"NA\", np.nan)\n",
    "X = X.dropna()"
   ]
  },
  {
   "cell_type": "code",
   "execution_count": 235,
   "metadata": {},
   "outputs": [
    {
     "data": {
      "text/html": [
       "<div>\n",
       "<style scoped>\n",
       "    .dataframe tbody tr th:only-of-type {\n",
       "        vertical-align: middle;\n",
       "    }\n",
       "\n",
       "    .dataframe tbody tr th {\n",
       "        vertical-align: top;\n",
       "    }\n",
       "\n",
       "    .dataframe thead th {\n",
       "        text-align: right;\n",
       "    }\n",
       "</style>\n",
       "<table border=\"1\" class=\"dataframe\">\n",
       "  <thead>\n",
       "    <tr style=\"text-align: right;\">\n",
       "      <th></th>\n",
       "      <th>219340_s_at</th>\n",
       "      <th>217771_at</th>\n",
       "      <th>202418_at</th>\n",
       "      <th>206295_at</th>\n",
       "      <th>201091_s_at</th>\n",
       "      <th>204015_s_at</th>\n",
       "      <th>200726_at</th>\n",
       "      <th>200965_s_at</th>\n",
       "      <th>210314_x_at</th>\n",
       "      <th>221882_s_at</th>\n",
       "      <th>...</th>\n",
       "      <th>204218_at</th>\n",
       "      <th>221241_s_at</th>\n",
       "      <th>209862_s_at</th>\n",
       "      <th>217019_at</th>\n",
       "      <th>210593_at</th>\n",
       "      <th>216103_at</th>\n",
       "      <th>age</th>\n",
       "      <th>size</th>\n",
       "      <th>NPI</th>\n",
       "      <th>AOL_os_10y</th>\n",
       "    </tr>\n",
       "  </thead>\n",
       "  <tbody>\n",
       "    <tr>\n",
       "      <th>0</th>\n",
       "      <td>7.014110</td>\n",
       "      <td>9.938705</td>\n",
       "      <td>11.053083</td>\n",
       "      <td>5.326001</td>\n",
       "      <td>10.964107</td>\n",
       "      <td>6.244280</td>\n",
       "      <td>10.926361</td>\n",
       "      <td>8.962608</td>\n",
       "      <td>10.523859</td>\n",
       "      <td>10.926365</td>\n",
       "      <td>...</td>\n",
       "      <td>8.319661</td>\n",
       "      <td>5.649573</td>\n",
       "      <td>8.180319</td>\n",
       "      <td>7.751753</td>\n",
       "      <td>4.528973</td>\n",
       "      <td>3.944944</td>\n",
       "      <td>57</td>\n",
       "      <td>3.0</td>\n",
       "      <td>4.60</td>\n",
       "      <td>62.7</td>\n",
       "    </tr>\n",
       "    <tr>\n",
       "      <th>1</th>\n",
       "      <td>7.326724</td>\n",
       "      <td>6.374728</td>\n",
       "      <td>10.596457</td>\n",
       "      <td>8.290123</td>\n",
       "      <td>11.594716</td>\n",
       "      <td>6.542130</td>\n",
       "      <td>12.242090</td>\n",
       "      <td>9.531718</td>\n",
       "      <td>10.342614</td>\n",
       "      <td>9.555092</td>\n",
       "      <td>...</td>\n",
       "      <td>9.118091</td>\n",
       "      <td>7.599788</td>\n",
       "      <td>8.332043</td>\n",
       "      <td>7.669779</td>\n",
       "      <td>4.190050</td>\n",
       "      <td>5.215237</td>\n",
       "      <td>57</td>\n",
       "      <td>3.0</td>\n",
       "      <td>4.60</td>\n",
       "      <td>69.0</td>\n",
       "    </tr>\n",
       "    <tr>\n",
       "      <th>2</th>\n",
       "      <td>6.974651</td>\n",
       "      <td>9.226757</td>\n",
       "      <td>10.834848</td>\n",
       "      <td>5.731169</td>\n",
       "      <td>9.166088</td>\n",
       "      <td>6.586000</td>\n",
       "      <td>11.661716</td>\n",
       "      <td>10.238680</td>\n",
       "      <td>10.144875</td>\n",
       "      <td>9.308048</td>\n",
       "      <td>...</td>\n",
       "      <td>8.927673</td>\n",
       "      <td>4.987613</td>\n",
       "      <td>9.023475</td>\n",
       "      <td>7.134818</td>\n",
       "      <td>6.538038</td>\n",
       "      <td>5.191881</td>\n",
       "      <td>48</td>\n",
       "      <td>2.5</td>\n",
       "      <td>4.50</td>\n",
       "      <td>66.2</td>\n",
       "    </tr>\n",
       "    <tr>\n",
       "      <th>3</th>\n",
       "      <td>7.703683</td>\n",
       "      <td>8.169183</td>\n",
       "      <td>11.627066</td>\n",
       "      <td>8.538247</td>\n",
       "      <td>9.086937</td>\n",
       "      <td>8.477335</td>\n",
       "      <td>12.174021</td>\n",
       "      <td>9.819279</td>\n",
       "      <td>10.888251</td>\n",
       "      <td>10.208241</td>\n",
       "      <td>...</td>\n",
       "      <td>9.292112</td>\n",
       "      <td>7.205051</td>\n",
       "      <td>8.374399</td>\n",
       "      <td>7.912452</td>\n",
       "      <td>7.230222</td>\n",
       "      <td>4.540211</td>\n",
       "      <td>42</td>\n",
       "      <td>1.8</td>\n",
       "      <td>4.36</td>\n",
       "      <td>84.9</td>\n",
       "    </tr>\n",
       "    <tr>\n",
       "      <th>4</th>\n",
       "      <td>6.581141</td>\n",
       "      <td>7.496745</td>\n",
       "      <td>11.500773</td>\n",
       "      <td>5.979282</td>\n",
       "      <td>8.887616</td>\n",
       "      <td>7.398170</td>\n",
       "      <td>11.484011</td>\n",
       "      <td>11.489233</td>\n",
       "      <td>9.702690</td>\n",
       "      <td>10.931843</td>\n",
       "      <td>...</td>\n",
       "      <td>9.166668</td>\n",
       "      <td>6.973316</td>\n",
       "      <td>7.599664</td>\n",
       "      <td>7.539716</td>\n",
       "      <td>6.421427</td>\n",
       "      <td>5.278598</td>\n",
       "      <td>46</td>\n",
       "      <td>3.0</td>\n",
       "      <td>3.60</td>\n",
       "      <td>80.2</td>\n",
       "    </tr>\n",
       "    <tr>\n",
       "      <th>...</th>\n",
       "      <td>...</td>\n",
       "      <td>...</td>\n",
       "      <td>...</td>\n",
       "      <td>...</td>\n",
       "      <td>...</td>\n",
       "      <td>...</td>\n",
       "      <td>...</td>\n",
       "      <td>...</td>\n",
       "      <td>...</td>\n",
       "      <td>...</td>\n",
       "      <td>...</td>\n",
       "      <td>...</td>\n",
       "      <td>...</td>\n",
       "      <td>...</td>\n",
       "      <td>...</td>\n",
       "      <td>...</td>\n",
       "      <td>...</td>\n",
       "      <td>...</td>\n",
       "      <td>...</td>\n",
       "      <td>...</td>\n",
       "      <td>...</td>\n",
       "    </tr>\n",
       "    <tr>\n",
       "      <th>193</th>\n",
       "      <td>6.954604</td>\n",
       "      <td>10.129438</td>\n",
       "      <td>10.888537</td>\n",
       "      <td>6.915913</td>\n",
       "      <td>10.740020</td>\n",
       "      <td>6.139044</td>\n",
       "      <td>12.018292</td>\n",
       "      <td>8.323876</td>\n",
       "      <td>8.839213</td>\n",
       "      <td>9.604668</td>\n",
       "      <td>...</td>\n",
       "      <td>9.681136</td>\n",
       "      <td>8.542533</td>\n",
       "      <td>7.888977</td>\n",
       "      <td>6.592585</td>\n",
       "      <td>4.429037</td>\n",
       "      <td>3.218512</td>\n",
       "      <td>39</td>\n",
       "      <td>2.2</td>\n",
       "      <td>4.44</td>\n",
       "      <td>67.7</td>\n",
       "    </tr>\n",
       "    <tr>\n",
       "      <th>194</th>\n",
       "      <td>4.108023</td>\n",
       "      <td>8.701039</td>\n",
       "      <td>10.908745</td>\n",
       "      <td>6.655799</td>\n",
       "      <td>11.145993</td>\n",
       "      <td>7.044179</td>\n",
       "      <td>11.711415</td>\n",
       "      <td>10.428482</td>\n",
       "      <td>9.634663</td>\n",
       "      <td>11.067820</td>\n",
       "      <td>...</td>\n",
       "      <td>8.937584</td>\n",
       "      <td>6.457199</td>\n",
       "      <td>9.263448</td>\n",
       "      <td>6.427916</td>\n",
       "      <td>6.215172</td>\n",
       "      <td>6.154912</td>\n",
       "      <td>46</td>\n",
       "      <td>3.2</td>\n",
       "      <td>4.64</td>\n",
       "      <td>62.7</td>\n",
       "    </tr>\n",
       "    <tr>\n",
       "      <th>195</th>\n",
       "      <td>5.667819</td>\n",
       "      <td>10.940586</td>\n",
       "      <td>10.464572</td>\n",
       "      <td>6.845962</td>\n",
       "      <td>10.463171</td>\n",
       "      <td>9.980030</td>\n",
       "      <td>11.939616</td>\n",
       "      <td>9.615587</td>\n",
       "      <td>9.424510</td>\n",
       "      <td>7.743568</td>\n",
       "      <td>...</td>\n",
       "      <td>9.079387</td>\n",
       "      <td>7.138855</td>\n",
       "      <td>8.577323</td>\n",
       "      <td>6.539374</td>\n",
       "      <td>7.436809</td>\n",
       "      <td>6.104234</td>\n",
       "      <td>47</td>\n",
       "      <td>2.5</td>\n",
       "      <td>2.50</td>\n",
       "      <td>87.6</td>\n",
       "    </tr>\n",
       "    <tr>\n",
       "      <th>196</th>\n",
       "      <td>7.466355</td>\n",
       "      <td>10.032314</td>\n",
       "      <td>10.894581</td>\n",
       "      <td>7.338324</td>\n",
       "      <td>8.609631</td>\n",
       "      <td>10.528216</td>\n",
       "      <td>11.848449</td>\n",
       "      <td>10.528911</td>\n",
       "      <td>10.517222</td>\n",
       "      <td>9.298178</td>\n",
       "      <td>...</td>\n",
       "      <td>9.504684</td>\n",
       "      <td>8.603733</td>\n",
       "      <td>8.079926</td>\n",
       "      <td>7.798234</td>\n",
       "      <td>5.624854</td>\n",
       "      <td>6.104978</td>\n",
       "      <td>43</td>\n",
       "      <td>1.2</td>\n",
       "      <td>3.24</td>\n",
       "      <td>89.6</td>\n",
       "    </tr>\n",
       "    <tr>\n",
       "      <th>197</th>\n",
       "      <td>6.429858</td>\n",
       "      <td>10.722343</td>\n",
       "      <td>11.692123</td>\n",
       "      <td>6.939691</td>\n",
       "      <td>9.011730</td>\n",
       "      <td>9.160088</td>\n",
       "      <td>11.425778</td>\n",
       "      <td>9.901486</td>\n",
       "      <td>9.631856</td>\n",
       "      <td>8.958376</td>\n",
       "      <td>...</td>\n",
       "      <td>8.687783</td>\n",
       "      <td>6.446787</td>\n",
       "      <td>7.909082</td>\n",
       "      <td>5.712037</td>\n",
       "      <td>3.876885</td>\n",
       "      <td>6.508481</td>\n",
       "      <td>39</td>\n",
       "      <td>2.5</td>\n",
       "      <td>4.50</td>\n",
       "      <td>67.7</td>\n",
       "    </tr>\n",
       "  </tbody>\n",
       "</table>\n",
       "<p>198 rows × 80 columns</p>\n",
       "</div>"
      ],
      "text/plain": [
       "     219340_s_at  217771_at  202418_at  206295_at  201091_s_at  204015_s_at  \\\n",
       "0       7.014110   9.938705  11.053083   5.326001    10.964107     6.244280   \n",
       "1       7.326724   6.374728  10.596457   8.290123    11.594716     6.542130   \n",
       "2       6.974651   9.226757  10.834848   5.731169     9.166088     6.586000   \n",
       "3       7.703683   8.169183  11.627066   8.538247     9.086937     8.477335   \n",
       "4       6.581141   7.496745  11.500773   5.979282     8.887616     7.398170   \n",
       "..           ...        ...        ...        ...          ...          ...   \n",
       "193     6.954604  10.129438  10.888537   6.915913    10.740020     6.139044   \n",
       "194     4.108023   8.701039  10.908745   6.655799    11.145993     7.044179   \n",
       "195     5.667819  10.940586  10.464572   6.845962    10.463171     9.980030   \n",
       "196     7.466355  10.032314  10.894581   7.338324     8.609631    10.528216   \n",
       "197     6.429858  10.722343  11.692123   6.939691     9.011730     9.160088   \n",
       "\n",
       "     200726_at  200965_s_at  210314_x_at  221882_s_at  ...  204218_at  \\\n",
       "0    10.926361     8.962608    10.523859    10.926365  ...   8.319661   \n",
       "1    12.242090     9.531718    10.342614     9.555092  ...   9.118091   \n",
       "2    11.661716    10.238680    10.144875     9.308048  ...   8.927673   \n",
       "3    12.174021     9.819279    10.888251    10.208241  ...   9.292112   \n",
       "4    11.484011    11.489233     9.702690    10.931843  ...   9.166668   \n",
       "..         ...          ...          ...          ...  ...        ...   \n",
       "193  12.018292     8.323876     8.839213     9.604668  ...   9.681136   \n",
       "194  11.711415    10.428482     9.634663    11.067820  ...   8.937584   \n",
       "195  11.939616     9.615587     9.424510     7.743568  ...   9.079387   \n",
       "196  11.848449    10.528911    10.517222     9.298178  ...   9.504684   \n",
       "197  11.425778     9.901486     9.631856     8.958376  ...   8.687783   \n",
       "\n",
       "     221241_s_at  209862_s_at  217019_at  210593_at  216103_at  age  size  \\\n",
       "0       5.649573     8.180319   7.751753   4.528973   3.944944   57   3.0   \n",
       "1       7.599788     8.332043   7.669779   4.190050   5.215237   57   3.0   \n",
       "2       4.987613     9.023475   7.134818   6.538038   5.191881   48   2.5   \n",
       "3       7.205051     8.374399   7.912452   7.230222   4.540211   42   1.8   \n",
       "4       6.973316     7.599664   7.539716   6.421427   5.278598   46   3.0   \n",
       "..           ...          ...        ...        ...        ...  ...   ...   \n",
       "193     8.542533     7.888977   6.592585   4.429037   3.218512   39   2.2   \n",
       "194     6.457199     9.263448   6.427916   6.215172   6.154912   46   3.2   \n",
       "195     7.138855     8.577323   6.539374   7.436809   6.104234   47   2.5   \n",
       "196     8.603733     8.079926   7.798234   5.624854   6.104978   43   1.2   \n",
       "197     6.446787     7.909082   5.712037   3.876885   6.508481   39   2.5   \n",
       "\n",
       "      NPI  AOL_os_10y  \n",
       "0    4.60        62.7  \n",
       "1    4.60        69.0  \n",
       "2    4.50        66.2  \n",
       "3    4.36        84.9  \n",
       "4    3.60        80.2  \n",
       "..    ...         ...  \n",
       "193  4.44        67.7  \n",
       "194  4.64        62.7  \n",
       "195  2.50        87.6  \n",
       "196  3.24        89.6  \n",
       "197  4.50        67.7  \n",
       "\n",
       "[198 rows x 80 columns]"
      ]
     },
     "execution_count": 235,
     "metadata": {},
     "output_type": "execute_result"
    }
   ],
   "source": [
    "X"
   ]
  },
  {
   "cell_type": "code",
   "execution_count": 236,
   "metadata": {},
   "outputs": [],
   "source": [
    "y = df[\"t.tdm\"]"
   ]
  },
  {
   "cell_type": "code",
   "execution_count": 237,
   "metadata": {},
   "outputs": [
    {
     "data": {
      "text/plain": [
       "<AxesSubplot:>"
      ]
     },
     "execution_count": 237,
     "metadata": {},
     "output_type": "execute_result"
    },
    {
     "data": {
      "image/png": "[encoded data removed]",
      "text/plain": [
       "<Figure size 432x288 with 1 Axes>"
      ]
     },
     "metadata": {
      "needs_background": "light"
     },
     "output_type": "display_data"
    }
   ],
   "source": [
    "y.hist()"
   ]
  },
  {
   "cell_type": "code",
   "execution_count": 238,
   "metadata": {},
   "outputs": [],
   "source": [
    "steps = 100\n",
    "indicators = np.arange(0,10000,steps)\n",
    "\n",
    "for indicator in indicators:\n",
    "    df['indi_'+str(indicator)]= y < indicator\n",
    "    "
   ]
  },
  {
   "cell_type": "code",
   "execution_count": 239,
   "metadata": {},
   "outputs": [],
   "source": [
    "X_train, X_test, y_train, y_test = train_test_split(X, df[['indi_'+str(indicator) for indicator in indicators]], test_size=0.33, random_state=42)\n"
   ]
  },
  {
   "cell_type": "code",
   "execution_count": 240,
   "metadata": {},
   "outputs": [],
   "source": [
    "columns = y_train.columns"
   ]
  },
  {
   "cell_type": "code",
   "execution_count": 241,
   "metadata": {},
   "outputs": [
    {
     "data": {
      "text/plain": [
       "Index(['indi_0', 'indi_100', 'indi_200', 'indi_300', 'indi_400', 'indi_500',\n",
       "       'indi_600', 'indi_700', 'indi_800', 'indi_900', 'indi_1000',\n",
       "       'indi_1100', 'indi_1200', 'indi_1300', 'indi_1400', 'indi_1500',\n",
       "       'indi_1600', 'indi_1700', 'indi_1800', 'indi_1900', 'indi_2000',\n",
       "       'indi_2100', 'indi_2200', 'indi_2300', 'indi_2400', 'indi_2500',\n",
       "       'indi_2600', 'indi_2700', 'indi_2800', 'indi_2900', 'indi_3000',\n",
       "       'indi_3100', 'indi_3200', 'indi_3300', 'indi_3400', 'indi_3500',\n",
       "       'indi_3600', 'indi_3700', 'indi_3800', 'indi_3900', 'indi_4000',\n",
       "       'indi_4100', 'indi_4200', 'indi_4300', 'indi_4400', 'indi_4500',\n",
       "       'indi_4600', 'indi_4700', 'indi_4800', 'indi_4900', 'indi_5000',\n",
       "       'indi_5100', 'indi_5200', 'indi_5300', 'indi_5400', 'indi_5500',\n",
       "       'indi_5600', 'indi_5700', 'indi_5800', 'indi_5900', 'indi_6000',\n",
       "       'indi_6100', 'indi_6200', 'indi_6300', 'indi_6400', 'indi_6500',\n",
       "       'indi_6600', 'indi_6700', 'indi_6800', 'indi_6900', 'indi_7000',\n",
       "       'indi_7100', 'indi_7200', 'indi_7300', 'indi_7400', 'indi_7500',\n",
       "       'indi_7600', 'indi_7700', 'indi_7800', 'indi_7900', 'indi_8000',\n",
       "       'indi_8100', 'indi_8200', 'indi_8300', 'indi_8400', 'indi_8500',\n",
       "       'indi_8600', 'indi_8700', 'indi_8800', 'indi_8900', 'indi_9000',\n",
       "       'indi_9100', 'indi_9200', 'indi_9300', 'indi_9400', 'indi_9500',\n",
       "       'indi_9600', 'indi_9700', 'indi_9800', 'indi_9900'],\n",
       "      dtype='object')"
      ]
     },
     "execution_count": 241,
     "metadata": {},
     "output_type": "execute_result"
    }
   ],
   "source": [
    "columns"
   ]
  },
  {
   "cell_type": "code",
   "execution_count": 247,
   "metadata": {},
   "outputs": [],
   "source": [
    "j = 0\n",
    "for i,column in enumerate(columns):\n",
    "    if( y_train[column].nunique()==1):\n",
    "        j+=1\n",
    "        y_test[\"predict_\" + column] = 0\n",
    "        y_test[\"survival_\" + column] = 1\n",
    "        y_test[\"survival_log_\" + column] = 0\n",
    "        y_test[\"hazard_\" + column] = 0\n",
    "\n",
    "        continue\n",
    "    clf = LogisticRegression(random_state=0,solver='liblinear').fit(X_train, y_train[column])\n",
    "    \n",
    "    \n",
    "    y_test[\"predict_\" + column] = clf.predict_proba(X_test)[:,1]\n",
    "    if(i>1):\n",
    "        y_test[\"predict_\" + column] =  np.maximum(y_test[\"predict_\" + columns[i-1]],y_test[\"predict_\" + column])\n",
    "        y_test[\"survival_simp\" + column] = 1 - y_test[\"predict_\" + column]\n",
    "        \n",
    "        y_test[\"survival_log_\" + column] = np.log(y_test[\"survival_simp\" + column])\n",
    "        y_test[\"hazard_\" + column] =( -  y_test[\"survival_log_\" + column] + y_test[\"survival_log_\" + columns[i-1]])/steps\n"
   ]
  },
  {
   "cell_type": "code",
   "execution_count": 248,
   "metadata": {},
   "outputs": [
    {
     "data": {
      "text/plain": [
       "[<matplotlib.lines.Line2D at 0x7f037f442510>]"
      ]
     },
     "execution_count": 248,
     "metadata": {},
     "output_type": "execute_result"
    },
    {
     "data": {
      "image/png": "[encoded data removed]",
      "text/plain": [
       "<Figure size 432x288 with 1 Axes>"
      ]
     },
     "metadata": {
      "needs_background": "light"
     },
     "output_type": "display_data"
    }
   ],
   "source": [
    "plt.plot(indicators,y_test.iloc[65,:][y_test.columns[y_test.columns.str.startswith(\"hazard_\")]].cumsum())"
   ]
  },
  {
   "cell_type": "markdown",
   "metadata": {},
   "source": [
    "### Issue: Prediction of probabilities is not turning out to be cummulative"
   ]
  },
  {
   "cell_type": "code",
   "execution_count": null,
   "metadata": {},
   "outputs": [],
   "source": []
  }
 ],
 "metadata": {
  "kernelspec": {
   "display_name": "Python 3",
   "language": "python",
   "name": "python3"
  },
  "language_info": {
   "codemirror_mode": {
    "name": "ipython",
    "version": 3
   },
   "file_extension": ".py",
   "mimetype": "text/x-python",
   "name": "python",
   "nbconvert_exporter": "python",
   "pygments_lexer": "ipython3",
   "version": "3.7.6"
  }
 },
 "nbformat": 4,
 "nbformat_minor": 4
}
