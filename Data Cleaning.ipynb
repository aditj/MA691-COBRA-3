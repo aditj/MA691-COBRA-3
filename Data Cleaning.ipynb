{
 "cells": [
  {
   "cell_type": "code",
   "execution_count": null,
   "metadata": {},
   "outputs": [],
   "source": [
    "### "
   ]
  },
  {
   "cell_type": "markdown",
   "metadata": {},
   "source": [
    "#### Installing Libraries"
   ]
  },
  {
   "cell_type": "code",
   "execution_count": 2,
   "metadata": {
    "collapsed": true,
    "jupyter": {
     "outputs_hidden": true
    }
   },
   "outputs": [
    {
     "name": "stdout",
     "output_type": "stream",
     "text": [
      "Collecting GEOparse\n",
      "  Downloading GEOparse-2.0.3.tar.gz (278 kB)\n",
      "\u001b[K     |████████████████████████████████| 278 kB 1.8 MB/s eta 0:00:01\n",
      "\u001b[?25hRequirement already satisfied: numpy>=1.7 in /home/adit/anaconda3/lib/python3.7/site-packages (from GEOparse) (1.19.2)\n",
      "Requirement already satisfied: pandas>=0.17 in /home/adit/.local/lib/python3.7/site-packages (from GEOparse) (1.0.3)\n",
      "Requirement already satisfied: requests>=2.21.0 in /home/adit/.local/lib/python3.7/site-packages (from GEOparse) (2.23.0)\n",
      "Requirement already satisfied: tqdm>=4.31.1 in /home/adit/anaconda3/lib/python3.7/site-packages (from GEOparse) (4.54.1)\n",
      "Requirement already satisfied: python-dateutil>=2.6.1 in /home/adit/anaconda3/lib/python3.7/site-packages (from pandas>=0.17->GEOparse) (2.8.1)\n",
      "Requirement already satisfied: pytz>=2017.2 in /home/adit/anaconda3/lib/python3.7/site-packages (from pandas>=0.17->GEOparse) (2020.4)\n",
      "Requirement already satisfied: chardet<4,>=3.0.2 in /home/adit/anaconda3/lib/python3.7/site-packages (from requests>=2.21.0->GEOparse) (3.0.4)\n",
      "Requirement already satisfied: certifi>=2017.4.17 in /home/adit/.local/lib/python3.7/site-packages (from requests>=2.21.0->GEOparse) (2019.11.28)\n",
      "Requirement already satisfied: idna<3,>=2.5 in /home/adit/.local/lib/python3.7/site-packages (from requests>=2.21.0->GEOparse) (2.9)\n",
      "Requirement already satisfied: urllib3!=1.25.0,!=1.25.1,<1.26,>=1.21.1 in /home/adit/.local/lib/python3.7/site-packages (from requests>=2.21.0->GEOparse) (1.25.8)\n",
      "Requirement already satisfied: six>=1.5 in /home/adit/anaconda3/lib/python3.7/site-packages (from python-dateutil>=2.6.1->pandas>=0.17->GEOparse) (1.15.0)\n",
      "Building wheels for collected packages: GEOparse\n",
      "  Building wheel for GEOparse (setup.py) ... \u001b[?25ldone\n",
      "\u001b[?25h  Created wheel for GEOparse: filename=GEOparse-2.0.3-py3-none-any.whl size=29032 sha256=5f3ede31684474614f7db3d4cc768814081f9aa461a47fec3a793faa683685b5\n",
      "  Stored in directory: /home/adit/.cache/pip/wheels/4d/15/e8/fbf3b47444215d9728c20d7b35436b50086aa67c2ad6dcedad\n",
      "Successfully built GEOparse\n",
      "Installing collected packages: GEOparse\n",
      "Successfully installed GEOparse-2.0.3\n",
      "\u001b[33mWARNING: You are using pip version 20.0.2; however, version 21.2.4 is available.\n",
      "You should consider upgrading via the '/home/adit/anaconda3/bin/python -m pip install --upgrade pip' command.\u001b[0m\n"
     ]
    }
   ],
   "source": [
    "!pip install GEOparse\n"
   ]
  },
  {
   "cell_type": "markdown",
   "metadata": {},
   "source": [
    "#### Importing Libraries"
   ]
  },
  {
   "cell_type": "code",
   "execution_count": 1,
   "metadata": {},
   "outputs": [],
   "source": [
    "import GEOparse\n",
    "import pandas as pd"
   ]
  },
  {
   "cell_type": "markdown",
   "metadata": {},
   "source": [
    "#### Loading Data"
   ]
  },
  {
   "cell_type": "code",
   "execution_count": 2,
   "metadata": {},
   "outputs": [],
   "source": [
    "gse = GEOparse.get_GEO(filepath=\"./GSE7390_family.soft.gz\",silent=True,)"
   ]
  },
  {
   "cell_type": "code",
   "execution_count": 12,
   "metadata": {},
   "outputs": [
    {
     "data": {
      "text/html": [
       "<div>\n",
       "<style scoped>\n",
       "    .dataframe tbody tr th:only-of-type {\n",
       "        vertical-align: middle;\n",
       "    }\n",
       "\n",
       "    .dataframe tbody tr th {\n",
       "        vertical-align: top;\n",
       "    }\n",
       "\n",
       "    .dataframe thead th {\n",
       "        text-align: right;\n",
       "    }\n",
       "</style>\n",
       "<table border=\"1\" class=\"dataframe\">\n",
       "  <thead>\n",
       "    <tr style=\"text-align: right;\">\n",
       "      <th></th>\n",
       "      <th>ID</th>\n",
       "      <th>GB_ACC</th>\n",
       "      <th>SPOT_ID</th>\n",
       "      <th>Species Scientific Name</th>\n",
       "      <th>Annotation Date</th>\n",
       "      <th>Sequence Type</th>\n",
       "      <th>Sequence Source</th>\n",
       "      <th>Target Description</th>\n",
       "      <th>Representative Public ID</th>\n",
       "      <th>Gene Title</th>\n",
       "      <th>Gene Symbol</th>\n",
       "      <th>ENTREZ_GENE_ID</th>\n",
       "      <th>RefSeq Transcript ID</th>\n",
       "      <th>Gene Ontology Biological Process</th>\n",
       "      <th>Gene Ontology Cellular Component</th>\n",
       "      <th>Gene Ontology Molecular Function</th>\n",
       "    </tr>\n",
       "  </thead>\n",
       "  <tbody>\n",
       "    <tr>\n",
       "      <th>0</th>\n",
       "      <td>1007_s_at</td>\n",
       "      <td>U48705</td>\n",
       "      <td>NaN</td>\n",
       "      <td>Homo sapiens</td>\n",
       "      <td>Oct 6, 2014</td>\n",
       "      <td>Exemplar sequence</td>\n",
       "      <td>Affymetrix Proprietary Database</td>\n",
       "      <td>U48705 /FEATURE=mRNA /DEFINITION=HSU48705 Huma...</td>\n",
       "      <td>U48705</td>\n",
       "      <td>discoidin domain receptor tyrosine kinase 1 //...</td>\n",
       "      <td>DDR1 /// MIR4640</td>\n",
       "      <td>780 /// 100616237</td>\n",
       "      <td>NM_001202521 /// NM_001202522 /// NM_001202523...</td>\n",
       "      <td>0001558 // regulation of cell growth // inferr...</td>\n",
       "      <td>0005576 // extracellular region // inferred fr...</td>\n",
       "      <td>0000166 // nucleotide binding // inferred from...</td>\n",
       "    </tr>\n",
       "    <tr>\n",
       "      <th>1</th>\n",
       "      <td>1053_at</td>\n",
       "      <td>M87338</td>\n",
       "      <td>NaN</td>\n",
       "      <td>Homo sapiens</td>\n",
       "      <td>Oct 6, 2014</td>\n",
       "      <td>Exemplar sequence</td>\n",
       "      <td>GenBank</td>\n",
       "      <td>M87338 /FEATURE= /DEFINITION=HUMA1SBU Human re...</td>\n",
       "      <td>M87338</td>\n",
       "      <td>replication factor C (activator 1) 2, 40kDa</td>\n",
       "      <td>RFC2</td>\n",
       "      <td>5982</td>\n",
       "      <td>NM_001278791 /// NM_001278792 /// NM_001278793...</td>\n",
       "      <td>0000278 // mitotic cell cycle // traceable aut...</td>\n",
       "      <td>0005634 // nucleus // inferred from electronic...</td>\n",
       "      <td>0000166 // nucleotide binding // inferred from...</td>\n",
       "    </tr>\n",
       "    <tr>\n",
       "      <th>2</th>\n",
       "      <td>117_at</td>\n",
       "      <td>X51757</td>\n",
       "      <td>NaN</td>\n",
       "      <td>Homo sapiens</td>\n",
       "      <td>Oct 6, 2014</td>\n",
       "      <td>Exemplar sequence</td>\n",
       "      <td>Affymetrix Proprietary Database</td>\n",
       "      <td>X51757 /FEATURE=cds /DEFINITION=HSP70B Human h...</td>\n",
       "      <td>X51757</td>\n",
       "      <td>heat shock 70kDa protein 6 (HSP70B')</td>\n",
       "      <td>HSPA6</td>\n",
       "      <td>3310</td>\n",
       "      <td>NM_002155</td>\n",
       "      <td>0000902 // cell morphogenesis // inferred from...</td>\n",
       "      <td>0005737 // cytoplasm // inferred from direct a...</td>\n",
       "      <td>0000166 // nucleotide binding // inferred from...</td>\n",
       "    </tr>\n",
       "    <tr>\n",
       "      <th>3</th>\n",
       "      <td>121_at</td>\n",
       "      <td>X69699</td>\n",
       "      <td>NaN</td>\n",
       "      <td>Homo sapiens</td>\n",
       "      <td>Oct 6, 2014</td>\n",
       "      <td>Exemplar sequence</td>\n",
       "      <td>GenBank</td>\n",
       "      <td>X69699 /FEATURE= /DEFINITION=HSPAX8A H.sapiens...</td>\n",
       "      <td>X69699</td>\n",
       "      <td>paired box 8</td>\n",
       "      <td>PAX8</td>\n",
       "      <td>7849</td>\n",
       "      <td>NM_003466 /// NM_013951 /// NM_013952 /// NM_0...</td>\n",
       "      <td>0001655 // urogenital system development // in...</td>\n",
       "      <td>0005634 // nucleus // inferred from direct ass...</td>\n",
       "      <td>0000979 // RNA polymerase II core promoter seq...</td>\n",
       "    </tr>\n",
       "    <tr>\n",
       "      <th>4</th>\n",
       "      <td>1255_g_at</td>\n",
       "      <td>L36861</td>\n",
       "      <td>NaN</td>\n",
       "      <td>Homo sapiens</td>\n",
       "      <td>Oct 6, 2014</td>\n",
       "      <td>Exemplar sequence</td>\n",
       "      <td>Affymetrix Proprietary Database</td>\n",
       "      <td>L36861 /FEATURE=expanded_cds /DEFINITION=HUMGC...</td>\n",
       "      <td>L36861</td>\n",
       "      <td>guanylate cyclase activator 1A (retina)</td>\n",
       "      <td>GUCA1A</td>\n",
       "      <td>2978</td>\n",
       "      <td>NM_000409 /// XM_006715073</td>\n",
       "      <td>0007165 // signal transduction // non-traceabl...</td>\n",
       "      <td>0001750 // photoreceptor outer segment // infe...</td>\n",
       "      <td>0005509 // calcium ion binding // inferred fro...</td>\n",
       "    </tr>\n",
       "    <tr>\n",
       "      <th>...</th>\n",
       "      <td>...</td>\n",
       "      <td>...</td>\n",
       "      <td>...</td>\n",
       "      <td>...</td>\n",
       "      <td>...</td>\n",
       "      <td>...</td>\n",
       "      <td>...</td>\n",
       "      <td>...</td>\n",
       "      <td>...</td>\n",
       "      <td>...</td>\n",
       "      <td>...</td>\n",
       "      <td>...</td>\n",
       "      <td>...</td>\n",
       "      <td>...</td>\n",
       "      <td>...</td>\n",
       "      <td>...</td>\n",
       "    </tr>\n",
       "    <tr>\n",
       "      <th>22278</th>\n",
       "      <td>AFFX-ThrX-5_at</td>\n",
       "      <td>NaN</td>\n",
       "      <td>--Control</td>\n",
       "      <td>Homo sapiens</td>\n",
       "      <td>Oct 6, 2014</td>\n",
       "      <td>Control sequence</td>\n",
       "      <td>Affymetrix Proprietary Database</td>\n",
       "      <td>B. subtilis /GEN=thrC /DB_XREF=gb:X04603.1 /NO...</td>\n",
       "      <td>AFFX-ThrX-5</td>\n",
       "      <td>NaN</td>\n",
       "      <td>NaN</td>\n",
       "      <td>NaN</td>\n",
       "      <td>NaN</td>\n",
       "      <td>NaN</td>\n",
       "      <td>NaN</td>\n",
       "      <td>NaN</td>\n",
       "    </tr>\n",
       "    <tr>\n",
       "      <th>22279</th>\n",
       "      <td>AFFX-ThrX-M_at</td>\n",
       "      <td>NaN</td>\n",
       "      <td>--Control</td>\n",
       "      <td>Homo sapiens</td>\n",
       "      <td>Oct 6, 2014</td>\n",
       "      <td>Control sequence</td>\n",
       "      <td>Affymetrix Proprietary Database</td>\n",
       "      <td>B. subtilis /GEN=thrC, thrB /DB_XREF=gb:X04603...</td>\n",
       "      <td>AFFX-ThrX-M</td>\n",
       "      <td>NaN</td>\n",
       "      <td>NaN</td>\n",
       "      <td>NaN</td>\n",
       "      <td>NaN</td>\n",
       "      <td>NaN</td>\n",
       "      <td>NaN</td>\n",
       "      <td>NaN</td>\n",
       "    </tr>\n",
       "    <tr>\n",
       "      <th>22280</th>\n",
       "      <td>AFFX-TrpnX-3_at</td>\n",
       "      <td>NaN</td>\n",
       "      <td>--Control</td>\n",
       "      <td>Homo sapiens</td>\n",
       "      <td>Oct 6, 2014</td>\n",
       "      <td>Control sequence</td>\n",
       "      <td>Affymetrix Proprietary Database</td>\n",
       "      <td>B. subtilis /GEN=trpC, trpF /DB_XREF=gb:K01391...</td>\n",
       "      <td>AFFX-TrpnX-3</td>\n",
       "      <td>NaN</td>\n",
       "      <td>NaN</td>\n",
       "      <td>NaN</td>\n",
       "      <td>NaN</td>\n",
       "      <td>NaN</td>\n",
       "      <td>NaN</td>\n",
       "      <td>NaN</td>\n",
       "    </tr>\n",
       "    <tr>\n",
       "      <th>22281</th>\n",
       "      <td>AFFX-TrpnX-5_at</td>\n",
       "      <td>NaN</td>\n",
       "      <td>--Control</td>\n",
       "      <td>Homo sapiens</td>\n",
       "      <td>Oct 6, 2014</td>\n",
       "      <td>Control sequence</td>\n",
       "      <td>Affymetrix Proprietary Database</td>\n",
       "      <td>B. subtilis /GEN=trpE, trpD /DB_XREF=gb:K01391...</td>\n",
       "      <td>AFFX-TrpnX-5</td>\n",
       "      <td>NaN</td>\n",
       "      <td>NaN</td>\n",
       "      <td>NaN</td>\n",
       "      <td>NaN</td>\n",
       "      <td>NaN</td>\n",
       "      <td>NaN</td>\n",
       "      <td>NaN</td>\n",
       "    </tr>\n",
       "    <tr>\n",
       "      <th>22282</th>\n",
       "      <td>AFFX-TrpnX-M_at</td>\n",
       "      <td>NaN</td>\n",
       "      <td>--Control</td>\n",
       "      <td>Homo sapiens</td>\n",
       "      <td>Oct 6, 2014</td>\n",
       "      <td>Control sequence</td>\n",
       "      <td>Affymetrix Proprietary Database</td>\n",
       "      <td>B. subtilis /GEN=trpD, trpC /DB_XREF=gb:K01391...</td>\n",
       "      <td>AFFX-TrpnX-M</td>\n",
       "      <td>NaN</td>\n",
       "      <td>NaN</td>\n",
       "      <td>NaN</td>\n",
       "      <td>NaN</td>\n",
       "      <td>NaN</td>\n",
       "      <td>NaN</td>\n",
       "      <td>NaN</td>\n",
       "    </tr>\n",
       "  </tbody>\n",
       "</table>\n",
       "<p>22283 rows × 16 columns</p>\n",
       "</div>"
      ],
      "text/plain": [
       "                    ID  GB_ACC    SPOT_ID Species Scientific Name  \\\n",
       "0            1007_s_at  U48705        NaN            Homo sapiens   \n",
       "1              1053_at  M87338        NaN            Homo sapiens   \n",
       "2               117_at  X51757        NaN            Homo sapiens   \n",
       "3               121_at  X69699        NaN            Homo sapiens   \n",
       "4            1255_g_at  L36861        NaN            Homo sapiens   \n",
       "...                ...     ...        ...                     ...   \n",
       "22278   AFFX-ThrX-5_at     NaN  --Control            Homo sapiens   \n",
       "22279   AFFX-ThrX-M_at     NaN  --Control            Homo sapiens   \n",
       "22280  AFFX-TrpnX-3_at     NaN  --Control            Homo sapiens   \n",
       "22281  AFFX-TrpnX-5_at     NaN  --Control            Homo sapiens   \n",
       "22282  AFFX-TrpnX-M_at     NaN  --Control            Homo sapiens   \n",
       "\n",
       "      Annotation Date      Sequence Type                  Sequence Source  \\\n",
       "0         Oct 6, 2014  Exemplar sequence  Affymetrix Proprietary Database   \n",
       "1         Oct 6, 2014  Exemplar sequence                          GenBank   \n",
       "2         Oct 6, 2014  Exemplar sequence  Affymetrix Proprietary Database   \n",
       "3         Oct 6, 2014  Exemplar sequence                          GenBank   \n",
       "4         Oct 6, 2014  Exemplar sequence  Affymetrix Proprietary Database   \n",
       "...               ...                ...                              ...   \n",
       "22278     Oct 6, 2014   Control sequence  Affymetrix Proprietary Database   \n",
       "22279     Oct 6, 2014   Control sequence  Affymetrix Proprietary Database   \n",
       "22280     Oct 6, 2014   Control sequence  Affymetrix Proprietary Database   \n",
       "22281     Oct 6, 2014   Control sequence  Affymetrix Proprietary Database   \n",
       "22282     Oct 6, 2014   Control sequence  Affymetrix Proprietary Database   \n",
       "\n",
       "                                      Target Description  \\\n",
       "0      U48705 /FEATURE=mRNA /DEFINITION=HSU48705 Huma...   \n",
       "1      M87338 /FEATURE= /DEFINITION=HUMA1SBU Human re...   \n",
       "2      X51757 /FEATURE=cds /DEFINITION=HSP70B Human h...   \n",
       "3      X69699 /FEATURE= /DEFINITION=HSPAX8A H.sapiens...   \n",
       "4      L36861 /FEATURE=expanded_cds /DEFINITION=HUMGC...   \n",
       "...                                                  ...   \n",
       "22278  B. subtilis /GEN=thrC /DB_XREF=gb:X04603.1 /NO...   \n",
       "22279  B. subtilis /GEN=thrC, thrB /DB_XREF=gb:X04603...   \n",
       "22280  B. subtilis /GEN=trpC, trpF /DB_XREF=gb:K01391...   \n",
       "22281  B. subtilis /GEN=trpE, trpD /DB_XREF=gb:K01391...   \n",
       "22282  B. subtilis /GEN=trpD, trpC /DB_XREF=gb:K01391...   \n",
       "\n",
       "      Representative Public ID  \\\n",
       "0                       U48705   \n",
       "1                       M87338   \n",
       "2                       X51757   \n",
       "3                       X69699   \n",
       "4                       L36861   \n",
       "...                        ...   \n",
       "22278              AFFX-ThrX-5   \n",
       "22279              AFFX-ThrX-M   \n",
       "22280             AFFX-TrpnX-3   \n",
       "22281             AFFX-TrpnX-5   \n",
       "22282             AFFX-TrpnX-M   \n",
       "\n",
       "                                              Gene Title       Gene Symbol  \\\n",
       "0      discoidin domain receptor tyrosine kinase 1 //...  DDR1 /// MIR4640   \n",
       "1            replication factor C (activator 1) 2, 40kDa              RFC2   \n",
       "2                   heat shock 70kDa protein 6 (HSP70B')             HSPA6   \n",
       "3                                           paired box 8              PAX8   \n",
       "4                guanylate cyclase activator 1A (retina)            GUCA1A   \n",
       "...                                                  ...               ...   \n",
       "22278                                                NaN               NaN   \n",
       "22279                                                NaN               NaN   \n",
       "22280                                                NaN               NaN   \n",
       "22281                                                NaN               NaN   \n",
       "22282                                                NaN               NaN   \n",
       "\n",
       "          ENTREZ_GENE_ID                               RefSeq Transcript ID  \\\n",
       "0      780 /// 100616237  NM_001202521 /// NM_001202522 /// NM_001202523...   \n",
       "1                   5982  NM_001278791 /// NM_001278792 /// NM_001278793...   \n",
       "2                   3310                                          NM_002155   \n",
       "3                   7849  NM_003466 /// NM_013951 /// NM_013952 /// NM_0...   \n",
       "4                   2978                         NM_000409 /// XM_006715073   \n",
       "...                  ...                                                ...   \n",
       "22278                NaN                                                NaN   \n",
       "22279                NaN                                                NaN   \n",
       "22280                NaN                                                NaN   \n",
       "22281                NaN                                                NaN   \n",
       "22282                NaN                                                NaN   \n",
       "\n",
       "                        Gene Ontology Biological Process  \\\n",
       "0      0001558 // regulation of cell growth // inferr...   \n",
       "1      0000278 // mitotic cell cycle // traceable aut...   \n",
       "2      0000902 // cell morphogenesis // inferred from...   \n",
       "3      0001655 // urogenital system development // in...   \n",
       "4      0007165 // signal transduction // non-traceabl...   \n",
       "...                                                  ...   \n",
       "22278                                                NaN   \n",
       "22279                                                NaN   \n",
       "22280                                                NaN   \n",
       "22281                                                NaN   \n",
       "22282                                                NaN   \n",
       "\n",
       "                        Gene Ontology Cellular Component  \\\n",
       "0      0005576 // extracellular region // inferred fr...   \n",
       "1      0005634 // nucleus // inferred from electronic...   \n",
       "2      0005737 // cytoplasm // inferred from direct a...   \n",
       "3      0005634 // nucleus // inferred from direct ass...   \n",
       "4      0001750 // photoreceptor outer segment // infe...   \n",
       "...                                                  ...   \n",
       "22278                                                NaN   \n",
       "22279                                                NaN   \n",
       "22280                                                NaN   \n",
       "22281                                                NaN   \n",
       "22282                                                NaN   \n",
       "\n",
       "                        Gene Ontology Molecular Function  \n",
       "0      0000166 // nucleotide binding // inferred from...  \n",
       "1      0000166 // nucleotide binding // inferred from...  \n",
       "2      0000166 // nucleotide binding // inferred from...  \n",
       "3      0000979 // RNA polymerase II core promoter seq...  \n",
       "4      0005509 // calcium ion binding // inferred fro...  \n",
       "...                                                  ...  \n",
       "22278                                                NaN  \n",
       "22279                                                NaN  \n",
       "22280                                                NaN  \n",
       "22281                                                NaN  \n",
       "22282                                                NaN  \n",
       "\n",
       "[22283 rows x 16 columns]"
      ]
     },
     "execution_count": 12,
     "metadata": {},
     "output_type": "execute_result"
    }
   ],
   "source": [
    "gse.gpls['GPL96'].table#.items()"
   ]
  },
  {
   "cell_type": "code",
   "execution_count": 15,
   "metadata": {},
   "outputs": [],
   "source": [
    "gsms = {}\n",
    "genes = {}\n",
    "gpls = {}\n",
    "for gsm_name, gsm in gse.gsms.items():\n",
    "#     for key, value in gsm.metadata.items():\n",
    "#         print(\" - %s : %s\" % (key, \", \".join(value)))\n",
    "    gsms[gsm_name] = gsm.metadata['characteristics_ch1']\n",
    "    genes[gsm_name] = gsm.table\n",
    "\n",
    "for gpl_name, gpl in gse.gpls.items():\n",
    "#     for key, value in gpl.metadata.items():\n",
    "#         print(\" - %s : %s\" % (key, \", \".join(value)))\n",
    "    gpls[gpl_name] = gpl.table\n"
   ]
  },
  {
   "cell_type": "code",
   "execution_count": 58,
   "metadata": {},
   "outputs": [],
   "source": [
    "df = []\n",
    "for name in gsms.keys():\n",
    "    d = dict(zip(genes[name]['ID_REF'],genes['GSM177885']['VALUE']))\n",
    "    d.update(dict([x.split(':') for x in gsms[name]]))\n",
    "    df += [d]"
   ]
  },
  {
   "cell_type": "code",
   "execution_count": 60,
   "metadata": {},
   "outputs": [],
   "source": [
    "df = pd.DataFrame(df)"
   ]
  },
  {
   "cell_type": "code",
   "execution_count": 62,
   "metadata": {},
   "outputs": [
    {
     "name": "stdout",
     "output_type": "stream",
     "text": [
      "<class 'pandas.core.frame.DataFrame'>\n",
      "RangeIndex: 198 entries, 0 to 197\n",
      "Columns: 22310 entries, 1007_s_at to veridex_risk\n",
      "dtypes: float64(22283), object(27)\n",
      "memory usage: 33.7+ MB\n"
     ]
    }
   ],
   "source": [
    "df.info()"
   ]
  },
  {
   "cell_type": "code",
   "execution_count": 65,
   "metadata": {},
   "outputs": [],
   "source": [
    "df.to_csv(\"cleaned_data.csv\")"
   ]
  },
  {
   "cell_type": "markdown",
   "metadata": {},
   "source": [
    "### Selecting only certain rows"
   ]
  },
  {
   "cell_type": "code",
   "execution_count": 13,
   "metadata": {},
   "outputs": [
    {
     "name": "stderr",
     "output_type": "stream",
     "text": [
      "/home/adit/anaconda3/lib/python3.7/site-packages/IPython/core/interactiveshell.py:3147: DtypeWarning: Columns (22285,22291,22292,22295,22305,22306,22307) have mixed types.Specify dtype option on import or set low_memory=False.\n",
      "  interactivity=interactivity, compiler=compiler, result=result)\n"
     ]
    }
   ],
   "source": [
    "df = pd.read_csv(\"cleaned_data.csv\")"
   ]
  },
  {
   "cell_type": "code",
   "execution_count": 17,
   "metadata": {},
   "outputs": [
    {
     "data": {
      "text/plain": [
       "0    142\n",
       "1     56\n",
       "Name: e.os, dtype: int64"
      ]
     },
     "execution_count": 17,
     "metadata": {},
     "output_type": "execute_result"
    }
   ],
   "source": [
    "df['e.os'].value_counts()"
   ]
  },
  {
   "cell_type": "code",
   "execution_count": 18,
   "metadata": {},
   "outputs": [],
   "source": [
    "gene = pd.read_csv(\"gene.csv\")"
   ]
  },
  {
   "cell_type": "code",
   "execution_count": 26,
   "metadata": {},
   "outputs": [],
   "source": [
    "relevant_genes = gene[\"Gene\"].values"
   ]
  },
  {
   "cell_type": "code",
   "execution_count": 60,
   "metadata": {},
   "outputs": [
    {
     "data": {
      "text/plain": [
       "Index(['AFFX-TrpnX-M_at', 'samplename', 'id', 'filename', 'hospital', 'age',\n",
       "       'size', 'Surgery_type', 'Histtype', 'Angioinv', 'Lymp_infil', 'node',\n",
       "       'grade', 'er', 't.rfs', 'e.rfs', 't.os', 'e.os', 't.dmfs', 'e.dmfs',\n",
       "       't.tdm', 'e.tdm', 'risksg', 'NPI', 'risknpi', 'AOL_os_10y', 'risk_AOL',\n",
       "       'veridex_risk'],\n",
       "      dtype='object')"
      ]
     },
     "execution_count": 60,
     "metadata": {},
     "output_type": "execute_result"
    }
   ],
   "source": [
    "df.columns[-28:]"
   ]
  },
  {
   "cell_type": "code",
   "execution_count": 62,
   "metadata": {},
   "outputs": [],
   "source": [
    "selected = df[list(relevant_genes) + ['samplename', 'id', 'filename', 'hospital', 'age',\n",
    "       'size', 'Surgery_type', 'Histtype', 'Angioinv', 'Lymp_infil', 'node',\n",
    "       'grade', 'er', 't.rfs', 'e.rfs', 't.os', 'e.os', 't.dmfs', 'e.dmfs',\n",
    "       't.tdm', 'e.tdm', 'risksg', 'NPI', 'risknpi', 'AOL_os_10y', 'risk_AOL',\n",
    "       'veridex_risk']]"
   ]
  },
  {
   "cell_type": "code",
   "execution_count": 64,
   "metadata": {},
   "outputs": [],
   "source": [
    "selected.to_csv(\"selected.csv\")"
   ]
  },
  {
   "cell_type": "code",
   "execution_count": 67,
   "metadata": {},
   "outputs": [
    {
     "data": {
      "text/plain": [
       "0       723\n",
       "1      6591\n",
       "2       524\n",
       "3      6255\n",
       "4      3822\n",
       "       ... \n",
       "193    5673\n",
       "194     404\n",
       "195    2225\n",
       "196    2722\n",
       "197    1781\n",
       "Name: t.dmfs, Length: 198, dtype: int64"
      ]
     },
     "execution_count": 67,
     "metadata": {},
     "output_type": "execute_result"
    }
   ],
   "source": [
    "selected['t.dmfs'] > selected['t.tdm']"
   ]
  },
  {
   "cell_type": "code",
   "execution_count": null,
   "metadata": {},
   "outputs": [],
   "source": []
  }
 ],
 "metadata": {
  "kernelspec": {
   "display_name": "Python 3",
   "language": "python",
   "name": "python3"
  },
  "language_info": {
   "codemirror_mode": {
    "name": "ipython",
    "version": 3
   },
   "file_extension": ".py",
   "mimetype": "text/x-python",
   "name": "python",
   "nbconvert_exporter": "python",
   "pygments_lexer": "ipython3",
   "version": "3.7.6"
  }
 },
 "nbformat": 4,
 "nbformat_minor": 4
}
