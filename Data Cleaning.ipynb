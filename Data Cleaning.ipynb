{
 "cells": [
  {
   "cell_type": "code",
   "execution_count": null,
   "metadata": {},
   "outputs": [],
   "source": [
    "### "
   ]
  },
  {
   "cell_type": "markdown",
   "metadata": {},
   "source": [
    "#### Installing Libraries"
   ]
  },
  {
   "cell_type": "code",
   "execution_count": 2,
   "metadata": {
    "collapsed": true,
    "jupyter": {
     "outputs_hidden": true
    }
   },
   "outputs": [
    {
     "name": "stdout",
     "output_type": "stream",
     "text": [
      "Collecting GEOparse\n",
      "  Downloading GEOparse-2.0.3.tar.gz (278 kB)\n",
      "\u001b[K     |████████████████████████████████| 278 kB 1.8 MB/s eta 0:00:01\n",
      "\u001b[?25hRequirement already satisfied: numpy>=1.7 in /home/adit/anaconda3/lib/python3.7/site-packages (from GEOparse) (1.19.2)\n",
      "Requirement already satisfied: pandas>=0.17 in /home/adit/.local/lib/python3.7/site-packages (from GEOparse) (1.0.3)\n",
      "Requirement already satisfied: requests>=2.21.0 in /home/adit/.local/lib/python3.7/site-packages (from GEOparse) (2.23.0)\n",
      "Requirement already satisfied: tqdm>=4.31.1 in /home/adit/anaconda3/lib/python3.7/site-packages (from GEOparse) (4.54.1)\n",
      "Requirement already satisfied: python-dateutil>=2.6.1 in /home/adit/anaconda3/lib/python3.7/site-packages (from pandas>=0.17->GEOparse) (2.8.1)\n",
      "Requirement already satisfied: pytz>=2017.2 in /home/adit/anaconda3/lib/python3.7/site-packages (from pandas>=0.17->GEOparse) (2020.4)\n",
      "Requirement already satisfied: chardet<4,>=3.0.2 in /home/adit/anaconda3/lib/python3.7/site-packages (from requests>=2.21.0->GEOparse) (3.0.4)\n",
      "Requirement already satisfied: certifi>=2017.4.17 in /home/adit/.local/lib/python3.7/site-packages (from requests>=2.21.0->GEOparse) (2019.11.28)\n",
      "Requirement already satisfied: idna<3,>=2.5 in /home/adit/.local/lib/python3.7/site-packages (from requests>=2.21.0->GEOparse) (2.9)\n",
      "Requirement already satisfied: urllib3!=1.25.0,!=1.25.1,<1.26,>=1.21.1 in /home/adit/.local/lib/python3.7/site-packages (from requests>=2.21.0->GEOparse) (1.25.8)\n",
      "Requirement already satisfied: six>=1.5 in /home/adit/anaconda3/lib/python3.7/site-packages (from python-dateutil>=2.6.1->pandas>=0.17->GEOparse) (1.15.0)\n",
      "Building wheels for collected packages: GEOparse\n",
      "  Building wheel for GEOparse (setup.py) ... \u001b[?25ldone\n",
      "\u001b[?25h  Created wheel for GEOparse: filename=GEOparse-2.0.3-py3-none-any.whl size=29032 sha256=5f3ede31684474614f7db3d4cc768814081f9aa461a47fec3a793faa683685b5\n",
      "  Stored in directory: /home/adit/.cache/pip/wheels/4d/15/e8/fbf3b47444215d9728c20d7b35436b50086aa67c2ad6dcedad\n",
      "Successfully built GEOparse\n",
      "Installing collected packages: GEOparse\n",
      "Successfully installed GEOparse-2.0.3\n",
      "\u001b[33mWARNING: You are using pip version 20.0.2; however, version 21.2.4 is available.\n",
      "You should consider upgrading via the '/home/adit/anaconda3/bin/python -m pip install --upgrade pip' command.\u001b[0m\n"
     ]
    }
   ],
   "source": [
    "!pip install GEOparse\n"
   ]
  },
  {
   "cell_type": "markdown",
   "metadata": {},
   "source": [
    "#### Importing Libraries"
   ]
  },
  {
   "cell_type": "code",
   "execution_count": 1,
   "metadata": {},
   "outputs": [],
   "source": [
    "import GEOparse\n",
    "import pandas as pd"
   ]
  },
  {
   "cell_type": "markdown",
   "metadata": {},
   "source": [
    "#### Loading Data"
   ]
  },
  {
   "cell_type": "code",
   "execution_count": 2,
   "metadata": {},
   "outputs": [],
   "source": [
    "gse = GEOparse.get_GEO(filepath=\"./GSE7390_family.soft.gz\",silent=True,)"
   ]
  },
  {
   "cell_type": "code",
   "execution_count": 15,
   "metadata": {},
   "outputs": [],
   "source": [
    "gsms = {}\n",
    "genes = {}\n",
    "gpls = {}\n",
    "for gsm_name, gsm in gse.gsms.items():\n",
    "#     for key, value in gsm.metadata.items():\n",
    "#         print(\" - %s : %s\" % (key, \", \".join(value)))\n",
    "    gsms[gsm_name] = gsm.metadata['characteristics_ch1']\n",
    "    genes[gsm_name] = gsm.table\n",
    "\n",
    "for gpl_name, gpl in gse.gpls.items():\n",
    "#     for key, value in gpl.metadata.items():\n",
    "#         print(\" - %s : %s\" % (key, \", \".join(value)))\n",
    "    gpls[gpl_name] = gpl.table\n"
   ]
  },
  {
   "cell_type": "code",
   "execution_count": 58,
   "metadata": {},
   "outputs": [],
   "source": [
    "df = []\n",
    "for name in gsms.keys():\n",
    "    d = dict(zip(genes[name]['ID_REF'],genes['GSM177885']['VALUE']))\n",
    "    d.update(dict([x.split(':') for x in gsms[name]]))\n",
    "    df += [d]"
   ]
  },
  {
   "cell_type": "code",
   "execution_count": 60,
   "metadata": {},
   "outputs": [],
   "source": [
    "df = pd.DataFrame(df)"
   ]
  },
  {
   "cell_type": "code",
   "execution_count": 62,
   "metadata": {},
   "outputs": [
    {
     "name": "stdout",
     "output_type": "stream",
     "text": [
      "<class 'pandas.core.frame.DataFrame'>\n",
      "RangeIndex: 198 entries, 0 to 197\n",
      "Columns: 22310 entries, 1007_s_at to veridex_risk\n",
      "dtypes: float64(22283), object(27)\n",
      "memory usage: 33.7+ MB\n"
     ]
    }
   ],
   "source": [
    "df.info()"
   ]
  },
  {
   "cell_type": "code",
   "execution_count": 65,
   "metadata": {},
   "outputs": [],
   "source": [
    "df.to_csv(\"cleaned_data.csv\")"
   ]
  },
  {
   "cell_type": "markdown",
   "metadata": {},
   "source": [
    "### Selecting only certain rows"
   ]
  },
  {
   "cell_type": "code",
   "execution_count": null,
   "metadata": {},
   "outputs": [],
   "source": [
    "df"
   ]
  }
 ],
 "metadata": {
  "kernelspec": {
   "display_name": "Python 3",
   "language": "python",
   "name": "python3"
  },
  "language_info": {
   "codemirror_mode": {
    "name": "ipython",
    "version": 3
   },
   "file_extension": ".py",
   "mimetype": "text/x-python",
   "name": "python",
   "nbconvert_exporter": "python",
   "pygments_lexer": "ipython3",
   "version": "3.7.6"
  }
 },
 "nbformat": 4,
 "nbformat_minor": 4
}
