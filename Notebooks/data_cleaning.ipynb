{
 "cells": [
  {
   "cell_type": "markdown",
   "metadata": {},
   "source": [
    "#### Installing Libraries"
   ]
  },
  {
   "cell_type": "code",
   "execution_count": 3,
   "metadata": {
    "collapsed": true,
    "jupyter": {
     "outputs_hidden": true
    }
   },
   "outputs": [
    {
     "name": "stdout",
     "output_type": "stream",
     "text": [
      "Collecting GEOparse\n",
      "  Downloading GEOparse-2.0.3.tar.gz (278 kB)\n",
      "\u001b[K     |████████████████████████████████| 278 kB 733 kB/s eta 0:00:01\n",
      "\u001b[?25hRequirement already satisfied: numpy>=1.7 in /home/kousik/.local/lib/python3.8/site-packages (from GEOparse) (1.18.1)\n",
      "Requirement already satisfied: pandas>=0.17 in /home/kousik/.local/lib/python3.8/site-packages (from GEOparse) (1.2.4)\n",
      "Requirement already satisfied: requests>=2.21.0 in /usr/lib/python3/dist-packages (from GEOparse) (2.22.0)\n",
      "Requirement already satisfied: tqdm>=4.31.1 in /home/kousik/.local/lib/python3.8/site-packages (from GEOparse) (4.62.2)\n",
      "Requirement already satisfied: python-dateutil>=2.7.3 in /usr/lib/python3/dist-packages (from pandas>=0.17->GEOparse) (2.7.3)\n",
      "Requirement already satisfied: pytz>=2017.3 in /usr/lib/python3/dist-packages (from pandas>=0.17->GEOparse) (2019.3)\n",
      "Building wheels for collected packages: GEOparse\n",
      "  Building wheel for GEOparse (setup.py) ... \u001b[?25ldone\n",
      "\u001b[?25h  Created wheel for GEOparse: filename=GEOparse-2.0.3-py3-none-any.whl size=29030 sha256=8642d58fb634d2bed4229e7335867c8b8175ef7dad74e45e06db5bdeb872da45\n",
      "  Stored in directory: /home/kousik/.cache/pip/wheels/7a/75/14/727a857e321c5e5590d7e58efe9f028d753d340cea4ee540f0\n",
      "Successfully built GEOparse\n",
      "Installing collected packages: GEOparse\n",
      "Successfully installed GEOparse-2.0.3\n"
     ]
    }
   ],
   "source": [
    "# !pip install GEOparse"
   ]
  },
  {
   "cell_type": "markdown",
   "metadata": {},
   "source": [
    "#### Importing Libraries"
   ]
  },
  {
   "cell_type": "code",
   "execution_count": 2,
   "metadata": {},
   "outputs": [],
   "source": [
    "import GEOparse\n",
    "import pandas as pd"
   ]
  },
  {
   "cell_type": "markdown",
   "metadata": {},
   "source": [
    "#### Loading Data"
   ]
  },
  {
   "cell_type": "code",
   "execution_count": 3,
   "metadata": {},
   "outputs": [],
   "source": [
    "gse = GEOparse.get_GEO(filepath=\"../Data/GSE7390_family.soft.gz\",silent=True,)"
   ]
  },
  {
   "cell_type": "code",
   "execution_count": 4,
   "metadata": {},
   "outputs": [
    {
     "data": {
      "text/html": [
       "<div>\n",
       "<style scoped>\n",
       "    .dataframe tbody tr th:only-of-type {\n",
       "        vertical-align: middle;\n",
       "    }\n",
       "\n",
       "    .dataframe tbody tr th {\n",
       "        vertical-align: top;\n",
       "    }\n",
       "\n",
       "    .dataframe thead th {\n",
       "        text-align: right;\n",
       "    }\n",
       "</style>\n",
       "<table border=\"1\" class=\"dataframe\">\n",
       "  <thead>\n",
       "    <tr style=\"text-align: right;\">\n",
       "      <th></th>\n",
       "      <th>ID</th>\n",
       "      <th>GB_ACC</th>\n",
       "      <th>SPOT_ID</th>\n",
       "      <th>Species Scientific Name</th>\n",
       "      <th>Annotation Date</th>\n",
       "      <th>Sequence Type</th>\n",
       "      <th>Sequence Source</th>\n",
       "      <th>Target Description</th>\n",
       "      <th>Representative Public ID</th>\n",
       "      <th>Gene Title</th>\n",
       "      <th>Gene Symbol</th>\n",
       "      <th>ENTREZ_GENE_ID</th>\n",
       "      <th>RefSeq Transcript ID</th>\n",
       "      <th>Gene Ontology Biological Process</th>\n",
       "      <th>Gene Ontology Cellular Component</th>\n",
       "      <th>Gene Ontology Molecular Function</th>\n",
       "    </tr>\n",
       "  </thead>\n",
       "  <tbody>\n",
       "    <tr>\n",
       "      <th>0</th>\n",
       "      <td>1007_s_at</td>\n",
       "      <td>U48705</td>\n",
       "      <td>NaN</td>\n",
       "      <td>Homo sapiens</td>\n",
       "      <td>Oct 6, 2014</td>\n",
       "      <td>Exemplar sequence</td>\n",
       "      <td>Affymetrix Proprietary Database</td>\n",
       "      <td>U48705 /FEATURE=mRNA /DEFINITION=HSU48705 Huma...</td>\n",
       "      <td>U48705</td>\n",
       "      <td>discoidin domain receptor tyrosine kinase 1 //...</td>\n",
       "      <td>DDR1 /// MIR4640</td>\n",
       "      <td>780 /// 100616237</td>\n",
       "      <td>NM_001202521 /// NM_001202522 /// NM_001202523...</td>\n",
       "      <td>0001558 // regulation of cell growth // inferr...</td>\n",
       "      <td>0005576 // extracellular region // inferred fr...</td>\n",
       "      <td>0000166 // nucleotide binding // inferred from...</td>\n",
       "    </tr>\n",
       "    <tr>\n",
       "      <th>1</th>\n",
       "      <td>1053_at</td>\n",
       "      <td>M87338</td>\n",
       "      <td>NaN</td>\n",
       "      <td>Homo sapiens</td>\n",
       "      <td>Oct 6, 2014</td>\n",
       "      <td>Exemplar sequence</td>\n",
       "      <td>GenBank</td>\n",
       "      <td>M87338 /FEATURE= /DEFINITION=HUMA1SBU Human re...</td>\n",
       "      <td>M87338</td>\n",
       "      <td>replication factor C (activator 1) 2, 40kDa</td>\n",
       "      <td>RFC2</td>\n",
       "      <td>5982</td>\n",
       "      <td>NM_001278791 /// NM_001278792 /// NM_001278793...</td>\n",
       "      <td>0000278 // mitotic cell cycle // traceable aut...</td>\n",
       "      <td>0005634 // nucleus // inferred from electronic...</td>\n",
       "      <td>0000166 // nucleotide binding // inferred from...</td>\n",
       "    </tr>\n",
       "    <tr>\n",
       "      <th>2</th>\n",
       "      <td>117_at</td>\n",
       "      <td>X51757</td>\n",
       "      <td>NaN</td>\n",
       "      <td>Homo sapiens</td>\n",
       "      <td>Oct 6, 2014</td>\n",
       "      <td>Exemplar sequence</td>\n",
       "      <td>Affymetrix Proprietary Database</td>\n",
       "      <td>X51757 /FEATURE=cds /DEFINITION=HSP70B Human h...</td>\n",
       "      <td>X51757</td>\n",
       "      <td>heat shock 70kDa protein 6 (HSP70B')</td>\n",
       "      <td>HSPA6</td>\n",
       "      <td>3310</td>\n",
       "      <td>NM_002155</td>\n",
       "      <td>0000902 // cell morphogenesis // inferred from...</td>\n",
       "      <td>0005737 // cytoplasm // inferred from direct a...</td>\n",
       "      <td>0000166 // nucleotide binding // inferred from...</td>\n",
       "    </tr>\n",
       "    <tr>\n",
       "      <th>3</th>\n",
       "      <td>121_at</td>\n",
       "      <td>X69699</td>\n",
       "      <td>NaN</td>\n",
       "      <td>Homo sapiens</td>\n",
       "      <td>Oct 6, 2014</td>\n",
       "      <td>Exemplar sequence</td>\n",
       "      <td>GenBank</td>\n",
       "      <td>X69699 /FEATURE= /DEFINITION=HSPAX8A H.sapiens...</td>\n",
       "      <td>X69699</td>\n",
       "      <td>paired box 8</td>\n",
       "      <td>PAX8</td>\n",
       "      <td>7849</td>\n",
       "      <td>NM_003466 /// NM_013951 /// NM_013952 /// NM_0...</td>\n",
       "      <td>0001655 // urogenital system development // in...</td>\n",
       "      <td>0005634 // nucleus // inferred from direct ass...</td>\n",
       "      <td>0000979 // RNA polymerase II core promoter seq...</td>\n",
       "    </tr>\n",
       "    <tr>\n",
       "      <th>4</th>\n",
       "      <td>1255_g_at</td>\n",
       "      <td>L36861</td>\n",
       "      <td>NaN</td>\n",
       "      <td>Homo sapiens</td>\n",
       "      <td>Oct 6, 2014</td>\n",
       "      <td>Exemplar sequence</td>\n",
       "      <td>Affymetrix Proprietary Database</td>\n",
       "      <td>L36861 /FEATURE=expanded_cds /DEFINITION=HUMGC...</td>\n",
       "      <td>L36861</td>\n",
       "      <td>guanylate cyclase activator 1A (retina)</td>\n",
       "      <td>GUCA1A</td>\n",
       "      <td>2978</td>\n",
       "      <td>NM_000409 /// XM_006715073</td>\n",
       "      <td>0007165 // signal transduction // non-traceabl...</td>\n",
       "      <td>0001750 // photoreceptor outer segment // infe...</td>\n",
       "      <td>0005509 // calcium ion binding // inferred fro...</td>\n",
       "    </tr>\n",
       "  </tbody>\n",
       "</table>\n",
       "</div>"
      ],
      "text/plain": [
       "          ID  GB_ACC SPOT_ID Species Scientific Name Annotation Date  \\\n",
       "0  1007_s_at  U48705     NaN            Homo sapiens     Oct 6, 2014   \n",
       "1    1053_at  M87338     NaN            Homo sapiens     Oct 6, 2014   \n",
       "2     117_at  X51757     NaN            Homo sapiens     Oct 6, 2014   \n",
       "3     121_at  X69699     NaN            Homo sapiens     Oct 6, 2014   \n",
       "4  1255_g_at  L36861     NaN            Homo sapiens     Oct 6, 2014   \n",
       "\n",
       "       Sequence Type                  Sequence Source  \\\n",
       "0  Exemplar sequence  Affymetrix Proprietary Database   \n",
       "1  Exemplar sequence                          GenBank   \n",
       "2  Exemplar sequence  Affymetrix Proprietary Database   \n",
       "3  Exemplar sequence                          GenBank   \n",
       "4  Exemplar sequence  Affymetrix Proprietary Database   \n",
       "\n",
       "                                  Target Description Representative Public ID  \\\n",
       "0  U48705 /FEATURE=mRNA /DEFINITION=HSU48705 Huma...                   U48705   \n",
       "1  M87338 /FEATURE= /DEFINITION=HUMA1SBU Human re...                   M87338   \n",
       "2  X51757 /FEATURE=cds /DEFINITION=HSP70B Human h...                   X51757   \n",
       "3  X69699 /FEATURE= /DEFINITION=HSPAX8A H.sapiens...                   X69699   \n",
       "4  L36861 /FEATURE=expanded_cds /DEFINITION=HUMGC...                   L36861   \n",
       "\n",
       "                                          Gene Title       Gene Symbol  \\\n",
       "0  discoidin domain receptor tyrosine kinase 1 //...  DDR1 /// MIR4640   \n",
       "1        replication factor C (activator 1) 2, 40kDa              RFC2   \n",
       "2               heat shock 70kDa protein 6 (HSP70B')             HSPA6   \n",
       "3                                       paired box 8              PAX8   \n",
       "4            guanylate cyclase activator 1A (retina)            GUCA1A   \n",
       "\n",
       "      ENTREZ_GENE_ID                               RefSeq Transcript ID  \\\n",
       "0  780 /// 100616237  NM_001202521 /// NM_001202522 /// NM_001202523...   \n",
       "1               5982  NM_001278791 /// NM_001278792 /// NM_001278793...   \n",
       "2               3310                                          NM_002155   \n",
       "3               7849  NM_003466 /// NM_013951 /// NM_013952 /// NM_0...   \n",
       "4               2978                         NM_000409 /// XM_006715073   \n",
       "\n",
       "                    Gene Ontology Biological Process  \\\n",
       "0  0001558 // regulation of cell growth // inferr...   \n",
       "1  0000278 // mitotic cell cycle // traceable aut...   \n",
       "2  0000902 // cell morphogenesis // inferred from...   \n",
       "3  0001655 // urogenital system development // in...   \n",
       "4  0007165 // signal transduction // non-traceabl...   \n",
       "\n",
       "                    Gene Ontology Cellular Component  \\\n",
       "0  0005576 // extracellular region // inferred fr...   \n",
       "1  0005634 // nucleus // inferred from electronic...   \n",
       "2  0005737 // cytoplasm // inferred from direct a...   \n",
       "3  0005634 // nucleus // inferred from direct ass...   \n",
       "4  0001750 // photoreceptor outer segment // infe...   \n",
       "\n",
       "                    Gene Ontology Molecular Function  \n",
       "0  0000166 // nucleotide binding // inferred from...  \n",
       "1  0000166 // nucleotide binding // inferred from...  \n",
       "2  0000166 // nucleotide binding // inferred from...  \n",
       "3  0000979 // RNA polymerase II core promoter seq...  \n",
       "4  0005509 // calcium ion binding // inferred fro...  "
      ]
     },
     "execution_count": 4,
     "metadata": {},
     "output_type": "execute_result"
    }
   ],
   "source": [
    "gse.gpls['GPL96'].table.head()##.items()"
   ]
  },
  {
   "cell_type": "code",
   "execution_count": 5,
   "metadata": {},
   "outputs": [],
   "source": [
    "gsms = {}\n",
    "genes = {}\n",
    "gpls = {}\n",
    "for gsm_name, gsm in gse.gsms.items():\n",
    "    gsms[gsm_name] = gsm.metadata['characteristics_ch1']\n",
    "    genes[gsm_name] = gsm.table\n",
    "\n",
    "for gpl_name, gpl in gse.gpls.items():\n",
    "    gpls[gpl_name] = gpl.table\n"
   ]
  },
  {
   "cell_type": "code",
   "execution_count": 10,
   "metadata": {},
   "outputs": [
    {
     "data": {
      "text/plain": [
       "dict_keys(['GSM177885', 'GSM177886', 'GSM177887', 'GSM177888', 'GSM177889', 'GSM177890', 'GSM177891', 'GSM177892', 'GSM177893', 'GSM177894', 'GSM177895', 'GSM177896', 'GSM177897', 'GSM177898', 'GSM177899', 'GSM177900', 'GSM177901', 'GSM177902', 'GSM177903', 'GSM177904', 'GSM177905', 'GSM177906', 'GSM177907', 'GSM177908', 'GSM177909', 'GSM177910', 'GSM177911', 'GSM177912', 'GSM177913', 'GSM177914', 'GSM177915', 'GSM177916', 'GSM177917', 'GSM177918', 'GSM177919', 'GSM177920', 'GSM177921', 'GSM177922', 'GSM177923', 'GSM177924', 'GSM177925', 'GSM177926', 'GSM177927', 'GSM177928', 'GSM177929', 'GSM177930', 'GSM177931', 'GSM177932', 'GSM177933', 'GSM177934', 'GSM177935', 'GSM177936', 'GSM177937', 'GSM177938', 'GSM177939', 'GSM177940', 'GSM177941', 'GSM177942', 'GSM177943', 'GSM177944', 'GSM177945', 'GSM177946', 'GSM177947', 'GSM177948', 'GSM177949', 'GSM177950', 'GSM177951', 'GSM177952', 'GSM177953', 'GSM177954', 'GSM177955', 'GSM177956', 'GSM177957', 'GSM177958', 'GSM177959', 'GSM177960', 'GSM177961', 'GSM177962', 'GSM177963', 'GSM177964', 'GSM177965', 'GSM177966', 'GSM177967', 'GSM177968', 'GSM177969', 'GSM177970', 'GSM177971', 'GSM177972', 'GSM177973', 'GSM177974', 'GSM177975', 'GSM177976', 'GSM177977', 'GSM177978', 'GSM177979', 'GSM177980', 'GSM177981', 'GSM177982', 'GSM177983', 'GSM177984', 'GSM177985', 'GSM177986', 'GSM177987', 'GSM177988', 'GSM177989', 'GSM177990', 'GSM177991', 'GSM177992', 'GSM177993', 'GSM177994', 'GSM177995', 'GSM177996', 'GSM177997', 'GSM177998', 'GSM177999', 'GSM178000', 'GSM178001', 'GSM178002', 'GSM178003', 'GSM178004', 'GSM178005', 'GSM178006', 'GSM178007', 'GSM178008', 'GSM178009', 'GSM178010', 'GSM178011', 'GSM178012', 'GSM178013', 'GSM178014', 'GSM178015', 'GSM178016', 'GSM178017', 'GSM178018', 'GSM178019', 'GSM178020', 'GSM178021', 'GSM178022', 'GSM178023', 'GSM178024', 'GSM178025', 'GSM178026', 'GSM178027', 'GSM178028', 'GSM178029', 'GSM178030', 'GSM178031', 'GSM178032', 'GSM178033', 'GSM178034', 'GSM178035', 'GSM178036', 'GSM178037', 'GSM178038', 'GSM178039', 'GSM178040', 'GSM178041', 'GSM178042', 'GSM178043', 'GSM178044', 'GSM178045', 'GSM178046', 'GSM178047', 'GSM178048', 'GSM178049', 'GSM178050', 'GSM178051', 'GSM178052', 'GSM178053', 'GSM178054', 'GSM178055', 'GSM178056', 'GSM178057', 'GSM178058', 'GSM178059', 'GSM178060', 'GSM178061', 'GSM178062', 'GSM178063', 'GSM178064', 'GSM178065', 'GSM178066', 'GSM178067', 'GSM178068', 'GSM178069', 'GSM178070', 'GSM178071', 'GSM178072', 'GSM178073', 'GSM178074', 'GSM178075', 'GSM178076', 'GSM178077', 'GSM178078', 'GSM178079', 'GSM178080', 'GSM178081', 'GSM178082'])"
      ]
     },
     "execution_count": 10,
     "metadata": {},
     "output_type": "execute_result"
    }
   ],
   "source": [
    "genes.keys()#[:10]"
   ]
  },
  {
   "cell_type": "code",
   "execution_count": 11,
   "metadata": {},
   "outputs": [],
   "source": [
    "df = []\n",
    "for name in gsms.keys():\n",
    "    d = dict(zip(genes[name]['ID_REF'],genes[name]['VALUE']))\n",
    "    d.update(dict([x.split(':') for x in gsms[name]]))\n",
    "    df += [d]"
   ]
  },
  {
   "cell_type": "code",
   "execution_count": 12,
   "metadata": {},
   "outputs": [],
   "source": [
    "df = pd.DataFrame(df)"
   ]
  },
  {
   "cell_type": "code",
   "execution_count": 13,
   "metadata": {},
   "outputs": [
    {
     "name": "stdout",
     "output_type": "stream",
     "text": [
      "<class 'pandas.core.frame.DataFrame'>\n",
      "RangeIndex: 198 entries, 0 to 197\n",
      "Columns: 22310 entries, 1007_s_at to veridex_risk\n",
      "dtypes: float64(22283), object(27)\n",
      "memory usage: 33.7+ MB\n"
     ]
    }
   ],
   "source": [
    "df.info()"
   ]
  },
  {
   "cell_type": "code",
   "execution_count": 14,
   "metadata": {},
   "outputs": [],
   "source": [
    "df.to_csv(\"../Data/cleaned_data.csv\")"
   ]
  },
  {
   "cell_type": "markdown",
   "metadata": {},
   "source": [
    "### Selecting only certain rows"
   ]
  },
  {
   "cell_type": "code",
   "execution_count": 15,
   "metadata": {},
   "outputs": [
    {
     "name": "stderr",
     "output_type": "stream",
     "text": [
      "/home/adit/anaconda3/lib/python3.7/site-packages/IPython/core/interactiveshell.py:3147: DtypeWarning: Columns (22285,22291,22292,22295,22305,22306,22307) have mixed types.Specify dtype option on import or set low_memory=False.\n",
      "  interactivity=interactivity, compiler=compiler, result=result)\n"
     ]
    }
   ],
   "source": [
    "df = pd.read_csv(\"../Data/cleaned_data.csv\")"
   ]
  },
  {
   "cell_type": "code",
   "execution_count": 16,
   "metadata": {},
   "outputs": [
    {
     "data": {
      "text/plain": [
       "0    142\n",
       "1     56\n",
       "Name: e.os, dtype: int64"
      ]
     },
     "execution_count": 16,
     "metadata": {},
     "output_type": "execute_result"
    }
   ],
   "source": [
    "df['e.os'].value_counts()"
   ]
  },
  {
   "cell_type": "code",
   "execution_count": 17,
   "metadata": {},
   "outputs": [],
   "source": [
    "gene = pd.read_csv(\"../Data/gene.csv\")"
   ]
  },
  {
   "cell_type": "code",
   "execution_count": 18,
   "metadata": {},
   "outputs": [],
   "source": [
    "relevant_genes = gene[\"Gene\"].values"
   ]
  },
  {
   "cell_type": "code",
   "execution_count": 19,
   "metadata": {},
   "outputs": [
    {
     "data": {
      "text/plain": [
       "Index(['AFFX-TrpnX-M_at', 'samplename', 'id', 'filename', 'hospital', 'age',\n",
       "       'size', 'Surgery_type', 'Histtype', 'Angioinv', 'Lymp_infil', 'node',\n",
       "       'grade', 'er', 't.rfs', 'e.rfs', 't.os', 'e.os', 't.dmfs', 'e.dmfs',\n",
       "       't.tdm', 'e.tdm', 'risksg', 'NPI', 'risknpi', 'AOL_os_10y', 'risk_AOL',\n",
       "       'veridex_risk'],\n",
       "      dtype='object')"
      ]
     },
     "execution_count": 19,
     "metadata": {},
     "output_type": "execute_result"
    }
   ],
   "source": [
    "df.columns[-28:]"
   ]
  },
  {
   "cell_type": "code",
   "execution_count": 20,
   "metadata": {},
   "outputs": [],
   "source": [
    "selected = df[list(relevant_genes) + ['samplename', 'id', 'filename', 'hospital', 'age',\n",
    "       'size', 'Surgery_type', 'Histtype', 'Angioinv', 'Lymp_infil', 'node',\n",
    "       'grade', 'er', 't.rfs', 'e.rfs', 't.os', 'e.os', 't.dmfs', 'e.dmfs',\n",
    "       't.tdm', 'e.tdm', 'risksg', 'NPI', 'risknpi', 'AOL_os_10y', 'risk_AOL',\n",
    "       'veridex_risk']]"
   ]
  },
  {
   "cell_type": "code",
   "execution_count": 21,
   "metadata": {},
   "outputs": [],
   "source": [
    "selected.to_csv(\"../Data/selected.csv\")"
   ]
  }
 ],
 "metadata": {
  "kernelspec": {
   "display_name": "Python 3",
   "language": "python",
   "name": "python3"
  },
  "language_info": {
   "codemirror_mode": {
    "name": "ipython",
    "version": 3
   },
   "file_extension": ".py",
   "mimetype": "text/x-python",
   "name": "python",
   "nbconvert_exporter": "python",
   "pygments_lexer": "ipython3",
   "version": "3.7.6"
  }
 },
 "nbformat": 4,
 "nbformat_minor": 4
}
