{
 "cells": [
  {
   "cell_type": "markdown",
   "metadata": {},
   "source": [
    "### Imports"
   ]
  },
  {
   "cell_type": "code",
   "execution_count": 1,
   "metadata": {},
   "outputs": [],
   "source": [
    "import pandas as pd\n",
    "import numpy as np\n",
    "from math import fabs\n",
    "from sklearn.metrics import r2_score, accuracy_score\n",
    "import matplotlib.pyplot as plt\n",
    "from sklearn.ensemble import AdaBoostRegressor, GradientBoostingRegressor, RandomForestRegressor\n",
    "from sklearn.linear_model import LogisticRegression, SGDClassifier\n",
    "from sklearn import neighbors, tree, svm\n",
    "from sklearn.naive_bayes import GaussianNB\n",
    "from sklearn.discriminant_analysis import LinearDiscriminantAnalysis\n",
    "from sklearn.neural_network import MLPClassifier\n",
    "from sklearn.tree import DecisionTreeRegressor\n",
    "from sklearn.model_selection import train_test_split\n",
    "from sklearn.metrics import mean_squared_error    \n",
    "from sklearn.base import BaseEstimator\n",
    "from sklearn.model_selection import GridSearchCV\n",
    "from sklearn.metrics import brier_score_loss\n",
    "import warnings\n",
    "warnings.filterwarnings('ignore')"
   ]
  },
  {
   "cell_type": "markdown",
   "metadata": {},
   "source": [
    "### Loading and Cleaning dataset"
   ]
  },
  {
   "cell_type": "code",
   "execution_count": 2,
   "metadata": {},
   "outputs": [
    {
     "data": {
      "text/html": [
       "<div>\n",
       "<style scoped>\n",
       "    .dataframe tbody tr th:only-of-type {\n",
       "        vertical-align: middle;\n",
       "    }\n",
       "\n",
       "    .dataframe tbody tr th {\n",
       "        vertical-align: top;\n",
       "    }\n",
       "\n",
       "    .dataframe thead th {\n",
       "        text-align: right;\n",
       "    }\n",
       "</style>\n",
       "<table border=\"1\" class=\"dataframe\">\n",
       "  <thead>\n",
       "    <tr style=\"text-align: right;\">\n",
       "      <th></th>\n",
       "      <th>219340_s_at</th>\n",
       "      <th>217771_at</th>\n",
       "      <th>202418_at</th>\n",
       "      <th>206295_at</th>\n",
       "      <th>201091_s_at</th>\n",
       "      <th>204015_s_at</th>\n",
       "      <th>200726_at</th>\n",
       "      <th>200965_s_at</th>\n",
       "      <th>210314_x_at</th>\n",
       "      <th>221882_s_at</th>\n",
       "      <th>...</th>\n",
       "      <th>t.dmfs</th>\n",
       "      <th>e.dmfs</th>\n",
       "      <th>t.tdm</th>\n",
       "      <th>e.tdm</th>\n",
       "      <th>risksg</th>\n",
       "      <th>NPI</th>\n",
       "      <th>risknpi</th>\n",
       "      <th>AOL_os_10y</th>\n",
       "      <th>risk_AOL</th>\n",
       "      <th>veridex_risk</th>\n",
       "    </tr>\n",
       "  </thead>\n",
       "  <tbody>\n",
       "    <tr>\n",
       "      <th>0</th>\n",
       "      <td>7.014110</td>\n",
       "      <td>9.938705</td>\n",
       "      <td>11.053083</td>\n",
       "      <td>5.326001</td>\n",
       "      <td>10.964107</td>\n",
       "      <td>6.244280</td>\n",
       "      <td>10.926361</td>\n",
       "      <td>8.962608</td>\n",
       "      <td>10.523859</td>\n",
       "      <td>10.926365</td>\n",
       "      <td>...</td>\n",
       "      <td>723</td>\n",
       "      <td>1</td>\n",
       "      <td>723</td>\n",
       "      <td>1</td>\n",
       "      <td>2</td>\n",
       "      <td>4.60</td>\n",
       "      <td>2</td>\n",
       "      <td>62.7</td>\n",
       "      <td>1</td>\n",
       "      <td>Poor</td>\n",
       "    </tr>\n",
       "    <tr>\n",
       "      <th>1</th>\n",
       "      <td>7.326724</td>\n",
       "      <td>6.374728</td>\n",
       "      <td>10.596457</td>\n",
       "      <td>8.290123</td>\n",
       "      <td>11.594716</td>\n",
       "      <td>6.542130</td>\n",
       "      <td>12.242090</td>\n",
       "      <td>9.531718</td>\n",
       "      <td>10.342614</td>\n",
       "      <td>9.555092</td>\n",
       "      <td>...</td>\n",
       "      <td>6591</td>\n",
       "      <td>0</td>\n",
       "      <td>6591</td>\n",
       "      <td>0</td>\n",
       "      <td>2</td>\n",
       "      <td>4.60</td>\n",
       "      <td>2</td>\n",
       "      <td>69.0</td>\n",
       "      <td>1</td>\n",
       "      <td>Poor</td>\n",
       "    </tr>\n",
       "    <tr>\n",
       "      <th>2</th>\n",
       "      <td>6.974651</td>\n",
       "      <td>9.226757</td>\n",
       "      <td>10.834848</td>\n",
       "      <td>5.731169</td>\n",
       "      <td>9.166088</td>\n",
       "      <td>6.586000</td>\n",
       "      <td>11.661716</td>\n",
       "      <td>10.238680</td>\n",
       "      <td>10.144875</td>\n",
       "      <td>9.308048</td>\n",
       "      <td>...</td>\n",
       "      <td>524</td>\n",
       "      <td>1</td>\n",
       "      <td>524</td>\n",
       "      <td>1</td>\n",
       "      <td>2</td>\n",
       "      <td>4.50</td>\n",
       "      <td>2</td>\n",
       "      <td>66.2</td>\n",
       "      <td>1</td>\n",
       "      <td>Poor</td>\n",
       "    </tr>\n",
       "    <tr>\n",
       "      <th>3</th>\n",
       "      <td>7.703683</td>\n",
       "      <td>8.169183</td>\n",
       "      <td>11.627066</td>\n",
       "      <td>8.538247</td>\n",
       "      <td>9.086937</td>\n",
       "      <td>8.477335</td>\n",
       "      <td>12.174021</td>\n",
       "      <td>9.819279</td>\n",
       "      <td>10.888251</td>\n",
       "      <td>10.208241</td>\n",
       "      <td>...</td>\n",
       "      <td>6255</td>\n",
       "      <td>1</td>\n",
       "      <td>6255</td>\n",
       "      <td>0</td>\n",
       "      <td>2</td>\n",
       "      <td>4.36</td>\n",
       "      <td>2</td>\n",
       "      <td>84.9</td>\n",
       "      <td>1</td>\n",
       "      <td>Poor</td>\n",
       "    </tr>\n",
       "    <tr>\n",
       "      <th>4</th>\n",
       "      <td>6.581141</td>\n",
       "      <td>7.496745</td>\n",
       "      <td>11.500773</td>\n",
       "      <td>5.979282</td>\n",
       "      <td>8.887616</td>\n",
       "      <td>7.398170</td>\n",
       "      <td>11.484011</td>\n",
       "      <td>11.489233</td>\n",
       "      <td>9.702690</td>\n",
       "      <td>10.931843</td>\n",
       "      <td>...</td>\n",
       "      <td>3822</td>\n",
       "      <td>1</td>\n",
       "      <td>3822</td>\n",
       "      <td>1</td>\n",
       "      <td>2</td>\n",
       "      <td>3.60</td>\n",
       "      <td>2</td>\n",
       "      <td>80.2</td>\n",
       "      <td>1</td>\n",
       "      <td>Poor</td>\n",
       "    </tr>\n",
       "  </tbody>\n",
       "</table>\n",
       "<p>5 rows × 103 columns</p>\n",
       "</div>"
      ],
      "text/plain": [
       "   219340_s_at  217771_at  202418_at  206295_at  201091_s_at  204015_s_at  \\\n",
       "0     7.014110   9.938705  11.053083   5.326001    10.964107     6.244280   \n",
       "1     7.326724   6.374728  10.596457   8.290123    11.594716     6.542130   \n",
       "2     6.974651   9.226757  10.834848   5.731169     9.166088     6.586000   \n",
       "3     7.703683   8.169183  11.627066   8.538247     9.086937     8.477335   \n",
       "4     6.581141   7.496745  11.500773   5.979282     8.887616     7.398170   \n",
       "\n",
       "   200726_at  200965_s_at  210314_x_at  221882_s_at  ...  t.dmfs  e.dmfs  \\\n",
       "0  10.926361     8.962608    10.523859    10.926365  ...     723       1   \n",
       "1  12.242090     9.531718    10.342614     9.555092  ...    6591       0   \n",
       "2  11.661716    10.238680    10.144875     9.308048  ...     524       1   \n",
       "3  12.174021     9.819279    10.888251    10.208241  ...    6255       1   \n",
       "4  11.484011    11.489233     9.702690    10.931843  ...    3822       1   \n",
       "\n",
       "   t.tdm  e.tdm  risksg   NPI  risknpi  AOL_os_10y  risk_AOL  veridex_risk  \n",
       "0    723      1       2  4.60        2        62.7         1          Poor  \n",
       "1   6591      0       2  4.60        2        69.0         1          Poor  \n",
       "2    524      1       2  4.50        2        66.2         1          Poor  \n",
       "3   6255      0       2  4.36        2        84.9         1          Poor  \n",
       "4   3822      1       2  3.60        2        80.2         1          Poor  \n",
       "\n",
       "[5 rows x 103 columns]"
      ]
     },
     "execution_count": 2,
     "metadata": {},
     "output_type": "execute_result"
    }
   ],
   "source": [
    "df = pd.read_csv(\"../Data/selected.csv\", index_col = False)\n",
    "df.drop([\"Unnamed: 0\"], inplace = True, axis = 1)\n",
    "df = df.replace(' NA', np.nan)\n",
    "df = df.replace('NA', np.nan)\n",
    "df['NPI'] = df['NPI'].astype('float')\n",
    "df['NPI'].replace(np.nan, df['NPI'].mean(), inplace = True)\n",
    "df.head()"
   ]
  },
  {
   "cell_type": "code",
   "execution_count": 3,
   "metadata": {},
   "outputs": [
    {
     "data": {
      "text/plain": [
       "array([[<matplotlib.axes._subplots.AxesSubplot object at 0x7f4ff6b87370>]],\n",
       "      dtype=object)"
      ]
     },
     "execution_count": 3,
     "metadata": {},
     "output_type": "execute_result"
    },
    {
     "data": {
      "image/png": "[encoded data removed]",
      "text/plain": [
       "<Figure size 432x288 with 1 Axes>"
      ]
     },
     "metadata": {
      "needs_background": "light"
     },
     "output_type": "display_data"
    }
   ],
   "source": [
    "df[df[\"e.tdm\"]==1][[\"t.tdm\"]].hist()"
   ]
  },
  {
   "cell_type": "markdown",
   "metadata": {},
   "source": [
    "### Choosing columns for training"
   ]
  },
  {
   "cell_type": "code",
   "execution_count": 4,
   "metadata": {},
   "outputs": [],
   "source": [
    "num_censored, num_events = len(df) - df[\"e.tdm\"].sum(), df[\"e.tdm\"].sum()\n",
    "fraction_censored = num_censored/len(df)"
   ]
  },
  {
   "cell_type": "code",
   "execution_count": 5,
   "metadata": {},
   "outputs": [],
   "source": [
    "df[\"weights\"] = pd.Series([1 if i==1 else fraction_censored for i in df[\"e.tdm\"]])\n",
    "# df[\"weights\"] = df[\"weights\"]/df[\"weights\"].sum()"
   ]
  },
  {
   "cell_type": "code",
   "execution_count": 6,
   "metadata": {},
   "outputs": [
    {
     "data": {
      "text/plain": [
       "197    0.742424\n",
       "99     0.742424\n",
       "100    0.742424\n",
       "101    0.742424\n",
       "102    0.742424\n",
       "         ...   \n",
       "76     1.000000\n",
       "75     1.000000\n",
       "73     1.000000\n",
       "69     1.000000\n",
       "98     1.000000\n",
       "Name: weights, Length: 198, dtype: float64"
      ]
     },
     "execution_count": 6,
     "metadata": {},
     "output_type": "execute_result"
    }
   ],
   "source": [
    "df[\"weights\"].sort_values()"
   ]
  },
  {
   "cell_type": "code",
   "execution_count": 7,
   "metadata": {},
   "outputs": [],
   "source": [
    "removals = ['t.rfs', 'e.rfs', 't.os', 'e.os', 't.dmfs','e.dmfs', 't.tdm', 'e.tdm', \"samplename\", \"id\",\"filename\",\"hospital\", 'Surgery_type', 'Histtype', 'Angioinv', 'Lymp_infil', 'node', 'grade', 'er', 'risksg', 'risknpi', 'risk_AOL', 'veridex_risk']\n",
    "rest = [i for i in df.columns if i not in removals]"
   ]
  },
  {
   "cell_type": "code",
   "execution_count": 8,
   "metadata": {},
   "outputs": [],
   "source": [
    "X = df[rest]\n",
    "y = df[\"t.tdm\"]"
   ]
  },
  {
   "cell_type": "code",
   "execution_count": 9,
   "metadata": {},
   "outputs": [
    {
     "data": {
      "text/plain": [
       "<matplotlib.axes._subplots.AxesSubplot at 0x7f4ff4a9cc70>"
      ]
     },
     "execution_count": 9,
     "metadata": {},
     "output_type": "execute_result"
    },
    {
     "data": {
      "image/png": "[encoded data removed]",
      "text/plain": [
       "<Figure size 432x288 with 1 Axes>"
      ]
     },
     "metadata": {
      "needs_background": "light"
     },
     "output_type": "display_data"
    }
   ],
   "source": [
    "y.hist()"
   ]
  },
  {
   "cell_type": "markdown",
   "metadata": {},
   "source": [
    "### Defining Indicator Functions"
   ]
  },
  {
   "cell_type": "code",
   "execution_count": 10,
   "metadata": {},
   "outputs": [],
   "source": [
    "steps = 100\n",
    "indicators = np.arange(0,10000,steps)\n",
    "\n",
    "for indicator in indicators:\n",
    "    df['indi_'+str(indicator)]= y < indicator\n",
    "    "
   ]
  },
  {
   "cell_type": "markdown",
   "metadata": {},
   "source": [
    "### Train-Test Split"
   ]
  },
  {
   "cell_type": "code",
   "execution_count": 11,
   "metadata": {},
   "outputs": [],
   "source": [
    "X_train, X_test, y_train, y_test = train_test_split(X, df[['indi_'+str(indicator) for indicator in indicators]], test_size=0.33, random_state=42)\n",
    "columns = y_train.columns"
   ]
  },
  {
   "cell_type": "code",
   "execution_count": 12,
   "metadata": {},
   "outputs": [],
   "source": [
    "X_cols = list(set(X_train.columns) - set([\"weights\"]))"
   ]
  },
  {
   "cell_type": "code",
   "execution_count": 13,
   "metadata": {},
   "outputs": [
    {
     "name": "stdout",
     "output_type": "stream",
     "text": [
      "0.7387556076934976\n"
     ]
    }
   ],
   "source": [
    "accs = []\n",
    "for i,column in enumerate(columns):\n",
    "    if( y_train[column].nunique()==1):\n",
    "        y_test[\"prob_\" + column] = 0\n",
    "        y_test[\"survival_simple_\" + column] = 1\n",
    "        y_test[\"survival_log_\" + column] = 0\n",
    "        y_test[\"hazard_\" + column] = 0\n",
    "        continue\n",
    "        \n",
    "    clf = LogisticRegression(random_state=0,solver='liblinear')\n",
    "    clf.fit(X_train[X_cols], y_train[column], sample_weight = X_train[\"weights\"])\n",
    "    y_test[\"prob_\" + column] = clf.predict_proba(X_test[X_cols])[:,1]\n",
    "    accs.append(clf.score(X_test[X_cols], y_test[column], sample_weight = X_test[\"weights\"]))\n",
    "    if(i>1):\n",
    "        y_test[\"prob_\" + column] =  np.maximum(y_test[\"prob_\" + columns[i-1]],y_test[\"prob_\" + column])\n",
    "        y_test[\"survival_simple_\" + column] = 1 - y_test[\"prob_\" + column]\n",
    "        \n",
    "        y_test[\"survival_log_\" + column] = np.log(y_test[\"survival_simple_\" + column])\n",
    "        y_test[\"hazard_\" + column] = ( - y_test[\"survival_log_\" + columns[i]] + y_test[\"survival_log_\" + columns[i-1]])/steps\n",
    "print(np.mean(accs))"
   ]
  },
  {
   "cell_type": "code",
   "execution_count": 14,
   "metadata": {},
   "outputs": [
    {
     "data": {
      "text/plain": [
       "<matplotlib.legend.Legend at 0x7f4ff4387100>"
      ]
     },
     "execution_count": 14,
     "metadata": {},
     "output_type": "execute_result"
    },
    {
     "data": {
      "image/png": "[encoded data removed]",
      "text/plain": [
       "<Figure size 432x288 with 1 Axes>"
      ]
     },
     "metadata": {
      "needs_background": "light"
     },
     "output_type": "display_data"
    }
   ],
   "source": [
    "plt.figure()\n",
    "for i in range(5):\n",
    "    plt.plot(indicators, y_test.iloc[i,:][y_test.columns[y_test.columns.str.startswith(\"hazard_\")]].cumsum(), label=f\"patient {X_test.iloc[i].name}\")\n",
    "    \n",
    "plt.xlabel('Time in Days')\n",
    "plt.ylabel('Cumulative Hazard')\n",
    "plt.xlabel('Time in Days')\n",
    "plt.title(\"Plotting Cumulative Hazard Function vs Time in days\")\n",
    "plt.legend()"
   ]
  },
  {
   "cell_type": "code",
   "execution_count": 15,
   "metadata": {},
   "outputs": [
    {
     "data": {
      "text/plain": [
       "<matplotlib.legend.Legend at 0x7f4ff4290550>"
      ]
     },
     "execution_count": 15,
     "metadata": {},
     "output_type": "execute_result"
    },
    {
     "data": {
      "image/png": "[encoded data removed]",
      "text/plain": [
       "<Figure size 432x288 with 1 Axes>"
      ]
     },
     "metadata": {
      "needs_background": "light"
     },
     "output_type": "display_data"
    }
   ],
   "source": [
    "plt.figure()\n",
    "for i in range(5):\n",
    "    plt.plot(indicators, y_test.iloc[i,:][y_test.columns[y_test.columns.str.startswith(\"survival_simple_\")]], label=f\"patient {X_test.iloc[i].name}\")\n",
    "#plt.xlim([0,4000])\n",
    "plt.xlabel(\"Time in days\")\n",
    "plt.ylabel(\"Survival Function\")\n",
    "plt.title(\"Plotting Survival Function vs Time\")\n",
    "plt.legend()"
   ]
  },
  {
   "cell_type": "markdown",
   "metadata": {},
   "source": [
    "### Implementing Cobra"
   ]
  },
  {
   "cell_type": "code",
   "execution_count": 16,
   "metadata": {},
   "outputs": [],
   "source": [
    "models = {\"svc\": svm.SVC, \"knn\": neighbors.KNeighborsClassifier, \"dt\": tree.DecisionTreeClassifier, \"logreg\": LogisticRegression, \"gaussnb\": GaussianNB, \"lda\": LinearDiscriminantAnalysis}"
   ]
  },
  {
   "cell_type": "code",
   "execution_count": 17,
   "metadata": {},
   "outputs": [],
   "source": [
    "X_train, X_test, y_train, y_test = train_test_split(X, df[['indi_'+str(indicator) for indicator in indicators]], test_size=0.2, random_state=42)\n",
    "columns = y_train.columns"
   ]
  },
  {
   "cell_type": "markdown",
   "metadata": {},
   "source": [
    "## Cobra Estimator Class"
   ]
  },
  {
   "cell_type": "code",
   "execution_count": 18,
   "metadata": {},
   "outputs": [],
   "source": [
    "class NaiveCobra(BaseEstimator):\n",
    "    \"\"\" Naive version of cobra which calculates aggregates for prediction.\"\"\"\n",
    "    def __init__(self, eps=None):\n",
    "        ## Defining Parameters\n",
    "        self.eps = eps\n",
    "        self.machines = {}\n",
    "        self.models = {'svc': svm.SVC,\n",
    "                     'knn': neighbors.KNeighborsClassifier,\n",
    "                     'dt': tree.DecisionTreeClassifier,\n",
    "                     'logreg': LogisticRegression,\n",
    "                     'gaussnb': GaussianNB,\n",
    "                     'lda': LinearDiscriminantAnalysis}\n",
    "        self.alpha = len(self.models)\n",
    "    \n",
    "    def fit(self, X_train, y_train):\n",
    "        # Fitting each of the models, sample_weight = self.X_k[\"weights\"]\n",
    "        for model_name in self.models:\n",
    "            if model_name == \"logreg\":\n",
    "                self.machines[model_name] = models[model_name](solver = 'liblinear').fit(X_train[X_cols], y_train, sample_weight = X_train[\"weights\"])\n",
    "            elif model_name =='svc':\n",
    "                self.machines[model_name] = models[model_name](probability = True).fit(X_train[X_cols], y_train, sample_weight = X_train[\"weights\"])\n",
    "            else:\n",
    "                self.machines[model_name] = models[model_name]().fit(X_train[X_cols], y_train, sample_weight = X_train[\"weights\"])\n",
    "        \n",
    "        return self\n",
    "    def predict(self, X_test):\n",
    "        # Genarating Predictions from trained regressors.\n",
    "        self.machine_predictions_ = {}\n",
    "        self.all_predictions_ = []\n",
    "        for machine_name in self.machines:\n",
    "            self.machine_predictions_[machine_name] = self.machines[machine_name].predict_proba(X_test)[:,1]\n",
    "            self.all_predictions_.append(self.machine_predictions_[machine_name])\n",
    "        self.all_predictions_= np.array(self.all_predictions_)\n",
    "        selection_table = np.zeros((len(X_test), self.alpha))\n",
    "        \n",
    "        for machine_index, machine_name in enumerate(self.models.keys()):\n",
    "            predicted_val = self.machines[machine_name].predict_proba(X_test)[:,1]\n",
    "\n",
    "            for ind in range(0, len(X_test)):\n",
    "                if fabs(self.machine_predictions_[machine_name][ind] - predicted_val[ind]) <= self.eps:\n",
    "                    selection_table[ind][machine_index] = 1\n",
    "\n",
    "\n",
    "        \n",
    "        predicted_vals = []\n",
    "        for ind in range(len(X_test)):\n",
    "            if(np.sum(selection_table[ind]) == self.alpha):\n",
    "                predicted_vals.append(np.mean(self.all_predictions_[:, ind]))\n",
    "                \n",
    "            else:\n",
    "                predicted_vals.append(0)\n",
    "        return np.array(predicted_vals)"
   ]
  },
  {
   "cell_type": "code",
   "execution_count": 19,
   "metadata": {},
   "outputs": [],
   "source": [
    "class VenomCobra(BaseEstimator):\n",
    "    \"\"\" Cobra implementation using voting mechanism.\"\"\"\n",
    "    def __init__(self, eps=None):\n",
    "        ## Defining Parameters\n",
    "        self.eps = eps\n",
    "        self.machines = {}\n",
    "        self.models = {'svc': svm.SVC,\n",
    "                     'knn': neighbors.KNeighborsClassifier,\n",
    "                     'dt': tree.DecisionTreeClassifier,\n",
    "                     'logreg': LogisticRegression,\n",
    "                     'gaussnb': GaussianNB,\n",
    "                     'lda': LinearDiscriminantAnalysis}\n",
    "        self.alpha = len(self.models)\n",
    "        \n",
    "    def __split_train_data(self, X, y, split_ratio):\n",
    "        \n",
    "        \n",
    "        combined = pd.concat([X,y], axis =1)\n",
    "        combined_0 = combined[combined.iloc[:,-1]==0]\n",
    "        combined_1 = combined[combined.iloc[:,-1]==1]\n",
    "        k_0 = int(split_ratio*len(combined_0))\n",
    "        k_1 = int(split_ratio*len(combined_1))\n",
    "        \n",
    "        X_k = pd.concat([combined_0.iloc[:k_0,:-1], combined_1.iloc[:k_1,:-1]])\n",
    "        y_k = pd.concat([combined_0.iloc[:k_0,-1], combined_1.iloc[:k_1,-1]])\n",
    "        X_l = pd.concat([combined_0.iloc[k_0+1:,:-1], combined_1.iloc[k_1+1:,:-1]])\n",
    "        y_l = pd.concat([combined_0.iloc[k_0+1:,-1], combined_1.iloc[k_1+1:,-1]])\n",
    "\n",
    "        return X_k, y_k, X_l, y_l\n",
    "\n",
    "    def fit(self, X, y):\n",
    "        self.X = X\n",
    "        self.y = y\n",
    "        self.X_k, self.y_k, self.X_l, self.y_l = self.__split_train_data(self.X, self.y, 0.5)\n",
    "        \n",
    "        # Fitting each of the models\n",
    "        for model_name in self.models:\n",
    "            if model_name == \"logreg\":\n",
    "                self.machines[model_name] = models[model_name](solver = 'liblinear').fit(self.X_k[X_cols], self.y_k, sample_weight = self.X_k[\"weights\"])\n",
    "            elif model_name =='svc':\n",
    "                self.machines[model_name] = models[model_name](probability = True).fit(self.X_k[X_cols], self.y_k, sample_weight = self.X_k[\"weights\"])\n",
    "            elif model_name =='knn' or model_name == 'lda':\n",
    "                self.machines[model_name] = models[model_name]().fit(self.X_k[X_cols], self.y_k)\n",
    "            else:\n",
    "                self.machines[model_name] = models[model_name]().fit(self.X_k[X_cols], self.y_k, sample_weight = self.X_k[\"weights\"])\n",
    "        self.generate_predictions()\n",
    "        return self\n",
    "    def generate_predictions(self):\n",
    "        self.machine_predictions = {}\n",
    "        self.all_predictions = np.array([])\n",
    "        for machine_name in self.machines:\n",
    "            self.machine_predictions[machine_name] = self.machines[machine_name].predict_proba(self.X_l[X_cols])[:,1]\n",
    "            self.all_predictions = np.append(self.all_predictions, self.machine_predictions[machine_name])\n",
    "            \n",
    "    def optimal_threshold(self, num_grid_points=10):\n",
    "\n",
    "        if self.eps is None:\n",
    "#             a, size = sorted(self.all_predictions), len(self.all_predictions)\n",
    "#             res = [a[i + 1] - a[i] for i in range(size) if i+1 < size]\n",
    "            emin = 0.1\n",
    "            emax = 1\n",
    "            erange = np.linspace(emin, emax, num_grid_points)\n",
    "            tuned_params = [{'eps': erange}]\n",
    "            print(\"Grid Search Start\")\n",
    "            briers = []\n",
    "            for eps in erange:\n",
    "                self.eps = eps\n",
    "                self.fit(self.X, self.y)\n",
    "                preds = self.predict(self.X_l)\n",
    "                preds[preds > 0.5] = 1\n",
    "                preds[preds <= 0.5] = 0\n",
    "                briers.append(accuracy_score(self.y_l, preds))\n",
    "            self.eps = erange[np.argmax(briers)]\n",
    "            # GridSearchCV uses 5-fold cross validation by default.\n",
    "#             clf = GridSearchCV(self, tuned_params, scoring=\"neg_brier_score\", n_jobs=-1)\n",
    "#             clf.fit(X, y)\n",
    "#             \n",
    "#             self.eps = clf.best_params_[\"eps\"]  \n",
    "            print(\"Grid Search Complete, eps: \", self.eps)\n",
    "            \n",
    "    def predict(self, X_test):\n",
    "        # Genarating Predictions from trained regressors.\n",
    "        preds = []\n",
    "        for x in X_test[X_cols].values:\n",
    "            x = np.array(x)\n",
    "            x = x.reshape(1, -1)\n",
    "            selection_table = np.zeros((len(self.X_l), self.alpha))\n",
    "        \n",
    "            for machine_index, machine_name in enumerate(self.models.keys()):\n",
    "                predicted_val = self.machines[machine_name].predict_proba(x)[:,1]\n",
    "\n",
    "                for ind in range(0, len(self.X_l)):\n",
    "                    if fabs(self.machine_predictions[machine_name][ind] - predicted_val) <= self.eps:\n",
    "                        selection_table[ind][machine_index] = 1\n",
    "\n",
    "\n",
    "            selected_indices = []\n",
    "            \n",
    "\n",
    "            for ind in range(len(self.X_l)):\n",
    "                if(np.sum(selection_table[ind]) == self.alpha):\n",
    "                    selected_indices.append(ind)\n",
    "            \n",
    "            pred = 0\n",
    "            weight_sum =0\n",
    "            for ind in selected_indices:\n",
    "                pred+=self.y_l.iloc[ind]*self.X_l[\"weights\"].iloc[ind]\n",
    "                weight_sum +=self.X_l[\"weights\"].iloc[ind]\n",
    "            if (len(selected_indices)!=0):\n",
    "                pred/=weight_sum\n",
    "#                 pred/=len(selected_indices)\n",
    "            preds.append(pred)\n",
    "        return np.array(preds)"
   ]
  },
  {
   "cell_type": "code",
   "execution_count": 20,
   "metadata": {},
   "outputs": [
    {
     "name": "stdout",
     "output_type": "stream",
     "text": [
      "0.7238235294117645\n"
     ]
    },
    {
     "data": {
      "text/plain": [
       "0.2602553967095477"
      ]
     },
     "execution_count": 20,
     "metadata": {},
     "output_type": "execute_result"
    }
   ],
   "source": [
    "accs = []\n",
    "briers = []\n",
    "for i,column in enumerate(columns):\n",
    "    \n",
    "    if( y_train[column].nunique()==1 or y_train[column].value_counts()[0] ==1 or y_train[column].value_counts()[1] ==1):\n",
    "        y_test[\"prob_\" + column] = 0\n",
    "        y_test[\"survival_simple_\" + column] = 1\n",
    "        y_test[\"survival_log_\" + column] = 0\n",
    "        y_test[\"hazard_\" + column] = 0\n",
    "        continue\n",
    "\n",
    "#     cobra = VenomCobra(eps = None)#0.95)\n",
    "    cobra = VenomCobra(eps = 0.1)\n",
    "    cobra = cobra.fit(X_train, y_train[column])\n",
    "#     cobra.optimal_threshold()\n",
    "#     cobra.fit(X_train, y_train[column])\n",
    "    preds = cobra.predict(X_test)\n",
    "    y_test[\"prob_\" + column] = preds\n",
    "    briers.append(brier_score_loss(y_test[column],preds))\n",
    "    preds[preds > 0.5] = 1\n",
    "    preds[preds <= 0.5] = 0\n",
    "    accs.append(accuracy_score(preds, y_test[column]))\n",
    "    if(i>1):\n",
    "        y_test[\"prob_\" + column] =  np.maximum(y_test[\"prob_\" + columns[i-1]],y_test[\"prob_\" + column])\n",
    "        y_test[\"survival_simple_\" + column] = 1 - y_test[\"prob_\" + column]\n",
    "        \n",
    "        y_test[\"survival_log_\" + column] = np.log(y_test[\"survival_simple_\" + column])\n",
    "        y_test[\"hazard_\" + column] = ( - y_test[\"survival_log_\" + columns[i]] + y_test[\"survival_log_\" + columns[i-1]])/steps\n",
    "print(np.mean(accs))\n",
    "np.mean(briers)"
   ]
  },
  {
   "cell_type": "markdown",
   "metadata": {},
   "source": [
    "## Plots"
   ]
  },
  {
   "cell_type": "code",
   "execution_count": 21,
   "metadata": {},
   "outputs": [
    {
     "data": {
      "text/plain": [
       "<matplotlib.legend.Legend at 0x7f4ff41e9280>"
      ]
     },
     "execution_count": 21,
     "metadata": {},
     "output_type": "execute_result"
    },
    {
     "data": {
      "image/png": "[encoded data removed]",
      "text/plain": [
       "<Figure size 432x288 with 1 Axes>"
      ]
     },
     "metadata": {
      "needs_background": "light"
     },
     "output_type": "display_data"
    }
   ],
   "source": [
    "plt.figure()\n",
    "for i in range(5):\n",
    "    plt.plot(indicators, y_test.iloc[i,:][y_test.columns[y_test.columns.str.startswith(\"hazard_\")]].cumsum(), label=f\"patient {X_test.iloc[i].name}\")\n",
    "    \n",
    "plt.xlabel('Time in Days')\n",
    "plt.ylabel('Cumulative Hazard')\n",
    "plt.xlabel('Time in Days')\n",
    "plt.title(\"Plotting Cumulative Hazard Function vs Time in days\")\n",
    "plt.legend()"
   ]
  },
  {
   "cell_type": "code",
   "execution_count": 22,
   "metadata": {},
   "outputs": [
    {
     "data": {
      "text/plain": [
       "<matplotlib.legend.Legend at 0x7f4ff424f850>"
      ]
     },
     "execution_count": 22,
     "metadata": {},
     "output_type": "execute_result"
    },
    {
     "data": {
      "image/png": "[encoded data removed]",
      "text/plain": [
       "<Figure size 432x288 with 1 Axes>"
      ]
     },
     "metadata": {
      "needs_background": "light"
     },
     "output_type": "display_data"
    }
   ],
   "source": [
    "plt.figure()\n",
    "for i in range(5):\n",
    "    plt.plot(indicators, y_test.iloc[i,:][y_test.columns[y_test.columns.str.startswith(\"survival_simple_\")]], label=f\"patient {X_test.iloc[i].name}\")\n",
    "plt.xlim([0,6000])\n",
    "plt.xlabel(\"Time in days\")\n",
    "plt.ylabel(\"Survival Function\")\n",
    "plt.title(\"Plotting Survival Function vs Time\")\n",
    "plt.legend()"
   ]
  },
  {
   "cell_type": "code",
   "execution_count": 23,
   "metadata": {},
   "outputs": [],
   "source": [
    "models = {'svc': svm.SVC,\n",
    "                     'knn': neighbors.KNeighborsClassifier,\n",
    "                     'dt': tree.DecisionTreeClassifier,\n",
    "                     'logreg': LogisticRegression,\n",
    "                     'gaussnb': GaussianNB,\n",
    "                     'lda': LinearDiscriminantAnalysis}"
   ]
  },
  {
   "cell_type": "code",
   "execution_count": 24,
   "metadata": {},
   "outputs": [
    {
     "name": "stdout",
     "output_type": "stream",
     "text": [
      "<class 'sklearn.svm._classes.SVC'>\n",
      "0.7844117647058824\n",
      "<class 'sklearn.neighbors._classification.KNeighborsClassifier'>\n",
      "0.7855882352941177\n",
      "<class 'sklearn.tree._classes.DecisionTreeClassifier'>\n",
      "0.7952941176470587\n",
      "<class 'sklearn.linear_model._logistic.LogisticRegression'>\n",
      "0.768235294117647\n",
      "<class 'sklearn.naive_bayes.GaussianNB'>\n",
      "0.8467647058823529\n",
      "<class 'sklearn.discriminant_analysis.LinearDiscriminantAnalysis'>\n",
      "0.8138235294117647\n"
     ]
    }
   ],
   "source": [
    "model_accs = []\n",
    "for model in models.values():\n",
    "    \n",
    "    print(model)\n",
    "    \n",
    "    accs = []\n",
    "    briers = []\n",
    "    \n",
    "    for i,column in enumerate(columns):\n",
    "\n",
    "        if( y_train[column].nunique()==1 or y_train[column].value_counts()[0] ==1 or y_train[column].value_counts()[1] ==1):\n",
    "            y_test[\"prob_\" + column] = 0\n",
    "            y_test[\"survival_simple_\" + column] = 1\n",
    "            y_test[\"survival_log_\" + column] = 0\n",
    "            y_test[\"hazard_\" + column] = 0\n",
    "            continue\n",
    "\n",
    "        cobra = model()\n",
    "        cobra = cobra.fit(X_train, y_train[column])\n",
    "        preds = cobra.predict(X_test)\n",
    "        \n",
    "        y_test[\"prob_\" + column] = preds\n",
    "        \n",
    "        briers.append(brier_score_loss(y_test[column],preds))\n",
    "        \n",
    "        preds[preds > 0.5] = 1\n",
    "        preds[preds <= 0.5] = 0\n",
    "        accs.append(accuracy_score(preds, y_test[column]))\n",
    "        \n",
    "        if(i>1):\n",
    "            y_test[\"prob_\" + column] =  np.maximum(y_test[\"prob_\" + columns[i-1]],y_test[\"prob_\" + column])\n",
    "            y_test[\"survival_simple_\" + column] = 1 - y_test[\"prob_\" + column]\n",
    "\n",
    "            y_test[\"survival_log_\" + column] = np.log(y_test[\"survival_simple_\" + column])\n",
    "            y_test[\"hazard_\" + column] = ( - y_test[\"survival_log_\" + columns[i]] + y_test[\"survival_log_\" + columns[i-1]])/steps\n",
    "    \n",
    "    model_accs.append(np.mean(briers))\n",
    "    print(np.mean(accs))\n",
    "    "
   ]
  },
  {
   "cell_type": "code",
   "execution_count": 25,
   "metadata": {},
   "outputs": [
    {
     "data": {
      "text/plain": [
       "[0.2155882352941176,\n",
       " 0.21441176470588236,\n",
       " 0.20470588235294115,\n",
       " 0.23176470588235293,\n",
       " 0.15323529411764705,\n",
       " 0.18617647058823528,\n",
       " 0.665,\n",
       " 0.795]"
      ]
     },
     "execution_count": 25,
     "metadata": {},
     "output_type": "execute_result"
    }
   ],
   "source": [
    "model_accs.append(0.665)\n",
    "model_accs.append(0.795)\n",
    "model_accs"
   ]
  },
  {
   "cell_type": "code",
   "execution_count": 26,
   "metadata": {},
   "outputs": [
    {
     "data": {
      "text/plain": [
       "([0, 1, 2, 3, 4, 5, 6, 7], <a list of 8 Text xticklabel objects>)"
      ]
     },
     "execution_count": 26,
     "metadata": {},
     "output_type": "execute_result"
    },
    {
     "data": {
      "image/png": "[encoded data removed]",
      "text/plain": [
       "<Figure size 432x288 with 1 Axes>"
      ]
     },
     "metadata": {
      "needs_background": "light"
     },
     "output_type": "display_data"
    }
   ],
   "source": [
    "xlabels = ['Support Vector Classifier', 'K Nearest Neighbors', 'Decision Tree Classifier', 'Logistic Regression', 'Gaussian Naive Bayes', 'Linear Discriminant Analysis', 'Random Survival Forest', 'COBRA']\n",
    "idx = np.argsort(model_accs)\n",
    "plt.bar(np.array(xlabels)[idx], np.array(model_accs)[idx], color = ['orange', 'blue', 'blue', 'blue', 'blue',  'blue', 'blue', 'red'])\n",
    "plt.xlabel('Models')\n",
    "plt.ylabel('Accuracy')\n",
    "plt.title('Comparing various models through accuracy')\n",
    "plt.xticks(rotation = 90)"
   ]
  },
  {
   "cell_type": "code",
   "execution_count": 27,
   "metadata": {},
   "outputs": [],
   "source": [
    "model_accs.append(0.148)"
   ]
  },
  {
   "cell_type": "code",
   "execution_count": 28,
   "metadata": {},
   "outputs": [
    {
     "ename": "IndexError",
     "evalue": "index 8 is out of bounds for axis 0 with size 7",
     "output_type": "error",
     "traceback": [
      "\u001b[0;31m---------------------------------------------------------------------------\u001b[0m",
      "\u001b[0;31mIndexError\u001b[0m                                Traceback (most recent call last)",
      "\u001b[0;32m<ipython-input-28-be89d8d3c6e7>\u001b[0m in \u001b[0;36m<module>\u001b[0;34m\u001b[0m\n\u001b[1;32m      1\u001b[0m \u001b[0mxlabels\u001b[0m \u001b[0;34m=\u001b[0m \u001b[0;34m[\u001b[0m\u001b[0;34m'Support Vector Classifier'\u001b[0m\u001b[0;34m,\u001b[0m \u001b[0;34m'K Nearest Neighbors'\u001b[0m\u001b[0;34m,\u001b[0m \u001b[0;34m'Decision Tree Classifier'\u001b[0m\u001b[0;34m,\u001b[0m \u001b[0;34m'Logistic Regression'\u001b[0m\u001b[0;34m,\u001b[0m \u001b[0;34m'Gaussian Naive Bayes'\u001b[0m\u001b[0;34m,\u001b[0m \u001b[0;34m'Linear Discriminant Analysis'\u001b[0m\u001b[0;34m,\u001b[0m  \u001b[0;34m'COBRA'\u001b[0m\u001b[0;34m]\u001b[0m\u001b[0;34m\u001b[0m\u001b[0;34m\u001b[0m\u001b[0m\n\u001b[1;32m      2\u001b[0m \u001b[0midx\u001b[0m \u001b[0;34m=\u001b[0m \u001b[0mnp\u001b[0m\u001b[0;34m.\u001b[0m\u001b[0margsort\u001b[0m\u001b[0;34m(\u001b[0m\u001b[0mmodel_accs\u001b[0m\u001b[0;34m)\u001b[0m\u001b[0;34m\u001b[0m\u001b[0;34m\u001b[0m\u001b[0m\n\u001b[0;32m----> 3\u001b[0;31m \u001b[0mplt\u001b[0m\u001b[0;34m.\u001b[0m\u001b[0mbar\u001b[0m\u001b[0;34m(\u001b[0m\u001b[0mnp\u001b[0m\u001b[0;34m.\u001b[0m\u001b[0marray\u001b[0m\u001b[0;34m(\u001b[0m\u001b[0mxlabels\u001b[0m\u001b[0;34m)\u001b[0m\u001b[0;34m[\u001b[0m\u001b[0midx\u001b[0m\u001b[0;34m]\u001b[0m\u001b[0;34m,\u001b[0m \u001b[0mnp\u001b[0m\u001b[0;34m.\u001b[0m\u001b[0marray\u001b[0m\u001b[0;34m(\u001b[0m\u001b[0mmodel_accs\u001b[0m\u001b[0;34m)\u001b[0m\u001b[0;34m[\u001b[0m\u001b[0midx\u001b[0m\u001b[0;34m]\u001b[0m\u001b[0;34m,\u001b[0m \u001b[0mcolor\u001b[0m \u001b[0;34m=\u001b[0m \u001b[0;34m[\u001b[0m\u001b[0;34m'red'\u001b[0m\u001b[0;34m,\u001b[0m\u001b[0;34m'blue'\u001b[0m\u001b[0;34m,\u001b[0m \u001b[0;34m'blue'\u001b[0m\u001b[0;34m,\u001b[0m \u001b[0;34m'blue'\u001b[0m\u001b[0;34m,\u001b[0m \u001b[0;34m'blue'\u001b[0m\u001b[0;34m,\u001b[0m  \u001b[0;34m'blue'\u001b[0m\u001b[0;34m,\u001b[0m \u001b[0;34m'blue'\u001b[0m\u001b[0;34m]\u001b[0m\u001b[0;34m)\u001b[0m\u001b[0;34m\u001b[0m\u001b[0;34m\u001b[0m\u001b[0m\n\u001b[0m\u001b[1;32m      4\u001b[0m \u001b[0mplt\u001b[0m\u001b[0;34m.\u001b[0m\u001b[0mxlabel\u001b[0m\u001b[0;34m(\u001b[0m\u001b[0;34m'Models'\u001b[0m\u001b[0;34m)\u001b[0m\u001b[0;34m\u001b[0m\u001b[0;34m\u001b[0m\u001b[0m\n\u001b[1;32m      5\u001b[0m \u001b[0mplt\u001b[0m\u001b[0;34m.\u001b[0m\u001b[0mylabel\u001b[0m\u001b[0;34m(\u001b[0m\u001b[0;34m'Brier Score'\u001b[0m\u001b[0;34m)\u001b[0m\u001b[0;34m\u001b[0m\u001b[0;34m\u001b[0m\u001b[0m\n",
      "\u001b[0;31mIndexError\u001b[0m: index 8 is out of bounds for axis 0 with size 7"
     ]
    }
   ],
   "source": [
    "xlabels = ['Support Vector Classifier', 'K Nearest Neighbors', 'Decision Tree Classifier', 'Logistic Regression', 'Gaussian Naive Bayes', 'Linear Discriminant Analysis',  'COBRA']\n",
    "idx = np.argsort(model_accs)\n",
    "plt.bar(np.array(xlabels)[idx], np.array(model_accs)[idx], color = ['red','blue', 'blue', 'blue', 'blue',  'blue', 'blue'])\n",
    "plt.xlabel('Models')\n",
    "plt.ylabel('Brier Score')\n",
    "plt.title('Comparing various models through Brier Score')\n",
    "plt.xticks(rotation = 90)"
   ]
  },
  {
   "cell_type": "code",
   "execution_count": null,
   "metadata": {},
   "outputs": [],
   "source": []
  },
  {
   "cell_type": "raw",
   "metadata": {},
   "source": []
  },
  {
   "cell_type": "code",
   "execution_count": null,
   "metadata": {},
   "outputs": [],
   "source": [
    "idx = np.argsort(model_accs)\n",
    "idx"
   ]
  },
  {
   "cell_type": "code",
   "execution_count": null,
   "metadata": {},
   "outputs": [],
   "source": []
  },
  {
   "cell_type": "code",
   "execution_count": null,
   "metadata": {},
   "outputs": [],
   "source": []
  }
 ],
 "metadata": {
  "interpreter": {
   "hash": "aa8ca25004f0cdbefbb45b19e914c592a50d79c45d4d00948be716e0632b82c4"
  },
  "kernelspec": {
   "display_name": "Python 3",
   "language": "python",
   "name": "python3"
  },
  "language_info": {
   "codemirror_mode": {
    "name": "ipython",
    "version": 3
   },
   "file_extension": ".py",
   "mimetype": "text/x-python",
   "name": "python",
   "nbconvert_exporter": "python",
   "pygments_lexer": "ipython3",
   "version": "3.8.10"
  }
 },
 "nbformat": 4,
 "nbformat_minor": 4
}
