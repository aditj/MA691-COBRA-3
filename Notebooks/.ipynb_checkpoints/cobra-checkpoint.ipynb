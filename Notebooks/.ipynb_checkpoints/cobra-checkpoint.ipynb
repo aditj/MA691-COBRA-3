{
 "cells": [
  {
   "cell_type": "markdown",
   "metadata": {},
   "source": [
    "### Imports"
   ]
  },
  {
   "cell_type": "code",
   "execution_count": 123,
   "metadata": {},
   "outputs": [],
   "source": [
    "import pandas as pd\n",
    "import numpy as np\n",
    "from math import fabs\n",
    "from sklearn.metrics import r2_score, accuracy_score\n",
    "import matplotlib.pyplot as plt\n",
    "from sklearn.ensemble import AdaBoostRegressor, GradientBoostingRegressor, RandomForestRegressor\n",
    "from sklearn.linear_model import LogisticRegression, SGDClassifier\n",
    "from sklearn import neighbors, tree, svm\n",
    "from sklearn.naive_bayes import GaussianNB\n",
    "from sklearn.discriminant_analysis import LinearDiscriminantAnalysis\n",
    "from sklearn.neural_network import MLPClassifier\n",
    "from sklearn.tree import DecisionTreeRegressor\n",
    "from sklearn.model_selection import train_test_split\n",
    "from sklearn.metrics import mean_squared_error    \n",
    "from sklearn.base import BaseEstimator"
   ]
  },
  {
   "cell_type": "markdown",
   "metadata": {},
   "source": [
    "### Loading and Cleaning dataset"
   ]
  },
  {
   "cell_type": "code",
   "execution_count": 2,
   "metadata": {},
   "outputs": [
    {
     "data": {
      "text/html": [
       "<div>\n",
       "<style scoped>\n",
       "    .dataframe tbody tr th:only-of-type {\n",
       "        vertical-align: middle;\n",
       "    }\n",
       "\n",
       "    .dataframe tbody tr th {\n",
       "        vertical-align: top;\n",
       "    }\n",
       "\n",
       "    .dataframe thead th {\n",
       "        text-align: right;\n",
       "    }\n",
       "</style>\n",
       "<table border=\"1\" class=\"dataframe\">\n",
       "  <thead>\n",
       "    <tr style=\"text-align: right;\">\n",
       "      <th></th>\n",
       "      <th>219340_s_at</th>\n",
       "      <th>217771_at</th>\n",
       "      <th>202418_at</th>\n",
       "      <th>206295_at</th>\n",
       "      <th>201091_s_at</th>\n",
       "      <th>204015_s_at</th>\n",
       "      <th>200726_at</th>\n",
       "      <th>200965_s_at</th>\n",
       "      <th>210314_x_at</th>\n",
       "      <th>221882_s_at</th>\n",
       "      <th>...</th>\n",
       "      <th>t.dmfs</th>\n",
       "      <th>e.dmfs</th>\n",
       "      <th>t.tdm</th>\n",
       "      <th>e.tdm</th>\n",
       "      <th>risksg</th>\n",
       "      <th>NPI</th>\n",
       "      <th>risknpi</th>\n",
       "      <th>AOL_os_10y</th>\n",
       "      <th>risk_AOL</th>\n",
       "      <th>veridex_risk</th>\n",
       "    </tr>\n",
       "  </thead>\n",
       "  <tbody>\n",
       "    <tr>\n",
       "      <th>0</th>\n",
       "      <td>7.014110</td>\n",
       "      <td>9.938705</td>\n",
       "      <td>11.053083</td>\n",
       "      <td>5.326001</td>\n",
       "      <td>10.964107</td>\n",
       "      <td>6.244280</td>\n",
       "      <td>10.926361</td>\n",
       "      <td>8.962608</td>\n",
       "      <td>10.523859</td>\n",
       "      <td>10.926365</td>\n",
       "      <td>...</td>\n",
       "      <td>723</td>\n",
       "      <td>1</td>\n",
       "      <td>723</td>\n",
       "      <td>1</td>\n",
       "      <td>2</td>\n",
       "      <td>4.60</td>\n",
       "      <td>2</td>\n",
       "      <td>62.7</td>\n",
       "      <td>1</td>\n",
       "      <td>Poor</td>\n",
       "    </tr>\n",
       "    <tr>\n",
       "      <th>1</th>\n",
       "      <td>7.326724</td>\n",
       "      <td>6.374728</td>\n",
       "      <td>10.596457</td>\n",
       "      <td>8.290123</td>\n",
       "      <td>11.594716</td>\n",
       "      <td>6.542130</td>\n",
       "      <td>12.242090</td>\n",
       "      <td>9.531718</td>\n",
       "      <td>10.342614</td>\n",
       "      <td>9.555092</td>\n",
       "      <td>...</td>\n",
       "      <td>6591</td>\n",
       "      <td>0</td>\n",
       "      <td>6591</td>\n",
       "      <td>0</td>\n",
       "      <td>2</td>\n",
       "      <td>4.60</td>\n",
       "      <td>2</td>\n",
       "      <td>69.0</td>\n",
       "      <td>1</td>\n",
       "      <td>Poor</td>\n",
       "    </tr>\n",
       "    <tr>\n",
       "      <th>2</th>\n",
       "      <td>6.974651</td>\n",
       "      <td>9.226757</td>\n",
       "      <td>10.834848</td>\n",
       "      <td>5.731169</td>\n",
       "      <td>9.166088</td>\n",
       "      <td>6.586000</td>\n",
       "      <td>11.661716</td>\n",
       "      <td>10.238680</td>\n",
       "      <td>10.144875</td>\n",
       "      <td>9.308048</td>\n",
       "      <td>...</td>\n",
       "      <td>524</td>\n",
       "      <td>1</td>\n",
       "      <td>524</td>\n",
       "      <td>1</td>\n",
       "      <td>2</td>\n",
       "      <td>4.50</td>\n",
       "      <td>2</td>\n",
       "      <td>66.2</td>\n",
       "      <td>1</td>\n",
       "      <td>Poor</td>\n",
       "    </tr>\n",
       "    <tr>\n",
       "      <th>3</th>\n",
       "      <td>7.703683</td>\n",
       "      <td>8.169183</td>\n",
       "      <td>11.627066</td>\n",
       "      <td>8.538247</td>\n",
       "      <td>9.086937</td>\n",
       "      <td>8.477335</td>\n",
       "      <td>12.174021</td>\n",
       "      <td>9.819279</td>\n",
       "      <td>10.888251</td>\n",
       "      <td>10.208241</td>\n",
       "      <td>...</td>\n",
       "      <td>6255</td>\n",
       "      <td>1</td>\n",
       "      <td>6255</td>\n",
       "      <td>0</td>\n",
       "      <td>2</td>\n",
       "      <td>4.36</td>\n",
       "      <td>2</td>\n",
       "      <td>84.9</td>\n",
       "      <td>1</td>\n",
       "      <td>Poor</td>\n",
       "    </tr>\n",
       "    <tr>\n",
       "      <th>4</th>\n",
       "      <td>6.581141</td>\n",
       "      <td>7.496745</td>\n",
       "      <td>11.500773</td>\n",
       "      <td>5.979282</td>\n",
       "      <td>8.887616</td>\n",
       "      <td>7.398170</td>\n",
       "      <td>11.484011</td>\n",
       "      <td>11.489233</td>\n",
       "      <td>9.702690</td>\n",
       "      <td>10.931843</td>\n",
       "      <td>...</td>\n",
       "      <td>3822</td>\n",
       "      <td>1</td>\n",
       "      <td>3822</td>\n",
       "      <td>1</td>\n",
       "      <td>2</td>\n",
       "      <td>3.60</td>\n",
       "      <td>2</td>\n",
       "      <td>80.2</td>\n",
       "      <td>1</td>\n",
       "      <td>Poor</td>\n",
       "    </tr>\n",
       "  </tbody>\n",
       "</table>\n",
       "<p>5 rows × 103 columns</p>\n",
       "</div>"
      ],
      "text/plain": [
       "   219340_s_at  217771_at  202418_at  206295_at  201091_s_at  204015_s_at  \\\n",
       "0     7.014110   9.938705  11.053083   5.326001    10.964107     6.244280   \n",
       "1     7.326724   6.374728  10.596457   8.290123    11.594716     6.542130   \n",
       "2     6.974651   9.226757  10.834848   5.731169     9.166088     6.586000   \n",
       "3     7.703683   8.169183  11.627066   8.538247     9.086937     8.477335   \n",
       "4     6.581141   7.496745  11.500773   5.979282     8.887616     7.398170   \n",
       "\n",
       "   200726_at  200965_s_at  210314_x_at  221882_s_at  ...  t.dmfs  e.dmfs  \\\n",
       "0  10.926361     8.962608    10.523859    10.926365  ...     723       1   \n",
       "1  12.242090     9.531718    10.342614     9.555092  ...    6591       0   \n",
       "2  11.661716    10.238680    10.144875     9.308048  ...     524       1   \n",
       "3  12.174021     9.819279    10.888251    10.208241  ...    6255       1   \n",
       "4  11.484011    11.489233     9.702690    10.931843  ...    3822       1   \n",
       "\n",
       "   t.tdm  e.tdm  risksg   NPI  risknpi  AOL_os_10y  risk_AOL  veridex_risk  \n",
       "0    723      1       2  4.60        2        62.7         1          Poor  \n",
       "1   6591      0       2  4.60        2        69.0         1          Poor  \n",
       "2    524      1       2  4.50        2        66.2         1          Poor  \n",
       "3   6255      0       2  4.36        2        84.9         1          Poor  \n",
       "4   3822      1       2  3.60        2        80.2         1          Poor  \n",
       "\n",
       "[5 rows x 103 columns]"
      ]
     },
     "execution_count": 2,
     "metadata": {},
     "output_type": "execute_result"
    }
   ],
   "source": [
    "df = pd.read_csv(\"selected.csv\", index_col = False)\n",
    "df.drop([\"Unnamed: 0\"], inplace = True, axis = 1)\n",
    "df = df.replace(' NA', np.nan)\n",
    "df = df.replace('NA', np.nan)\n",
    "df['NPI'] = df['NPI'].astype('float')\n",
    "df['NPI'].replace(np.nan, df['NPI'].mean(), inplace = True)\n",
    "df.head()"
   ]
  },
  {
   "cell_type": "code",
   "execution_count": 3,
   "metadata": {},
   "outputs": [
    {
     "data": {
      "text/plain": [
       "array([[<matplotlib.axes._subplots.AxesSubplot object at 0x7fed40b42dc0>]],\n",
       "      dtype=object)"
      ]
     },
     "execution_count": 3,
     "metadata": {},
     "output_type": "execute_result"
    },
    {
     "data": {
      "image/png": "[encoded data removed]",
      "text/plain": [
       "<Figure size 432x288 with 1 Axes>"
      ]
     },
     "metadata": {
      "needs_background": "light"
     },
     "output_type": "display_data"
    }
   ],
   "source": [
    "df[df[\"e.tdm\"]==1][[\"t.tdm\"]].hist()"
   ]
  },
  {
   "cell_type": "markdown",
   "metadata": {},
   "source": [
    "### Choosing columns for training"
   ]
  },
  {
   "cell_type": "code",
   "execution_count": 4,
   "metadata": {},
   "outputs": [],
   "source": [
    "removals = ['t.rfs', 'e.rfs', 't.os', 'e.os', 't.dmfs','e.dmfs', 't.tdm', 'e.tdm', \"samplename\", \"id\",\"filename\",\"hospital\", 'Surgery_type', 'Histtype', 'Angioinv', 'Lymp_infil', 'node', 'grade', 'er', 'risksg', 'risknpi', 'risk_AOL', 'veridex_risk']\n",
    "rest = [i for i in df.columns if i not in removals]"
   ]
  },
  {
   "cell_type": "code",
   "execution_count": 5,
   "metadata": {},
   "outputs": [],
   "source": [
    "X = df[rest]\n",
    "y = df[\"t.tdm\"]"
   ]
  },
  {
   "cell_type": "code",
   "execution_count": 6,
   "metadata": {},
   "outputs": [
    {
     "data": {
      "text/plain": [
       "<matplotlib.axes._subplots.AxesSubplot at 0x7fed3ea660a0>"
      ]
     },
     "execution_count": 6,
     "metadata": {},
     "output_type": "execute_result"
    },
    {
     "data": {
      "image/png": "[encoded data removed]",
      "text/plain": [
       "<Figure size 432x288 with 1 Axes>"
      ]
     },
     "metadata": {
      "needs_background": "light"
     },
     "output_type": "display_data"
    }
   ],
   "source": [
    "y.hist()"
   ]
  },
  {
   "cell_type": "markdown",
   "metadata": {},
   "source": [
    "### Defining Indicator Functions"
   ]
  },
  {
   "cell_type": "code",
   "execution_count": 7,
   "metadata": {},
   "outputs": [],
   "source": [
    "steps = 100\n",
    "indicators = np.arange(0,10000,steps)\n",
    "\n",
    "for indicator in indicators:\n",
    "    df['indi_'+str(indicator)]= y < indicator\n",
    "    "
   ]
  },
  {
   "cell_type": "markdown",
   "metadata": {},
   "source": [
    "### Train-Test Split"
   ]
  },
  {
   "cell_type": "code",
   "execution_count": 52,
   "metadata": {},
   "outputs": [],
   "source": [
    "X_train, X_test, y_train, y_test = train_test_split(X, df[['indi_'+str(indicator) for indicator in indicators]], test_size=0.33, random_state=42)\n",
    "columns = y_train.columns"
   ]
  },
  {
   "cell_type": "code",
   "execution_count": 140,
   "metadata": {},
   "outputs": [
    {
     "name": "stdout",
     "output_type": "stream",
     "text": [
      "0.7455954897815363\n"
     ]
    }
   ],
   "source": [
    "accs = []\n",
    "for i,column in enumerate(columns):\n",
    "    if( y_train[column].nunique()==1):\n",
    "        y_test[\"prob_\" + column] = 0\n",
    "        y_test[\"survival_simple_\" + column] = 1\n",
    "        y_test[\"survival_log_\" + column] = 0\n",
    "        y_test[\"hazard_\" + column] = 0\n",
    "        continue\n",
    "        \n",
    "    clf = LogisticRegression(random_state=0,solver='liblinear')\n",
    "    clf.fit(X_train, y_train[column])\n",
    "    y_test[\"prob_\" + column] = clf.predict_proba(X_test)[:,1]\n",
    "    accs.append(clf.score(X_test, y_test[column]))\n",
    "    if(i>1):\n",
    "        y_test[\"prob_\" + column] =  np.maximum(y_test[\"prob_\" + columns[i-1]],y_test[\"prob_\" + column])\n",
    "        y_test[\"survival_simple_\" + column] = 1 - y_test[\"prob_\" + column]\n",
    "        \n",
    "        y_test[\"survival_log_\" + column] = np.log(y_test[\"survival_simple_\" + column])\n",
    "        y_test[\"hazard_\" + column] = ( - y_test[\"survival_log_\" + columns[i]] + y_test[\"survival_log_\" + columns[i-1]])/steps\n",
    "print(np.mean(accs))"
   ]
  },
  {
   "cell_type": "code",
   "execution_count": 54,
   "metadata": {},
   "outputs": [
    {
     "data": {
      "text/plain": [
       "<matplotlib.legend.Legend at 0x7fed3c06c7f0>"
      ]
     },
     "execution_count": 54,
     "metadata": {},
     "output_type": "execute_result"
    },
    {
     "data": {
      "image/png": "[encoded data removed]",
      "text/plain": [
       "<Figure size 432x288 with 1 Axes>"
      ]
     },
     "metadata": {
      "needs_background": "light"
     },
     "output_type": "display_data"
    }
   ],
   "source": [
    "plt.figure()\n",
    "for i in range(5):\n",
    "    plt.plot(indicators, y_test.iloc[i,:][y_test.columns[y_test.columns.str.startswith(\"hazard_\")]].cumsum(), label=f\"patient {X_test.iloc[i].name}\")\n",
    "    \n",
    "plt.xlabel('Time in Days')\n",
    "plt.ylabel('Cumulative Hazard')\n",
    "plt.xlabel('Time in Days')\n",
    "plt.title(\"Plotting Cumulative Hazard Function vs Time in days\")\n",
    "plt.legend()"
   ]
  },
  {
   "cell_type": "code",
   "execution_count": 55,
   "metadata": {},
   "outputs": [
    {
     "data": {
      "text/plain": [
       "<matplotlib.legend.Legend at 0x7fed3c05ed90>"
      ]
     },
     "execution_count": 55,
     "metadata": {},
     "output_type": "execute_result"
    },
    {
     "data": {
      "image/png": "[encoded data removed]",
      "text/plain": [
       "<Figure size 432x288 with 1 Axes>"
      ]
     },
     "metadata": {
      "needs_background": "light"
     },
     "output_type": "display_data"
    }
   ],
   "source": [
    "plt.figure()\n",
    "for i in range(5):\n",
    "    plt.plot(indicators, y_test.iloc[i,:][y_test.columns[y_test.columns.str.startswith(\"survival_simple_\")]], label=f\"patient {X_test.iloc[i].name}\")\n",
    "    \n",
    "plt.xlabel(\"Time in days\")\n",
    "plt.ylabel(\"Survival Function\")\n",
    "plt.title(\"Plotting Survival Function vs Time\")\n",
    "plt.legend()"
   ]
  },
  {
   "cell_type": "markdown",
   "metadata": {},
   "source": [
    "### Implementing Cobra"
   ]
  },
  {
   "cell_type": "code",
   "execution_count": 90,
   "metadata": {},
   "outputs": [],
   "source": [
    "models = {\"svc\": svm.SVC, \"knn\": neighbors.KNeighborsClassifier, \"dt\": tree.DecisionTreeClassifier, \"logreg\": LogisticRegression, \"gaussnb\": GaussianNB, \"lda\": LinearDiscriminantAnalysis}"
   ]
  },
  {
   "cell_type": "code",
   "execution_count": 91,
   "metadata": {},
   "outputs": [],
   "source": [
    "X_train, X_test, y_train, y_test = train_test_split(X, df[['indi_'+str(indicator) for indicator in indicators]], test_size=0.33, random_state=42)\n",
    "columns = y_train.columns"
   ]
  },
  {
   "cell_type": "code",
   "execution_count": 92,
   "metadata": {},
   "outputs": [
    {
     "data": {
      "text/html": [
       "<div>\n",
       "<style scoped>\n",
       "    .dataframe tbody tr th:only-of-type {\n",
       "        vertical-align: middle;\n",
       "    }\n",
       "\n",
       "    .dataframe tbody tr th {\n",
       "        vertical-align: top;\n",
       "    }\n",
       "\n",
       "    .dataframe thead th {\n",
       "        text-align: right;\n",
       "    }\n",
       "</style>\n",
       "<table border=\"1\" class=\"dataframe\">\n",
       "  <thead>\n",
       "    <tr style=\"text-align: right;\">\n",
       "      <th></th>\n",
       "      <th>indi_0</th>\n",
       "      <th>indi_100</th>\n",
       "      <th>indi_200</th>\n",
       "      <th>indi_300</th>\n",
       "      <th>indi_400</th>\n",
       "      <th>indi_500</th>\n",
       "      <th>indi_600</th>\n",
       "      <th>indi_700</th>\n",
       "      <th>indi_800</th>\n",
       "      <th>indi_900</th>\n",
       "      <th>...</th>\n",
       "      <th>indi_9000</th>\n",
       "      <th>indi_9100</th>\n",
       "      <th>indi_9200</th>\n",
       "      <th>indi_9300</th>\n",
       "      <th>indi_9400</th>\n",
       "      <th>indi_9500</th>\n",
       "      <th>indi_9600</th>\n",
       "      <th>indi_9700</th>\n",
       "      <th>indi_9800</th>\n",
       "      <th>indi_9900</th>\n",
       "    </tr>\n",
       "  </thead>\n",
       "  <tbody>\n",
       "    <tr>\n",
       "      <th>41</th>\n",
       "      <td>False</td>\n",
       "      <td>False</td>\n",
       "      <td>False</td>\n",
       "      <td>False</td>\n",
       "      <td>False</td>\n",
       "      <td>False</td>\n",
       "      <td>True</td>\n",
       "      <td>True</td>\n",
       "      <td>True</td>\n",
       "      <td>True</td>\n",
       "      <td>...</td>\n",
       "      <td>True</td>\n",
       "      <td>True</td>\n",
       "      <td>True</td>\n",
       "      <td>True</td>\n",
       "      <td>True</td>\n",
       "      <td>True</td>\n",
       "      <td>True</td>\n",
       "      <td>True</td>\n",
       "      <td>True</td>\n",
       "      <td>True</td>\n",
       "    </tr>\n",
       "    <tr>\n",
       "      <th>164</th>\n",
       "      <td>False</td>\n",
       "      <td>False</td>\n",
       "      <td>False</td>\n",
       "      <td>False</td>\n",
       "      <td>False</td>\n",
       "      <td>False</td>\n",
       "      <td>False</td>\n",
       "      <td>False</td>\n",
       "      <td>False</td>\n",
       "      <td>False</td>\n",
       "      <td>...</td>\n",
       "      <td>True</td>\n",
       "      <td>True</td>\n",
       "      <td>True</td>\n",
       "      <td>True</td>\n",
       "      <td>True</td>\n",
       "      <td>True</td>\n",
       "      <td>True</td>\n",
       "      <td>True</td>\n",
       "      <td>True</td>\n",
       "      <td>True</td>\n",
       "    </tr>\n",
       "    <tr>\n",
       "      <th>189</th>\n",
       "      <td>False</td>\n",
       "      <td>False</td>\n",
       "      <td>False</td>\n",
       "      <td>False</td>\n",
       "      <td>False</td>\n",
       "      <td>False</td>\n",
       "      <td>False</td>\n",
       "      <td>False</td>\n",
       "      <td>False</td>\n",
       "      <td>False</td>\n",
       "      <td>...</td>\n",
       "      <td>True</td>\n",
       "      <td>True</td>\n",
       "      <td>True</td>\n",
       "      <td>True</td>\n",
       "      <td>True</td>\n",
       "      <td>True</td>\n",
       "      <td>True</td>\n",
       "      <td>True</td>\n",
       "      <td>True</td>\n",
       "      <td>True</td>\n",
       "    </tr>\n",
       "    <tr>\n",
       "      <th>26</th>\n",
       "      <td>False</td>\n",
       "      <td>False</td>\n",
       "      <td>False</td>\n",
       "      <td>False</td>\n",
       "      <td>False</td>\n",
       "      <td>False</td>\n",
       "      <td>False</td>\n",
       "      <td>False</td>\n",
       "      <td>False</td>\n",
       "      <td>False</td>\n",
       "      <td>...</td>\n",
       "      <td>True</td>\n",
       "      <td>True</td>\n",
       "      <td>True</td>\n",
       "      <td>True</td>\n",
       "      <td>True</td>\n",
       "      <td>True</td>\n",
       "      <td>True</td>\n",
       "      <td>True</td>\n",
       "      <td>True</td>\n",
       "      <td>True</td>\n",
       "    </tr>\n",
       "    <tr>\n",
       "      <th>139</th>\n",
       "      <td>False</td>\n",
       "      <td>False</td>\n",
       "      <td>False</td>\n",
       "      <td>False</td>\n",
       "      <td>False</td>\n",
       "      <td>False</td>\n",
       "      <td>False</td>\n",
       "      <td>False</td>\n",
       "      <td>False</td>\n",
       "      <td>False</td>\n",
       "      <td>...</td>\n",
       "      <td>True</td>\n",
       "      <td>True</td>\n",
       "      <td>True</td>\n",
       "      <td>True</td>\n",
       "      <td>True</td>\n",
       "      <td>True</td>\n",
       "      <td>True</td>\n",
       "      <td>True</td>\n",
       "      <td>True</td>\n",
       "      <td>True</td>\n",
       "    </tr>\n",
       "    <tr>\n",
       "      <th>...</th>\n",
       "      <td>...</td>\n",
       "      <td>...</td>\n",
       "      <td>...</td>\n",
       "      <td>...</td>\n",
       "      <td>...</td>\n",
       "      <td>...</td>\n",
       "      <td>...</td>\n",
       "      <td>...</td>\n",
       "      <td>...</td>\n",
       "      <td>...</td>\n",
       "      <td>...</td>\n",
       "      <td>...</td>\n",
       "      <td>...</td>\n",
       "      <td>...</td>\n",
       "      <td>...</td>\n",
       "      <td>...</td>\n",
       "      <td>...</td>\n",
       "      <td>...</td>\n",
       "      <td>...</td>\n",
       "      <td>...</td>\n",
       "      <td>...</td>\n",
       "    </tr>\n",
       "    <tr>\n",
       "      <th>106</th>\n",
       "      <td>False</td>\n",
       "      <td>False</td>\n",
       "      <td>False</td>\n",
       "      <td>False</td>\n",
       "      <td>False</td>\n",
       "      <td>False</td>\n",
       "      <td>False</td>\n",
       "      <td>False</td>\n",
       "      <td>False</td>\n",
       "      <td>False</td>\n",
       "      <td>...</td>\n",
       "      <td>True</td>\n",
       "      <td>True</td>\n",
       "      <td>True</td>\n",
       "      <td>True</td>\n",
       "      <td>True</td>\n",
       "      <td>True</td>\n",
       "      <td>True</td>\n",
       "      <td>True</td>\n",
       "      <td>True</td>\n",
       "      <td>True</td>\n",
       "    </tr>\n",
       "    <tr>\n",
       "      <th>14</th>\n",
       "      <td>False</td>\n",
       "      <td>False</td>\n",
       "      <td>False</td>\n",
       "      <td>False</td>\n",
       "      <td>False</td>\n",
       "      <td>False</td>\n",
       "      <td>False</td>\n",
       "      <td>True</td>\n",
       "      <td>True</td>\n",
       "      <td>True</td>\n",
       "      <td>...</td>\n",
       "      <td>True</td>\n",
       "      <td>True</td>\n",
       "      <td>True</td>\n",
       "      <td>True</td>\n",
       "      <td>True</td>\n",
       "      <td>True</td>\n",
       "      <td>True</td>\n",
       "      <td>True</td>\n",
       "      <td>True</td>\n",
       "      <td>True</td>\n",
       "    </tr>\n",
       "    <tr>\n",
       "      <th>92</th>\n",
       "      <td>False</td>\n",
       "      <td>False</td>\n",
       "      <td>False</td>\n",
       "      <td>False</td>\n",
       "      <td>False</td>\n",
       "      <td>False</td>\n",
       "      <td>False</td>\n",
       "      <td>False</td>\n",
       "      <td>False</td>\n",
       "      <td>False</td>\n",
       "      <td>...</td>\n",
       "      <td>True</td>\n",
       "      <td>True</td>\n",
       "      <td>True</td>\n",
       "      <td>True</td>\n",
       "      <td>True</td>\n",
       "      <td>True</td>\n",
       "      <td>True</td>\n",
       "      <td>True</td>\n",
       "      <td>True</td>\n",
       "      <td>True</td>\n",
       "    </tr>\n",
       "    <tr>\n",
       "      <th>179</th>\n",
       "      <td>False</td>\n",
       "      <td>False</td>\n",
       "      <td>False</td>\n",
       "      <td>False</td>\n",
       "      <td>False</td>\n",
       "      <td>False</td>\n",
       "      <td>False</td>\n",
       "      <td>False</td>\n",
       "      <td>False</td>\n",
       "      <td>False</td>\n",
       "      <td>...</td>\n",
       "      <td>True</td>\n",
       "      <td>True</td>\n",
       "      <td>True</td>\n",
       "      <td>True</td>\n",
       "      <td>True</td>\n",
       "      <td>True</td>\n",
       "      <td>True</td>\n",
       "      <td>True</td>\n",
       "      <td>True</td>\n",
       "      <td>True</td>\n",
       "    </tr>\n",
       "    <tr>\n",
       "      <th>102</th>\n",
       "      <td>False</td>\n",
       "      <td>False</td>\n",
       "      <td>False</td>\n",
       "      <td>False</td>\n",
       "      <td>False</td>\n",
       "      <td>False</td>\n",
       "      <td>False</td>\n",
       "      <td>False</td>\n",
       "      <td>False</td>\n",
       "      <td>False</td>\n",
       "      <td>...</td>\n",
       "      <td>True</td>\n",
       "      <td>True</td>\n",
       "      <td>True</td>\n",
       "      <td>True</td>\n",
       "      <td>True</td>\n",
       "      <td>True</td>\n",
       "      <td>True</td>\n",
       "      <td>True</td>\n",
       "      <td>True</td>\n",
       "      <td>True</td>\n",
       "    </tr>\n",
       "  </tbody>\n",
       "</table>\n",
       "<p>132 rows × 100 columns</p>\n",
       "</div>"
      ],
      "text/plain": [
       "     indi_0  indi_100  indi_200  indi_300  indi_400  indi_500  indi_600  \\\n",
       "41    False     False     False     False     False     False      True   \n",
       "164   False     False     False     False     False     False     False   \n",
       "189   False     False     False     False     False     False     False   \n",
       "26    False     False     False     False     False     False     False   \n",
       "139   False     False     False     False     False     False     False   \n",
       "..      ...       ...       ...       ...       ...       ...       ...   \n",
       "106   False     False     False     False     False     False     False   \n",
       "14    False     False     False     False     False     False     False   \n",
       "92    False     False     False     False     False     False     False   \n",
       "179   False     False     False     False     False     False     False   \n",
       "102   False     False     False     False     False     False     False   \n",
       "\n",
       "     indi_700  indi_800  indi_900  ...  indi_9000  indi_9100  indi_9200  \\\n",
       "41       True      True      True  ...       True       True       True   \n",
       "164     False     False     False  ...       True       True       True   \n",
       "189     False     False     False  ...       True       True       True   \n",
       "26      False     False     False  ...       True       True       True   \n",
       "139     False     False     False  ...       True       True       True   \n",
       "..        ...       ...       ...  ...        ...        ...        ...   \n",
       "106     False     False     False  ...       True       True       True   \n",
       "14       True      True      True  ...       True       True       True   \n",
       "92      False     False     False  ...       True       True       True   \n",
       "179     False     False     False  ...       True       True       True   \n",
       "102     False     False     False  ...       True       True       True   \n",
       "\n",
       "     indi_9300  indi_9400  indi_9500  indi_9600  indi_9700  indi_9800  \\\n",
       "41        True       True       True       True       True       True   \n",
       "164       True       True       True       True       True       True   \n",
       "189       True       True       True       True       True       True   \n",
       "26        True       True       True       True       True       True   \n",
       "139       True       True       True       True       True       True   \n",
       "..         ...        ...        ...        ...        ...        ...   \n",
       "106       True       True       True       True       True       True   \n",
       "14        True       True       True       True       True       True   \n",
       "92        True       True       True       True       True       True   \n",
       "179       True       True       True       True       True       True   \n",
       "102       True       True       True       True       True       True   \n",
       "\n",
       "     indi_9900  \n",
       "41        True  \n",
       "164       True  \n",
       "189       True  \n",
       "26        True  \n",
       "139       True  \n",
       "..         ...  \n",
       "106       True  \n",
       "14        True  \n",
       "92        True  \n",
       "179       True  \n",
       "102       True  \n",
       "\n",
       "[132 rows x 100 columns]"
      ]
     },
     "execution_count": 92,
     "metadata": {},
     "output_type": "execute_result"
    }
   ],
   "source": [
    "y_train"
   ]
  },
  {
   "cell_type": "code",
   "execution_count": 101,
   "metadata": {},
   "outputs": [
    {
     "name": "stdout",
     "output_type": "stream",
     "text": [
      "svc\n",
      "knn\n",
      "dt\n",
      "logreg\n",
      "gaussnb\n",
      "lda\n"
     ]
    }
   ],
   "source": [
    "for j in models:\n",
    "    print(j)\n",
    "    for i,column in enumerate(columns):\n",
    "        if( y_train[column].nunique()==1):\n",
    "            continue\n",
    "        if j == \"logreg\":\n",
    "            model = models[j](solver = 'liblinear')\n",
    "            clf = model.fit(X_train, y_train[column])\n",
    "            \n",
    "        elif j =='svc':\n",
    "            model = models[j](probability = True)\n",
    "            clf = model.fit(X_train, y_train[column])\n",
    "        else:\n",
    "            model = models[j]()\n",
    "            clf = model.fit(X_train, y_train[column])\n",
    "        y_test[\"prob_\" + column] = clf.predict_proba(X_test)[:,1]\n",
    "\n",
    "#         if(i>1):\n",
    "#             y_test[\"prob_\" + column] =  np.maximum(y_test[\"prob_\" + columns[i-1]],y_test[\"prob_\" + column])\n",
    "#             y_test[\"survival_simple_\" + column] = 1 - y_test[\"prob_\" + column]\n",
    "\n",
    "#             y_test[\"survival_log_\" + column] = np.log(y_test[\"survival_simple_\" + column])\n",
    "#             y_test[\"hazard_\" + column] = ( - y_test[\"survival_log_\" + columns[i]] + y_test[\"survival_log_\" + columns[i-1]])/steps"
   ]
  },
  {
   "cell_type": "markdown",
   "metadata": {},
   "source": [
    "## Cobra Estimator Class"
   ]
  },
  {
   "cell_type": "code",
   "execution_count": 125,
   "metadata": {},
   "outputs": [],
   "source": [
    "class Cobra(BaseEstimator):\n",
    "    def __init__(self, eps=None):\n",
    "        ## Defining Parameters\n",
    "        self.eps = eps\n",
    "        self.machines = {}\n",
    "        self.models = {'svc': svm.SVC,\n",
    "                     'knn': neighbors.KNeighborsClassifier,\n",
    "                     'dt': tree.DecisionTreeClassifier,\n",
    "                     'logreg': LogisticRegression,\n",
    "                     'gaussnb': GaussianNB,\n",
    "                     'lda': LinearDiscriminantAnalysis}\n",
    "        self.alpha = len(self.models)\n",
    "    \n",
    "    def fit(self, X_train, y_train):\n",
    "        # Fitting each of the models\n",
    "        for model_name in self.models:\n",
    "            if model_name == \"logreg\":\n",
    "                self.machines[model_name] = models[model_name](solver = 'liblinear').fit(X_train, y_train)\n",
    "            elif model_name =='svc':\n",
    "                self.machines[model_name] = models[model_name](probability = True).fit(X_train, y_train)\n",
    "            else:\n",
    "                self.machines[model_name] = models[model_name]().fit(X_train, y_train)\n",
    "        \n",
    "        return self\n",
    "    def predict(self, X_test):\n",
    "        # Genarating Predictions from trained regressors.\n",
    "        self.machine_predictions_ = {}\n",
    "        self.all_predictions_ = []\n",
    "        for machine_name in self.machines:\n",
    "            self.machine_predictions_[machine_name] = self.machines[machine_name].predict_proba(X_test)[:,1]\n",
    "            self.all_predictions_.append(self.machine_predictions_[machine_name])\n",
    "        self.all_predictions_= np.array(self.all_predictions_)\n",
    "        selection_table = np.zeros((len(X_test), self.alpha))\n",
    "        \n",
    "        for machine_index, machine_name in enumerate(self.models.keys()):\n",
    "            predicted_val = self.machines[machine_name].predict_proba(X_test)[:,1]\n",
    "\n",
    "            for ind in range(0, len(X_test)):\n",
    "                if fabs(self.machine_predictions_[machine_name][ind] - predicted_val[ind]) <= self.eps:\n",
    "                    selection_table[ind][machine_index] = 1\n",
    "\n",
    "\n",
    "        \n",
    "        predicted_vals = []\n",
    "        for ind in range(len(X_test)):\n",
    "            if(np.sum(selection_table[ind]) == self.alpha):\n",
    "                predicted_vals.append(np.mean(self.all_predictions_[:, ind]))\n",
    "                \n",
    "            else:\n",
    "                predicted_vals.append(0)\n",
    "        return np.array(predicted_vals)"
   ]
  },
  {
   "cell_type": "code",
   "execution_count": 139,
   "metadata": {},
   "outputs": [
    {
     "name": "stdout",
     "output_type": "stream",
     "text": [
      "0.7709654686398871\n"
     ]
    }
   ],
   "source": [
    "accs = []\n",
    "for i,column in enumerate(columns):\n",
    "    if( y_train[column].nunique()==1):\n",
    "        y_test[\"prob_\" + column] = 0\n",
    "        y_test[\"survival_simple_\" + column] = 1\n",
    "        y_test[\"survival_log_\" + column] = 0\n",
    "        y_test[\"hazard_\" + column] = 0\n",
    "        continue\n",
    "    cobra = Cobra(eps = 0.1)\n",
    "    cobra = cobra.fit(X_train, y_train[column])\n",
    "    preds = cobra.predict(X_test)\n",
    "    preds[preds > 0.5] = 1\n",
    "    preds[preds <= 0.5] = 0\n",
    "    accs.append(accuracy_score(preds, y_test[column]))\n",
    "#     y_test[\"prob_\" + column] = preds\n",
    "    if(i>1):\n",
    "        y_test[\"prob_\" + column] =  np.maximum(y_test[\"prob_\" + columns[i-1]],y_test[\"prob_\" + column])\n",
    "        y_test[\"survival_simple_\" + column] = 1 - y_test[\"prob_\" + column]\n",
    "        \n",
    "        y_test[\"survival_log_\" + column] = np.log(y_test[\"survival_simple_\" + column])\n",
    "        y_test[\"hazard_\" + column] = ( - y_test[\"survival_log_\" + columns[i]] + y_test[\"survival_log_\" + columns[i-1]])/steps\n",
    "print(np.mean(accs)) "
   ]
  },
  {
   "cell_type": "code",
   "execution_count": 134,
   "metadata": {},
   "outputs": [
    {
     "data": {
      "text/plain": [
       "<matplotlib.legend.Legend at 0x7fed3b9b8340>"
      ]
     },
     "execution_count": 134,
     "metadata": {},
     "output_type": "execute_result"
    },
    {
     "data": {
      "image/png": "[encoded data removed]",
      "text/plain": [
       "<Figure size 432x288 with 1 Axes>"
      ]
     },
     "metadata": {
      "needs_background": "light"
     },
     "output_type": "display_data"
    }
   ],
   "source": [
    "plt.figure()\n",
    "for i in range(5):\n",
    "    plt.plot(indicators, y_test.iloc[i,:][y_test.columns[y_test.columns.str.startswith(\"hazard_\")]].cumsum(), label=f\"patient {X_test.iloc[i].name}\")\n",
    "    \n",
    "plt.xlabel('Time in Days')\n",
    "plt.ylabel('Cumulative Hazard')\n",
    "plt.xlabel('Time in Days')\n",
    "plt.title(\"Plotting Cumulative Hazard Function vs Time in days\")\n",
    "plt.legend()"
   ]
  },
  {
   "cell_type": "code",
   "execution_count": 135,
   "metadata": {},
   "outputs": [
    {
     "data": {
      "text/plain": [
       "<matplotlib.legend.Legend at 0x7fed3b977790>"
      ]
     },
     "execution_count": 135,
     "metadata": {},
     "output_type": "execute_result"
    },
    {
     "data": {
      "image/png": "[encoded data removed]",
      "text/plain": [
       "<Figure size 432x288 with 1 Axes>"
      ]
     },
     "metadata": {
      "needs_background": "light"
     },
     "output_type": "display_data"
    }
   ],
   "source": [
    "plt.figure()\n",
    "for i in range(5):\n",
    "    plt.plot(indicators, y_test.iloc[i,:][y_test.columns[y_test.columns.str.startswith(\"survival_simple_\")]], label=f\"patient {X_test.iloc[i].name}\")\n",
    "    \n",
    "plt.xlabel(\"Time in days\")\n",
    "plt.ylabel(\"Survival Function\")\n",
    "plt.title(\"Plotting Survival Function vs Time\")\n",
    "plt.legend()"
   ]
  }
 ],
 "metadata": {
  "interpreter": {
   "hash": "aa8ca25004f0cdbefbb45b19e914c592a50d79c45d4d00948be716e0632b82c4"
  },
  "kernelspec": {
   "display_name": "Python 3",
   "language": "python",
   "name": "python3"
  },
  "language_info": {
   "codemirror_mode": {
    "name": "ipython",
    "version": 3
   },
   "file_extension": ".py",
   "mimetype": "text/x-python",
   "name": "python",
   "nbconvert_exporter": "python",
   "pygments_lexer": "ipython3",
   "version": "3.7.6"
  }
 },
 "nbformat": 4,
 "nbformat_minor": 4
}
