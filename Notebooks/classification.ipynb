{
 "cells": [
  {
   "cell_type": "code",
   "execution_count": 1,
   "metadata": {},
   "outputs": [],
   "source": [
    "import pandas as pd\n",
    "import numpy as np"
   ]
  },
  {
   "cell_type": "code",
   "execution_count": 5,
   "metadata": {},
   "outputs": [],
   "source": [
    "df = pd.read_csv(\"selected.csv\", index_col = 0)"
   ]
  },
  {
   "cell_type": "code",
   "execution_count": 4,
   "metadata": {},
   "outputs": [
    {
     "data": {
      "text/html": [
       "<div>\n",
       "<style scoped>\n",
       "    .dataframe tbody tr th:only-of-type {\n",
       "        vertical-align: middle;\n",
       "    }\n",
       "\n",
       "    .dataframe tbody tr th {\n",
       "        vertical-align: top;\n",
       "    }\n",
       "\n",
       "    .dataframe thead th {\n",
       "        text-align: right;\n",
       "    }\n",
       "</style>\n",
       "<table border=\"1\" class=\"dataframe\">\n",
       "  <thead>\n",
       "    <tr style=\"text-align: right;\">\n",
       "      <th></th>\n",
       "      <th>219340_s_at</th>\n",
       "      <th>217771_at</th>\n",
       "      <th>202418_at</th>\n",
       "      <th>206295_at</th>\n",
       "      <th>201091_s_at</th>\n",
       "      <th>204015_s_at</th>\n",
       "      <th>200726_at</th>\n",
       "      <th>200965_s_at</th>\n",
       "      <th>210314_x_at</th>\n",
       "      <th>221882_s_at</th>\n",
       "      <th>...</th>\n",
       "      <th>t.dmfs</th>\n",
       "      <th>e.dmfs</th>\n",
       "      <th>t.tdm</th>\n",
       "      <th>e.tdm</th>\n",
       "      <th>risksg</th>\n",
       "      <th>NPI</th>\n",
       "      <th>risknpi</th>\n",
       "      <th>AOL_os_10y</th>\n",
       "      <th>risk_AOL</th>\n",
       "      <th>veridex_risk</th>\n",
       "    </tr>\n",
       "  </thead>\n",
       "  <tbody>\n",
       "    <tr>\n",
       "      <th>0</th>\n",
       "      <td>7.014110</td>\n",
       "      <td>9.938705</td>\n",
       "      <td>11.053083</td>\n",
       "      <td>5.326001</td>\n",
       "      <td>10.964107</td>\n",
       "      <td>6.244280</td>\n",
       "      <td>10.926361</td>\n",
       "      <td>8.962608</td>\n",
       "      <td>10.523859</td>\n",
       "      <td>10.926365</td>\n",
       "      <td>...</td>\n",
       "      <td>723</td>\n",
       "      <td>1</td>\n",
       "      <td>723</td>\n",
       "      <td>1</td>\n",
       "      <td>2</td>\n",
       "      <td>4.6</td>\n",
       "      <td>2</td>\n",
       "      <td>62.7</td>\n",
       "      <td>1</td>\n",
       "      <td>Poor</td>\n",
       "    </tr>\n",
       "    <tr>\n",
       "      <th>1</th>\n",
       "      <td>7.326724</td>\n",
       "      <td>6.374728</td>\n",
       "      <td>10.596457</td>\n",
       "      <td>8.290123</td>\n",
       "      <td>11.594716</td>\n",
       "      <td>6.542130</td>\n",
       "      <td>12.242090</td>\n",
       "      <td>9.531718</td>\n",
       "      <td>10.342614</td>\n",
       "      <td>9.555092</td>\n",
       "      <td>...</td>\n",
       "      <td>6591</td>\n",
       "      <td>0</td>\n",
       "      <td>6591</td>\n",
       "      <td>0</td>\n",
       "      <td>2</td>\n",
       "      <td>4.6</td>\n",
       "      <td>2</td>\n",
       "      <td>69.0</td>\n",
       "      <td>1</td>\n",
       "      <td>Poor</td>\n",
       "    </tr>\n",
       "    <tr>\n",
       "      <th>2</th>\n",
       "      <td>6.974651</td>\n",
       "      <td>9.226757</td>\n",
       "      <td>10.834848</td>\n",
       "      <td>5.731169</td>\n",
       "      <td>9.166088</td>\n",
       "      <td>6.586000</td>\n",
       "      <td>11.661716</td>\n",
       "      <td>10.238680</td>\n",
       "      <td>10.144875</td>\n",
       "      <td>9.308048</td>\n",
       "      <td>...</td>\n",
       "      <td>524</td>\n",
       "      <td>1</td>\n",
       "      <td>524</td>\n",
       "      <td>1</td>\n",
       "      <td>2</td>\n",
       "      <td>4.5</td>\n",
       "      <td>2</td>\n",
       "      <td>66.2</td>\n",
       "      <td>1</td>\n",
       "      <td>Poor</td>\n",
       "    </tr>\n",
       "    <tr>\n",
       "      <th>3</th>\n",
       "      <td>7.703683</td>\n",
       "      <td>8.169183</td>\n",
       "      <td>11.627066</td>\n",
       "      <td>8.538247</td>\n",
       "      <td>9.086937</td>\n",
       "      <td>8.477335</td>\n",
       "      <td>12.174021</td>\n",
       "      <td>9.819279</td>\n",
       "      <td>10.888251</td>\n",
       "      <td>10.208241</td>\n",
       "      <td>...</td>\n",
       "      <td>6255</td>\n",
       "      <td>1</td>\n",
       "      <td>6255</td>\n",
       "      <td>0</td>\n",
       "      <td>2</td>\n",
       "      <td>4.36</td>\n",
       "      <td>2</td>\n",
       "      <td>84.9</td>\n",
       "      <td>1</td>\n",
       "      <td>Poor</td>\n",
       "    </tr>\n",
       "    <tr>\n",
       "      <th>4</th>\n",
       "      <td>6.581141</td>\n",
       "      <td>7.496745</td>\n",
       "      <td>11.500773</td>\n",
       "      <td>5.979282</td>\n",
       "      <td>8.887616</td>\n",
       "      <td>7.398170</td>\n",
       "      <td>11.484011</td>\n",
       "      <td>11.489233</td>\n",
       "      <td>9.702690</td>\n",
       "      <td>10.931843</td>\n",
       "      <td>...</td>\n",
       "      <td>3822</td>\n",
       "      <td>1</td>\n",
       "      <td>3822</td>\n",
       "      <td>1</td>\n",
       "      <td>2</td>\n",
       "      <td>3.6</td>\n",
       "      <td>2</td>\n",
       "      <td>80.2</td>\n",
       "      <td>1</td>\n",
       "      <td>Poor</td>\n",
       "    </tr>\n",
       "    <tr>\n",
       "      <th>...</th>\n",
       "      <td>...</td>\n",
       "      <td>...</td>\n",
       "      <td>...</td>\n",
       "      <td>...</td>\n",
       "      <td>...</td>\n",
       "      <td>...</td>\n",
       "      <td>...</td>\n",
       "      <td>...</td>\n",
       "      <td>...</td>\n",
       "      <td>...</td>\n",
       "      <td>...</td>\n",
       "      <td>...</td>\n",
       "      <td>...</td>\n",
       "      <td>...</td>\n",
       "      <td>...</td>\n",
       "      <td>...</td>\n",
       "      <td>...</td>\n",
       "      <td>...</td>\n",
       "      <td>...</td>\n",
       "      <td>...</td>\n",
       "      <td>...</td>\n",
       "    </tr>\n",
       "    <tr>\n",
       "      <th>193</th>\n",
       "      <td>6.954604</td>\n",
       "      <td>10.129438</td>\n",
       "      <td>10.888537</td>\n",
       "      <td>6.915913</td>\n",
       "      <td>10.740020</td>\n",
       "      <td>6.139044</td>\n",
       "      <td>12.018292</td>\n",
       "      <td>8.323876</td>\n",
       "      <td>8.839213</td>\n",
       "      <td>9.604668</td>\n",
       "      <td>...</td>\n",
       "      <td>5673</td>\n",
       "      <td>0</td>\n",
       "      <td>5673</td>\n",
       "      <td>0</td>\n",
       "      <td>2</td>\n",
       "      <td>4.44</td>\n",
       "      <td>2</td>\n",
       "      <td>67.7</td>\n",
       "      <td>1</td>\n",
       "      <td>Poor</td>\n",
       "    </tr>\n",
       "    <tr>\n",
       "      <th>194</th>\n",
       "      <td>4.108023</td>\n",
       "      <td>8.701039</td>\n",
       "      <td>10.908745</td>\n",
       "      <td>6.655799</td>\n",
       "      <td>11.145993</td>\n",
       "      <td>7.044179</td>\n",
       "      <td>11.711415</td>\n",
       "      <td>10.428482</td>\n",
       "      <td>9.634663</td>\n",
       "      <td>11.067820</td>\n",
       "      <td>...</td>\n",
       "      <td>404</td>\n",
       "      <td>1</td>\n",
       "      <td>404</td>\n",
       "      <td>1</td>\n",
       "      <td>2</td>\n",
       "      <td>4.64</td>\n",
       "      <td>2</td>\n",
       "      <td>62.7</td>\n",
       "      <td>0</td>\n",
       "      <td>Poor</td>\n",
       "    </tr>\n",
       "    <tr>\n",
       "      <th>195</th>\n",
       "      <td>5.667819</td>\n",
       "      <td>10.940586</td>\n",
       "      <td>10.464572</td>\n",
       "      <td>6.845962</td>\n",
       "      <td>10.463171</td>\n",
       "      <td>9.980030</td>\n",
       "      <td>11.939616</td>\n",
       "      <td>9.615587</td>\n",
       "      <td>9.424510</td>\n",
       "      <td>7.743568</td>\n",
       "      <td>...</td>\n",
       "      <td>2225</td>\n",
       "      <td>0</td>\n",
       "      <td>2225</td>\n",
       "      <td>0</td>\n",
       "      <td>2</td>\n",
       "      <td>2.5</td>\n",
       "      <td>1</td>\n",
       "      <td>87.6</td>\n",
       "      <td>1</td>\n",
       "      <td>Poor</td>\n",
       "    </tr>\n",
       "    <tr>\n",
       "      <th>196</th>\n",
       "      <td>7.466355</td>\n",
       "      <td>10.032314</td>\n",
       "      <td>10.894581</td>\n",
       "      <td>7.338324</td>\n",
       "      <td>8.609631</td>\n",
       "      <td>10.528216</td>\n",
       "      <td>11.848449</td>\n",
       "      <td>10.528911</td>\n",
       "      <td>10.517222</td>\n",
       "      <td>9.298178</td>\n",
       "      <td>...</td>\n",
       "      <td>2722</td>\n",
       "      <td>0</td>\n",
       "      <td>2722</td>\n",
       "      <td>0</td>\n",
       "      <td>2</td>\n",
       "      <td>3.24</td>\n",
       "      <td>1</td>\n",
       "      <td>89.6</td>\n",
       "      <td>0</td>\n",
       "      <td>Good</td>\n",
       "    </tr>\n",
       "    <tr>\n",
       "      <th>197</th>\n",
       "      <td>6.429858</td>\n",
       "      <td>10.722343</td>\n",
       "      <td>11.692123</td>\n",
       "      <td>6.939691</td>\n",
       "      <td>9.011730</td>\n",
       "      <td>9.160088</td>\n",
       "      <td>11.425778</td>\n",
       "      <td>9.901486</td>\n",
       "      <td>9.631856</td>\n",
       "      <td>8.958376</td>\n",
       "      <td>...</td>\n",
       "      <td>1781</td>\n",
       "      <td>0</td>\n",
       "      <td>1781</td>\n",
       "      <td>0</td>\n",
       "      <td>2</td>\n",
       "      <td>4.5</td>\n",
       "      <td>2</td>\n",
       "      <td>67.7</td>\n",
       "      <td>1</td>\n",
       "      <td>Poor</td>\n",
       "    </tr>\n",
       "  </tbody>\n",
       "</table>\n",
       "<p>198 rows × 103 columns</p>\n",
       "</div>"
      ],
      "text/plain": [
       "     219340_s_at  217771_at  202418_at  206295_at  201091_s_at  204015_s_at  \\\n",
       "0       7.014110   9.938705  11.053083   5.326001    10.964107     6.244280   \n",
       "1       7.326724   6.374728  10.596457   8.290123    11.594716     6.542130   \n",
       "2       6.974651   9.226757  10.834848   5.731169     9.166088     6.586000   \n",
       "3       7.703683   8.169183  11.627066   8.538247     9.086937     8.477335   \n",
       "4       6.581141   7.496745  11.500773   5.979282     8.887616     7.398170   \n",
       "..           ...        ...        ...        ...          ...          ...   \n",
       "193     6.954604  10.129438  10.888537   6.915913    10.740020     6.139044   \n",
       "194     4.108023   8.701039  10.908745   6.655799    11.145993     7.044179   \n",
       "195     5.667819  10.940586  10.464572   6.845962    10.463171     9.980030   \n",
       "196     7.466355  10.032314  10.894581   7.338324     8.609631    10.528216   \n",
       "197     6.429858  10.722343  11.692123   6.939691     9.011730     9.160088   \n",
       "\n",
       "     200726_at  200965_s_at  210314_x_at  221882_s_at  ...  t.dmfs  e.dmfs  \\\n",
       "0    10.926361     8.962608    10.523859    10.926365  ...     723       1   \n",
       "1    12.242090     9.531718    10.342614     9.555092  ...    6591       0   \n",
       "2    11.661716    10.238680    10.144875     9.308048  ...     524       1   \n",
       "3    12.174021     9.819279    10.888251    10.208241  ...    6255       1   \n",
       "4    11.484011    11.489233     9.702690    10.931843  ...    3822       1   \n",
       "..         ...          ...          ...          ...  ...     ...     ...   \n",
       "193  12.018292     8.323876     8.839213     9.604668  ...    5673       0   \n",
       "194  11.711415    10.428482     9.634663    11.067820  ...     404       1   \n",
       "195  11.939616     9.615587     9.424510     7.743568  ...    2225       0   \n",
       "196  11.848449    10.528911    10.517222     9.298178  ...    2722       0   \n",
       "197  11.425778     9.901486     9.631856     8.958376  ...    1781       0   \n",
       "\n",
       "     t.tdm  e.tdm  risksg    NPI  risknpi  AOL_os_10y  risk_AOL  veridex_risk  \n",
       "0      723      1       2    4.6        2        62.7         1          Poor  \n",
       "1     6591      0       2    4.6        2        69.0         1          Poor  \n",
       "2      524      1       2    4.5        2        66.2         1          Poor  \n",
       "3     6255      0       2   4.36        2        84.9         1          Poor  \n",
       "4     3822      1       2    3.6        2        80.2         1          Poor  \n",
       "..     ...    ...     ...    ...      ...         ...       ...           ...  \n",
       "193   5673      0       2   4.44        2        67.7         1          Poor  \n",
       "194    404      1       2   4.64        2        62.7         0          Poor  \n",
       "195   2225      0       2    2.5        1        87.6         1          Poor  \n",
       "196   2722      0       2   3.24        1        89.6         0          Good  \n",
       "197   1781      0       2    4.5        2        67.7         1          Poor  \n",
       "\n",
       "[198 rows x 103 columns]"
      ]
     },
     "execution_count": 4,
     "metadata": {},
     "output_type": "execute_result"
    }
   ],
   "source": [
    "df"
   ]
  },
  {
   "cell_type": "code",
   "execution_count": 98,
   "metadata": {
    "scrolled": true
   },
   "outputs": [],
   "source": [
    "df = df.replace(\"NA\",np.nan)"
   ]
  },
  {
   "cell_type": "code",
   "execution_count": 99,
   "metadata": {},
   "outputs": [],
   "source": [
    "df.dropna(inplace = True, axis = 0)"
   ]
  },
  {
   "cell_type": "code",
   "execution_count": 100,
   "metadata": {},
   "outputs": [
    {
     "data": {
      "text/plain": [
       "219340_s_at     float64\n",
       "217771_at       float64\n",
       "202418_at       float64\n",
       "206295_at       float64\n",
       "201091_s_at     float64\n",
       "                 ...   \n",
       "NPI              object\n",
       "risknpi          object\n",
       "AOL_os_10y      float64\n",
       "risk_AOL          int64\n",
       "veridex_risk     object\n",
       "Length: 103, dtype: object"
      ]
     },
     "execution_count": 100,
     "metadata": {},
     "output_type": "execute_result"
    }
   ],
   "source": [
    "df.dtypes"
   ]
  },
  {
   "cell_type": "code",
   "execution_count": 101,
   "metadata": {},
   "outputs": [],
   "source": [
    "removals = ['t.rfs',\n",
    " 'e.rfs',\n",
    " 't.os',\n",
    " 'e.os',\n",
    " 't.dmfs',\n",
    " 'e.dmfs',\n",
    " 't.tdm',\n",
    " 'e.tdm', \"samplename\", \"id\",\"filename\",\"hospital\",'age', 'size', 'Surgery_type', 'Histtype', 'Angioinv',\n",
    "       'Lymp_infil', 'node', 'grade', 'er', 'risksg', 'NPI', 'risknpi',\n",
    "       'AOL_os_10y', 'risk_AOL', 'veridex_risk']\n",
    "rest = [i for i in df.columns if i not in removals]"
   ]
  },
  {
   "cell_type": "code",
   "execution_count": 102,
   "metadata": {},
   "outputs": [],
   "source": [
    "X = df[rest]"
   ]
  },
  {
   "cell_type": "code",
   "execution_count": 103,
   "metadata": {},
   "outputs": [
    {
     "data": {
      "text/plain": [
       "Index(['219340_s_at', '217771_at', '202418_at', '206295_at', '201091_s_at',\n",
       "       '204015_s_at', '200726_at', '200965_s_at', '210314_x_at', '221882_s_at',\n",
       "       '217767_at', '219588_s_at', '204073_s_at', '212567_s_at', '211382_s_at',\n",
       "       '201663_s_at', '221344_at', '210028_s_at', '218782_s_at', '201664_at',\n",
       "       '219724_s_at', '204014_at', '212014_x_at', '202240_at', '204740_at',\n",
       "       '208180_s_at', '204768_s_at', '203391_at', '211762_s_at', '218914_at',\n",
       "       '221028_s_at', '211779_x_at', '218883_s_at', '204888_s_at', '217815_at',\n",
       "       '201368_at', '201288_at', '201068_s_at', '218478_s_at', '214919_s_at',\n",
       "       '209835_x_at', '217471_at', '203306_s_at', '205034_at', '221816_s_at',\n",
       "       '219510_at', '217102_at', '208683_at', '215510_at', '218533_s_at',\n",
       "       '215633_x_at', '221928_at', '214806_at', '204540_at', '221916_at',\n",
       "       '216693_x_at', '209500_x_at', '209524_at', '207118_s_at', '211040_x_at',\n",
       "       '218430_s_at', '217404_s_at', '205848_at', '214915_at', '216010_x_at',\n",
       "       '204631_at', '202687_s_at', '221634_at', '220886_at', '202239_at',\n",
       "       '204218_at', '221241_s_at', '209862_s_at', '217019_at', '210593_at',\n",
       "       '216103_at'],\n",
       "      dtype='object')"
      ]
     },
     "execution_count": 103,
     "metadata": {},
     "output_type": "execute_result"
    }
   ],
   "source": [
    "X.columns"
   ]
  },
  {
   "cell_type": "code",
   "execution_count": 104,
   "metadata": {},
   "outputs": [],
   "source": [
    "y = df[\"t.dmfs\"]"
   ]
  },
  {
   "cell_type": "code",
   "execution_count": 105,
   "metadata": {},
   "outputs": [
    {
     "data": {
      "text/plain": [
       "LassoLars(alpha=0.1, normalize=False)"
      ]
     },
     "execution_count": 105,
     "metadata": {},
     "output_type": "execute_result"
    }
   ],
   "source": [
    "from sklearn import linear_model\n",
    "reg = linear_model.LassoLars(alpha=.1, normalize=False)\n",
    "reg.fit(X,y)"
   ]
  },
  {
   "cell_type": "code",
   "execution_count": 106,
   "metadata": {},
   "outputs": [
    {
     "data": {
      "text/plain": [
       "LinearRegression(normalize=True)"
      ]
     },
     "execution_count": 106,
     "metadata": {},
     "output_type": "execute_result"
    }
   ],
   "source": [
    "lr = linear_model.LinearRegression(normalize = True)\n",
    "lr.fit(X,y)"
   ]
  },
  {
   "cell_type": "code",
   "execution_count": 107,
   "metadata": {},
   "outputs": [
    {
     "data": {
      "text/plain": [
       "0.4106224416975477"
      ]
     },
     "execution_count": 107,
     "metadata": {},
     "output_type": "execute_result"
    }
   ],
   "source": [
    "lr.score(X,y)"
   ]
  },
  {
   "cell_type": "code",
   "execution_count": 108,
   "metadata": {},
   "outputs": [
    {
     "data": {
      "text/plain": [
       "0.41062079934459184"
      ]
     },
     "execution_count": 108,
     "metadata": {},
     "output_type": "execute_result"
    }
   ],
   "source": [
    "reg.score(X, y)"
   ]
  },
  {
   "cell_type": "code",
   "execution_count": 109,
   "metadata": {},
   "outputs": [
    {
     "data": {
      "text/plain": [
       "array([  83.17967455,  -49.97105625, -657.2513066 ,  271.16865752,\n",
       "         73.38496032, -393.84361116,  -31.50871102, -237.29420443,\n",
       "       -539.78701457,  421.99636549, -125.07134248,  565.30591631,\n",
       "         95.0695251 ,  245.05723933,  529.16090387, -248.96157263,\n",
       "         28.99856164,   50.31094638, -223.30088919, -217.24392009,\n",
       "        158.73661457,  384.76700776, -299.16000782, -452.57998681,\n",
       "         96.36795968, -123.40964721,    3.71342004,  150.68795923,\n",
       "        150.56796416, -946.6424955 , -279.56583482, -116.9725961 ,\n",
       "       -840.2024471 , -127.5945108 ,  115.58160035, -108.6938405 ,\n",
       "       -127.7835623 , -145.56755028,  507.60340888, -113.68534705,\n",
       "        436.49161809,   79.95819969,  355.05675079,  276.21504992,\n",
       "       -124.20891218,   33.56026565,   51.91374392, -106.33537362,\n",
       "        109.81181888, -127.82140011,  426.2400789 ,  -10.67736564,\n",
       "       -383.51494287,   -8.28489621,  204.74832133,  621.55975078,\n",
       "       -146.34055823, -443.70309389, -268.41705942,  545.24349937,\n",
       "        134.79218623,  -59.11932842, -186.83841196,  -84.34266626,\n",
       "         19.54120462,  -79.90988771,  323.68691096,   25.27112272,\n",
       "        -54.21915641,  262.53963116,  306.59283476, -107.3601701 ,\n",
       "        232.09199812,  -84.41427123, -191.12192335,  101.67202949])"
      ]
     },
     "execution_count": 109,
     "metadata": {},
     "output_type": "execute_result"
    }
   ],
   "source": [
    "lr.coef_"
   ]
  },
  {
   "cell_type": "code",
   "execution_count": 110,
   "metadata": {},
   "outputs": [
    {
     "data": {
      "text/html": [
       "<div>\n",
       "<style scoped>\n",
       "    .dataframe tbody tr th:only-of-type {\n",
       "        vertical-align: middle;\n",
       "    }\n",
       "\n",
       "    .dataframe tbody tr th {\n",
       "        vertical-align: top;\n",
       "    }\n",
       "\n",
       "    .dataframe thead th {\n",
       "        text-align: right;\n",
       "    }\n",
       "</style>\n",
       "<table border=\"1\" class=\"dataframe\">\n",
       "  <thead>\n",
       "    <tr style=\"text-align: right;\">\n",
       "      <th></th>\n",
       "      <th>219340_s_at</th>\n",
       "      <th>217771_at</th>\n",
       "      <th>202418_at</th>\n",
       "      <th>206295_at</th>\n",
       "      <th>201091_s_at</th>\n",
       "      <th>204015_s_at</th>\n",
       "      <th>200726_at</th>\n",
       "      <th>200965_s_at</th>\n",
       "      <th>210314_x_at</th>\n",
       "      <th>221882_s_at</th>\n",
       "      <th>...</th>\n",
       "      <th>t.dmfs</th>\n",
       "      <th>e.dmfs</th>\n",
       "      <th>t.tdm</th>\n",
       "      <th>e.tdm</th>\n",
       "      <th>risksg</th>\n",
       "      <th>NPI</th>\n",
       "      <th>risknpi</th>\n",
       "      <th>AOL_os_10y</th>\n",
       "      <th>risk_AOL</th>\n",
       "      <th>veridex_risk</th>\n",
       "    </tr>\n",
       "  </thead>\n",
       "  <tbody>\n",
       "    <tr>\n",
       "      <th>0</th>\n",
       "      <td>7.014110</td>\n",
       "      <td>9.938705</td>\n",
       "      <td>11.053083</td>\n",
       "      <td>5.326001</td>\n",
       "      <td>10.964107</td>\n",
       "      <td>6.244280</td>\n",
       "      <td>10.926361</td>\n",
       "      <td>8.962608</td>\n",
       "      <td>10.523859</td>\n",
       "      <td>10.926365</td>\n",
       "      <td>...</td>\n",
       "      <td>723</td>\n",
       "      <td>1</td>\n",
       "      <td>723</td>\n",
       "      <td>1</td>\n",
       "      <td>2</td>\n",
       "      <td>4.6</td>\n",
       "      <td>2</td>\n",
       "      <td>62.7</td>\n",
       "      <td>1</td>\n",
       "      <td>Poor</td>\n",
       "    </tr>\n",
       "    <tr>\n",
       "      <th>1</th>\n",
       "      <td>7.326724</td>\n",
       "      <td>6.374728</td>\n",
       "      <td>10.596457</td>\n",
       "      <td>8.290123</td>\n",
       "      <td>11.594716</td>\n",
       "      <td>6.542130</td>\n",
       "      <td>12.242090</td>\n",
       "      <td>9.531718</td>\n",
       "      <td>10.342614</td>\n",
       "      <td>9.555092</td>\n",
       "      <td>...</td>\n",
       "      <td>6591</td>\n",
       "      <td>0</td>\n",
       "      <td>6591</td>\n",
       "      <td>0</td>\n",
       "      <td>2</td>\n",
       "      <td>4.6</td>\n",
       "      <td>2</td>\n",
       "      <td>69.0</td>\n",
       "      <td>1</td>\n",
       "      <td>Poor</td>\n",
       "    </tr>\n",
       "    <tr>\n",
       "      <th>2</th>\n",
       "      <td>6.974651</td>\n",
       "      <td>9.226757</td>\n",
       "      <td>10.834848</td>\n",
       "      <td>5.731169</td>\n",
       "      <td>9.166088</td>\n",
       "      <td>6.586000</td>\n",
       "      <td>11.661716</td>\n",
       "      <td>10.238680</td>\n",
       "      <td>10.144875</td>\n",
       "      <td>9.308048</td>\n",
       "      <td>...</td>\n",
       "      <td>524</td>\n",
       "      <td>1</td>\n",
       "      <td>524</td>\n",
       "      <td>1</td>\n",
       "      <td>2</td>\n",
       "      <td>4.5</td>\n",
       "      <td>2</td>\n",
       "      <td>66.2</td>\n",
       "      <td>1</td>\n",
       "      <td>Poor</td>\n",
       "    </tr>\n",
       "    <tr>\n",
       "      <th>3</th>\n",
       "      <td>7.703683</td>\n",
       "      <td>8.169183</td>\n",
       "      <td>11.627066</td>\n",
       "      <td>8.538247</td>\n",
       "      <td>9.086937</td>\n",
       "      <td>8.477335</td>\n",
       "      <td>12.174021</td>\n",
       "      <td>9.819279</td>\n",
       "      <td>10.888251</td>\n",
       "      <td>10.208241</td>\n",
       "      <td>...</td>\n",
       "      <td>6255</td>\n",
       "      <td>1</td>\n",
       "      <td>6255</td>\n",
       "      <td>0</td>\n",
       "      <td>2</td>\n",
       "      <td>4.36</td>\n",
       "      <td>2</td>\n",
       "      <td>84.9</td>\n",
       "      <td>1</td>\n",
       "      <td>Poor</td>\n",
       "    </tr>\n",
       "    <tr>\n",
       "      <th>4</th>\n",
       "      <td>6.581141</td>\n",
       "      <td>7.496745</td>\n",
       "      <td>11.500773</td>\n",
       "      <td>5.979282</td>\n",
       "      <td>8.887616</td>\n",
       "      <td>7.398170</td>\n",
       "      <td>11.484011</td>\n",
       "      <td>11.489233</td>\n",
       "      <td>9.702690</td>\n",
       "      <td>10.931843</td>\n",
       "      <td>...</td>\n",
       "      <td>3822</td>\n",
       "      <td>1</td>\n",
       "      <td>3822</td>\n",
       "      <td>1</td>\n",
       "      <td>2</td>\n",
       "      <td>3.6</td>\n",
       "      <td>2</td>\n",
       "      <td>80.2</td>\n",
       "      <td>1</td>\n",
       "      <td>Poor</td>\n",
       "    </tr>\n",
       "    <tr>\n",
       "      <th>...</th>\n",
       "      <td>...</td>\n",
       "      <td>...</td>\n",
       "      <td>...</td>\n",
       "      <td>...</td>\n",
       "      <td>...</td>\n",
       "      <td>...</td>\n",
       "      <td>...</td>\n",
       "      <td>...</td>\n",
       "      <td>...</td>\n",
       "      <td>...</td>\n",
       "      <td>...</td>\n",
       "      <td>...</td>\n",
       "      <td>...</td>\n",
       "      <td>...</td>\n",
       "      <td>...</td>\n",
       "      <td>...</td>\n",
       "      <td>...</td>\n",
       "      <td>...</td>\n",
       "      <td>...</td>\n",
       "      <td>...</td>\n",
       "      <td>...</td>\n",
       "    </tr>\n",
       "    <tr>\n",
       "      <th>193</th>\n",
       "      <td>6.954604</td>\n",
       "      <td>10.129438</td>\n",
       "      <td>10.888537</td>\n",
       "      <td>6.915913</td>\n",
       "      <td>10.740020</td>\n",
       "      <td>6.139044</td>\n",
       "      <td>12.018292</td>\n",
       "      <td>8.323876</td>\n",
       "      <td>8.839213</td>\n",
       "      <td>9.604668</td>\n",
       "      <td>...</td>\n",
       "      <td>5673</td>\n",
       "      <td>0</td>\n",
       "      <td>5673</td>\n",
       "      <td>0</td>\n",
       "      <td>2</td>\n",
       "      <td>4.44</td>\n",
       "      <td>2</td>\n",
       "      <td>67.7</td>\n",
       "      <td>1</td>\n",
       "      <td>Poor</td>\n",
       "    </tr>\n",
       "    <tr>\n",
       "      <th>194</th>\n",
       "      <td>4.108023</td>\n",
       "      <td>8.701039</td>\n",
       "      <td>10.908745</td>\n",
       "      <td>6.655799</td>\n",
       "      <td>11.145993</td>\n",
       "      <td>7.044179</td>\n",
       "      <td>11.711415</td>\n",
       "      <td>10.428482</td>\n",
       "      <td>9.634663</td>\n",
       "      <td>11.067820</td>\n",
       "      <td>...</td>\n",
       "      <td>404</td>\n",
       "      <td>1</td>\n",
       "      <td>404</td>\n",
       "      <td>1</td>\n",
       "      <td>2</td>\n",
       "      <td>4.64</td>\n",
       "      <td>2</td>\n",
       "      <td>62.7</td>\n",
       "      <td>0</td>\n",
       "      <td>Poor</td>\n",
       "    </tr>\n",
       "    <tr>\n",
       "      <th>195</th>\n",
       "      <td>5.667819</td>\n",
       "      <td>10.940586</td>\n",
       "      <td>10.464572</td>\n",
       "      <td>6.845962</td>\n",
       "      <td>10.463171</td>\n",
       "      <td>9.980030</td>\n",
       "      <td>11.939616</td>\n",
       "      <td>9.615587</td>\n",
       "      <td>9.424510</td>\n",
       "      <td>7.743568</td>\n",
       "      <td>...</td>\n",
       "      <td>2225</td>\n",
       "      <td>0</td>\n",
       "      <td>2225</td>\n",
       "      <td>0</td>\n",
       "      <td>2</td>\n",
       "      <td>2.5</td>\n",
       "      <td>1</td>\n",
       "      <td>87.6</td>\n",
       "      <td>1</td>\n",
       "      <td>Poor</td>\n",
       "    </tr>\n",
       "    <tr>\n",
       "      <th>196</th>\n",
       "      <td>7.466355</td>\n",
       "      <td>10.032314</td>\n",
       "      <td>10.894581</td>\n",
       "      <td>7.338324</td>\n",
       "      <td>8.609631</td>\n",
       "      <td>10.528216</td>\n",
       "      <td>11.848449</td>\n",
       "      <td>10.528911</td>\n",
       "      <td>10.517222</td>\n",
       "      <td>9.298178</td>\n",
       "      <td>...</td>\n",
       "      <td>2722</td>\n",
       "      <td>0</td>\n",
       "      <td>2722</td>\n",
       "      <td>0</td>\n",
       "      <td>2</td>\n",
       "      <td>3.24</td>\n",
       "      <td>1</td>\n",
       "      <td>89.6</td>\n",
       "      <td>0</td>\n",
       "      <td>Good</td>\n",
       "    </tr>\n",
       "    <tr>\n",
       "      <th>197</th>\n",
       "      <td>6.429858</td>\n",
       "      <td>10.722343</td>\n",
       "      <td>11.692123</td>\n",
       "      <td>6.939691</td>\n",
       "      <td>9.011730</td>\n",
       "      <td>9.160088</td>\n",
       "      <td>11.425778</td>\n",
       "      <td>9.901486</td>\n",
       "      <td>9.631856</td>\n",
       "      <td>8.958376</td>\n",
       "      <td>...</td>\n",
       "      <td>1781</td>\n",
       "      <td>0</td>\n",
       "      <td>1781</td>\n",
       "      <td>0</td>\n",
       "      <td>2</td>\n",
       "      <td>4.5</td>\n",
       "      <td>2</td>\n",
       "      <td>67.7</td>\n",
       "      <td>1</td>\n",
       "      <td>Poor</td>\n",
       "    </tr>\n",
       "  </tbody>\n",
       "</table>\n",
       "<p>198 rows × 103 columns</p>\n",
       "</div>"
      ],
      "text/plain": [
       "     219340_s_at  217771_at  202418_at  206295_at  201091_s_at  204015_s_at  \\\n",
       "0       7.014110   9.938705  11.053083   5.326001    10.964107     6.244280   \n",
       "1       7.326724   6.374728  10.596457   8.290123    11.594716     6.542130   \n",
       "2       6.974651   9.226757  10.834848   5.731169     9.166088     6.586000   \n",
       "3       7.703683   8.169183  11.627066   8.538247     9.086937     8.477335   \n",
       "4       6.581141   7.496745  11.500773   5.979282     8.887616     7.398170   \n",
       "..           ...        ...        ...        ...          ...          ...   \n",
       "193     6.954604  10.129438  10.888537   6.915913    10.740020     6.139044   \n",
       "194     4.108023   8.701039  10.908745   6.655799    11.145993     7.044179   \n",
       "195     5.667819  10.940586  10.464572   6.845962    10.463171     9.980030   \n",
       "196     7.466355  10.032314  10.894581   7.338324     8.609631    10.528216   \n",
       "197     6.429858  10.722343  11.692123   6.939691     9.011730     9.160088   \n",
       "\n",
       "     200726_at  200965_s_at  210314_x_at  221882_s_at  ...  t.dmfs  e.dmfs  \\\n",
       "0    10.926361     8.962608    10.523859    10.926365  ...     723       1   \n",
       "1    12.242090     9.531718    10.342614     9.555092  ...    6591       0   \n",
       "2    11.661716    10.238680    10.144875     9.308048  ...     524       1   \n",
       "3    12.174021     9.819279    10.888251    10.208241  ...    6255       1   \n",
       "4    11.484011    11.489233     9.702690    10.931843  ...    3822       1   \n",
       "..         ...          ...          ...          ...  ...     ...     ...   \n",
       "193  12.018292     8.323876     8.839213     9.604668  ...    5673       0   \n",
       "194  11.711415    10.428482     9.634663    11.067820  ...     404       1   \n",
       "195  11.939616     9.615587     9.424510     7.743568  ...    2225       0   \n",
       "196  11.848449    10.528911    10.517222     9.298178  ...    2722       0   \n",
       "197  11.425778     9.901486     9.631856     8.958376  ...    1781       0   \n",
       "\n",
       "     t.tdm  e.tdm  risksg    NPI  risknpi  AOL_os_10y  risk_AOL  veridex_risk  \n",
       "0      723      1       2    4.6        2        62.7         1          Poor  \n",
       "1     6591      0       2    4.6        2        69.0         1          Poor  \n",
       "2      524      1       2    4.5        2        66.2         1          Poor  \n",
       "3     6255      0       2   4.36        2        84.9         1          Poor  \n",
       "4     3822      1       2    3.6        2        80.2         1          Poor  \n",
       "..     ...    ...     ...    ...      ...         ...       ...           ...  \n",
       "193   5673      0       2   4.44        2        67.7         1          Poor  \n",
       "194    404      1       2   4.64        2        62.7         0          Poor  \n",
       "195   2225      0       2    2.5        1        87.6         1          Poor  \n",
       "196   2722      0       2   3.24        1        89.6         0          Good  \n",
       "197   1781      0       2    4.5        2        67.7         1          Poor  \n",
       "\n",
       "[198 rows x 103 columns]"
      ]
     },
     "execution_count": 110,
     "metadata": {},
     "output_type": "execute_result"
    }
   ],
   "source": [
    "df"
   ]
  },
  {
   "cell_type": "code",
   "execution_count": 112,
   "metadata": {},
   "outputs": [],
   "source": [
    "from sklearn.model_selection import train_test_split"
   ]
  },
  {
   "cell_type": "code",
   "execution_count": 113,
   "metadata": {},
   "outputs": [],
   "source": [
    "X_train, X_test, y_train, y_test = train_test_split(X, y, test_size=0.10, random_state=42)"
   ]
  },
  {
   "cell_type": "code",
   "execution_count": 114,
   "metadata": {},
   "outputs": [
    {
     "data": {
      "text/plain": [
       "LinearRegression(normalize=True)"
      ]
     },
     "execution_count": 114,
     "metadata": {},
     "output_type": "execute_result"
    }
   ],
   "source": [
    "lr = linear_model.LinearRegression(normalize = True)\n",
    "lr.fit(X_train,y_train)"
   ]
  },
  {
   "cell_type": "code",
   "execution_count": 115,
   "metadata": {},
   "outputs": [
    {
     "data": {
      "text/plain": [
       "array([8943.11842671, 3054.94015383, 4185.4477327 , 2034.41933695,\n",
       "       6520.89176675, 4353.74064953, 3745.38418267, 5914.42043674,\n",
       "       4115.6782846 , 4947.95643317, 4546.2021478 , 3845.39377024,\n",
       "       4531.79724348, 3406.33625956, 2440.5101833 , 2878.25001992,\n",
       "       5466.46104483, 5207.60830373, 5358.79714827, 3860.94029464])"
      ]
     },
     "execution_count": 115,
     "metadata": {},
     "output_type": "execute_result"
    }
   ],
   "source": [
    "lr.predict(X_test)"
   ]
  },
  {
   "cell_type": "code",
   "execution_count": 117,
   "metadata": {},
   "outputs": [
    {
     "data": {
      "text/plain": [
       "-0.4684198141093281"
      ]
     },
     "execution_count": 117,
     "metadata": {},
     "output_type": "execute_result"
    }
   ],
   "source": [
    "lr.score(X_test, y_test)"
   ]
  },
  {
   "cell_type": "code",
   "execution_count": 120,
   "metadata": {},
   "outputs": [],
   "source": [
    "from sklearn import svm\n",
    "regr = svm.SVR()"
   ]
  },
  {
   "cell_type": "code",
   "execution_count": 121,
   "metadata": {},
   "outputs": [
    {
     "data": {
      "text/plain": [
       "SVR()"
      ]
     },
     "execution_count": 121,
     "metadata": {},
     "output_type": "execute_result"
    }
   ],
   "source": [
    "regr.fit(X_train, y_train)"
   ]
  },
  {
   "cell_type": "code",
   "execution_count": 122,
   "metadata": {},
   "outputs": [
    {
     "data": {
      "text/plain": [
       "-0.04484144503104348"
      ]
     },
     "execution_count": 122,
     "metadata": {},
     "output_type": "execute_result"
    }
   ],
   "source": [
    "regr.score(X_test, y_test)"
   ]
  },
  {
   "cell_type": "code",
   "execution_count": 123,
   "metadata": {},
   "outputs": [
    {
     "data": {
      "text/plain": [
       "array([4339.83727151, 4338.8581222 , 4338.29386474, 4337.45508407,\n",
       "       4340.11711103, 4338.93055889, 4338.51932129, 4339.93919637,\n",
       "       4338.45383034, 4338.22787215, 4339.80599259, 4337.30660757,\n",
       "       4337.91959332, 4337.13945902, 4337.97982558, 4338.87031693,\n",
       "       4338.29968847, 4338.63718906, 4340.00940186, 4337.83480726])"
      ]
     },
     "execution_count": 123,
     "metadata": {},
     "output_type": "execute_result"
    }
   ],
   "source": [
    "regr.predict(X_test)"
   ]
  },
  {
   "cell_type": "code",
   "execution_count": 124,
   "metadata": {},
   "outputs": [
    {
     "data": {
      "text/plain": [
       "65     4642\n",
       "114     394\n",
       "16      434\n",
       "141    5917\n",
       "156    5768\n",
       "126    6399\n",
       "140     805\n",
       "30     4675\n",
       "18     2863\n",
       "167    6232\n",
       "158    5530\n",
       "15      994\n",
       "55     5238\n",
       "56     5101\n",
       "115    6777\n",
       "45     4791\n",
       "124     289\n",
       "9      1233\n",
       "147    5779\n",
       "85     3293\n",
       "Name: t.dmfs, dtype: int64"
      ]
     },
     "execution_count": 124,
     "metadata": {},
     "output_type": "execute_result"
    }
   ],
   "source": [
    "y_test"
   ]
  },
  {
   "cell_type": "code",
   "execution_count": null,
   "metadata": {},
   "outputs": [],
   "source": []
  }
 ],
 "metadata": {
  "kernelspec": {
   "display_name": "Python 3",
   "language": "python",
   "name": "python3"
  },
  "language_info": {
   "codemirror_mode": {
    "name": "ipython",
    "version": 3
   },
   "file_extension": ".py",
   "mimetype": "text/x-python",
   "name": "python",
   "nbconvert_exporter": "python",
   "pygments_lexer": "ipython3",
   "version": "3.7.6"
  }
 },
 "nbformat": 4,
 "nbformat_minor": 5
}
