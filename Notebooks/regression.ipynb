{
 "cells": [
  {
   "cell_type": "code",
   "execution_count": 1,
   "metadata": {},
   "outputs": [],
   "source": [
    "import pandas as pd\n",
    "import numpy as np\n",
    "from sklearn.metrics import r2_score\n",
    "import matplotlib.pyplot as plt\n",
    "from sklearn.ensemble import AdaBoostRegressor, GradientBoostingRegressor, RandomForestRegressor\n",
    "from sklearn.tree import DecisionTreeRegressor\n",
    "from sklearn.metrics import mean_squared_error    "
   ]
  },
  {
   "cell_type": "code",
   "execution_count": 2,
   "metadata": {},
   "outputs": [],
   "source": [
    "df = pd.read_csv(\"../Data/selected.csv\", index_col = False)\n",
    "df.drop([\"Unnamed: 0\"], inplace = True, axis = 1)"
   ]
  },
  {
   "cell_type": "code",
   "execution_count": 3,
   "metadata": {},
   "outputs": [],
   "source": [
    "df = df.replace(' NA', np.nan)\n",
    "df = df.replace('NA', np.nan)"
   ]
  },
  {
   "cell_type": "code",
   "execution_count": 4,
   "metadata": {},
   "outputs": [
    {
     "data": {
      "text/plain": [
       "217815_at        0\n",
       "204888_s_at      0\n",
       "218883_s_at      0\n",
       "211779_x_at      0\n",
       "221028_s_at      0\n",
       "218914_at        0\n",
       "203391_at        0\n",
       "204768_s_at      0\n",
       "risksg           1\n",
       "risknpi          2\n",
       "grade            2\n",
       "NPI              2\n",
       "Histtype         4\n",
       "Angioinv        77\n",
       "Lymp_infil     117\n",
       "dtype: int64"
      ]
     },
     "execution_count": 4,
     "metadata": {},
     "output_type": "execute_result"
    }
   ],
   "source": [
    "df.isna().sum(axis = 0).sort_values()[-15:]"
   ]
  },
  {
   "cell_type": "code",
   "execution_count": 5,
   "metadata": {},
   "outputs": [],
   "source": [
    "df['NPI'] = df['NPI'].astype('float')\n",
    "df['NPI'].replace(np.nan, df['NPI'].mean(), inplace = True)"
   ]
  },
  {
   "cell_type": "code",
   "execution_count": 6,
   "metadata": {},
   "outputs": [],
   "source": [
    "removals = ['t.rfs',\n",
    " 'e.rfs',\n",
    " 't.os',\n",
    " 'e.os',\n",
    " 't.dmfs',\n",
    " 'e.dmfs',\n",
    " 't.tdm',\n",
    " 'e.tdm', \"samplename\", \"id\",\"filename\",\"hospital\", 'Surgery_type', 'Histtype', 'Angioinv',\n",
    "       'Lymp_infil', 'node', 'grade', 'er', 'risksg', 'risknpi',\n",
    "        'risk_AOL', 'veridex_risk']\n",
    "rest = [i for i in df.columns if i not in removals]"
   ]
  },
  {
   "cell_type": "code",
   "execution_count": 7,
   "metadata": {},
   "outputs": [],
   "source": [
    "X = df[rest]\n",
    "X = X.replace(' NA', np.nan)\n",
    "X = X.replace(\"NA\", np.nan)\n",
    "X = X.dropna()"
   ]
  },
  {
   "cell_type": "code",
   "execution_count": 8,
   "metadata": {},
   "outputs": [
    {
     "data": {
      "text/html": [
       "<div>\n",
       "<style scoped>\n",
       "    .dataframe tbody tr th:only-of-type {\n",
       "        vertical-align: middle;\n",
       "    }\n",
       "\n",
       "    .dataframe tbody tr th {\n",
       "        vertical-align: top;\n",
       "    }\n",
       "\n",
       "    .dataframe thead th {\n",
       "        text-align: right;\n",
       "    }\n",
       "</style>\n",
       "<table border=\"1\" class=\"dataframe\">\n",
       "  <thead>\n",
       "    <tr style=\"text-align: right;\">\n",
       "      <th></th>\n",
       "      <th>219340_s_at</th>\n",
       "      <th>217771_at</th>\n",
       "      <th>202418_at</th>\n",
       "      <th>206295_at</th>\n",
       "      <th>201091_s_at</th>\n",
       "      <th>204015_s_at</th>\n",
       "      <th>200726_at</th>\n",
       "      <th>200965_s_at</th>\n",
       "      <th>210314_x_at</th>\n",
       "      <th>221882_s_at</th>\n",
       "      <th>...</th>\n",
       "      <th>204218_at</th>\n",
       "      <th>221241_s_at</th>\n",
       "      <th>209862_s_at</th>\n",
       "      <th>217019_at</th>\n",
       "      <th>210593_at</th>\n",
       "      <th>216103_at</th>\n",
       "      <th>age</th>\n",
       "      <th>size</th>\n",
       "      <th>NPI</th>\n",
       "      <th>AOL_os_10y</th>\n",
       "    </tr>\n",
       "  </thead>\n",
       "  <tbody>\n",
       "    <tr>\n",
       "      <th>0</th>\n",
       "      <td>7.014110</td>\n",
       "      <td>9.938705</td>\n",
       "      <td>11.053083</td>\n",
       "      <td>5.326001</td>\n",
       "      <td>10.964107</td>\n",
       "      <td>6.244280</td>\n",
       "      <td>10.926361</td>\n",
       "      <td>8.962608</td>\n",
       "      <td>10.523859</td>\n",
       "      <td>10.926365</td>\n",
       "      <td>...</td>\n",
       "      <td>8.319661</td>\n",
       "      <td>5.649573</td>\n",
       "      <td>8.180319</td>\n",
       "      <td>7.751753</td>\n",
       "      <td>4.528973</td>\n",
       "      <td>3.944944</td>\n",
       "      <td>57</td>\n",
       "      <td>3.0</td>\n",
       "      <td>4.60</td>\n",
       "      <td>62.7</td>\n",
       "    </tr>\n",
       "    <tr>\n",
       "      <th>1</th>\n",
       "      <td>7.326724</td>\n",
       "      <td>6.374728</td>\n",
       "      <td>10.596457</td>\n",
       "      <td>8.290123</td>\n",
       "      <td>11.594716</td>\n",
       "      <td>6.542130</td>\n",
       "      <td>12.242090</td>\n",
       "      <td>9.531718</td>\n",
       "      <td>10.342614</td>\n",
       "      <td>9.555092</td>\n",
       "      <td>...</td>\n",
       "      <td>9.118091</td>\n",
       "      <td>7.599788</td>\n",
       "      <td>8.332043</td>\n",
       "      <td>7.669779</td>\n",
       "      <td>4.190050</td>\n",
       "      <td>5.215237</td>\n",
       "      <td>57</td>\n",
       "      <td>3.0</td>\n",
       "      <td>4.60</td>\n",
       "      <td>69.0</td>\n",
       "    </tr>\n",
       "    <tr>\n",
       "      <th>2</th>\n",
       "      <td>6.974651</td>\n",
       "      <td>9.226757</td>\n",
       "      <td>10.834848</td>\n",
       "      <td>5.731169</td>\n",
       "      <td>9.166088</td>\n",
       "      <td>6.586000</td>\n",
       "      <td>11.661716</td>\n",
       "      <td>10.238680</td>\n",
       "      <td>10.144875</td>\n",
       "      <td>9.308048</td>\n",
       "      <td>...</td>\n",
       "      <td>8.927673</td>\n",
       "      <td>4.987613</td>\n",
       "      <td>9.023475</td>\n",
       "      <td>7.134818</td>\n",
       "      <td>6.538038</td>\n",
       "      <td>5.191881</td>\n",
       "      <td>48</td>\n",
       "      <td>2.5</td>\n",
       "      <td>4.50</td>\n",
       "      <td>66.2</td>\n",
       "    </tr>\n",
       "    <tr>\n",
       "      <th>3</th>\n",
       "      <td>7.703683</td>\n",
       "      <td>8.169183</td>\n",
       "      <td>11.627066</td>\n",
       "      <td>8.538247</td>\n",
       "      <td>9.086937</td>\n",
       "      <td>8.477335</td>\n",
       "      <td>12.174021</td>\n",
       "      <td>9.819279</td>\n",
       "      <td>10.888251</td>\n",
       "      <td>10.208241</td>\n",
       "      <td>...</td>\n",
       "      <td>9.292112</td>\n",
       "      <td>7.205051</td>\n",
       "      <td>8.374399</td>\n",
       "      <td>7.912452</td>\n",
       "      <td>7.230222</td>\n",
       "      <td>4.540211</td>\n",
       "      <td>42</td>\n",
       "      <td>1.8</td>\n",
       "      <td>4.36</td>\n",
       "      <td>84.9</td>\n",
       "    </tr>\n",
       "    <tr>\n",
       "      <th>4</th>\n",
       "      <td>6.581141</td>\n",
       "      <td>7.496745</td>\n",
       "      <td>11.500773</td>\n",
       "      <td>5.979282</td>\n",
       "      <td>8.887616</td>\n",
       "      <td>7.398170</td>\n",
       "      <td>11.484011</td>\n",
       "      <td>11.489233</td>\n",
       "      <td>9.702690</td>\n",
       "      <td>10.931843</td>\n",
       "      <td>...</td>\n",
       "      <td>9.166668</td>\n",
       "      <td>6.973316</td>\n",
       "      <td>7.599664</td>\n",
       "      <td>7.539716</td>\n",
       "      <td>6.421427</td>\n",
       "      <td>5.278598</td>\n",
       "      <td>46</td>\n",
       "      <td>3.0</td>\n",
       "      <td>3.60</td>\n",
       "      <td>80.2</td>\n",
       "    </tr>\n",
       "    <tr>\n",
       "      <th>...</th>\n",
       "      <td>...</td>\n",
       "      <td>...</td>\n",
       "      <td>...</td>\n",
       "      <td>...</td>\n",
       "      <td>...</td>\n",
       "      <td>...</td>\n",
       "      <td>...</td>\n",
       "      <td>...</td>\n",
       "      <td>...</td>\n",
       "      <td>...</td>\n",
       "      <td>...</td>\n",
       "      <td>...</td>\n",
       "      <td>...</td>\n",
       "      <td>...</td>\n",
       "      <td>...</td>\n",
       "      <td>...</td>\n",
       "      <td>...</td>\n",
       "      <td>...</td>\n",
       "      <td>...</td>\n",
       "      <td>...</td>\n",
       "      <td>...</td>\n",
       "    </tr>\n",
       "    <tr>\n",
       "      <th>193</th>\n",
       "      <td>6.954604</td>\n",
       "      <td>10.129438</td>\n",
       "      <td>10.888537</td>\n",
       "      <td>6.915913</td>\n",
       "      <td>10.740020</td>\n",
       "      <td>6.139044</td>\n",
       "      <td>12.018292</td>\n",
       "      <td>8.323876</td>\n",
       "      <td>8.839213</td>\n",
       "      <td>9.604668</td>\n",
       "      <td>...</td>\n",
       "      <td>9.681136</td>\n",
       "      <td>8.542533</td>\n",
       "      <td>7.888977</td>\n",
       "      <td>6.592585</td>\n",
       "      <td>4.429037</td>\n",
       "      <td>3.218512</td>\n",
       "      <td>39</td>\n",
       "      <td>2.2</td>\n",
       "      <td>4.44</td>\n",
       "      <td>67.7</td>\n",
       "    </tr>\n",
       "    <tr>\n",
       "      <th>194</th>\n",
       "      <td>4.108023</td>\n",
       "      <td>8.701039</td>\n",
       "      <td>10.908745</td>\n",
       "      <td>6.655799</td>\n",
       "      <td>11.145993</td>\n",
       "      <td>7.044179</td>\n",
       "      <td>11.711415</td>\n",
       "      <td>10.428482</td>\n",
       "      <td>9.634663</td>\n",
       "      <td>11.067820</td>\n",
       "      <td>...</td>\n",
       "      <td>8.937584</td>\n",
       "      <td>6.457199</td>\n",
       "      <td>9.263448</td>\n",
       "      <td>6.427916</td>\n",
       "      <td>6.215172</td>\n",
       "      <td>6.154912</td>\n",
       "      <td>46</td>\n",
       "      <td>3.2</td>\n",
       "      <td>4.64</td>\n",
       "      <td>62.7</td>\n",
       "    </tr>\n",
       "    <tr>\n",
       "      <th>195</th>\n",
       "      <td>5.667819</td>\n",
       "      <td>10.940586</td>\n",
       "      <td>10.464572</td>\n",
       "      <td>6.845962</td>\n",
       "      <td>10.463171</td>\n",
       "      <td>9.980030</td>\n",
       "      <td>11.939616</td>\n",
       "      <td>9.615587</td>\n",
       "      <td>9.424510</td>\n",
       "      <td>7.743568</td>\n",
       "      <td>...</td>\n",
       "      <td>9.079387</td>\n",
       "      <td>7.138855</td>\n",
       "      <td>8.577323</td>\n",
       "      <td>6.539374</td>\n",
       "      <td>7.436809</td>\n",
       "      <td>6.104234</td>\n",
       "      <td>47</td>\n",
       "      <td>2.5</td>\n",
       "      <td>2.50</td>\n",
       "      <td>87.6</td>\n",
       "    </tr>\n",
       "    <tr>\n",
       "      <th>196</th>\n",
       "      <td>7.466355</td>\n",
       "      <td>10.032314</td>\n",
       "      <td>10.894581</td>\n",
       "      <td>7.338324</td>\n",
       "      <td>8.609631</td>\n",
       "      <td>10.528216</td>\n",
       "      <td>11.848449</td>\n",
       "      <td>10.528911</td>\n",
       "      <td>10.517222</td>\n",
       "      <td>9.298178</td>\n",
       "      <td>...</td>\n",
       "      <td>9.504684</td>\n",
       "      <td>8.603733</td>\n",
       "      <td>8.079926</td>\n",
       "      <td>7.798234</td>\n",
       "      <td>5.624854</td>\n",
       "      <td>6.104978</td>\n",
       "      <td>43</td>\n",
       "      <td>1.2</td>\n",
       "      <td>3.24</td>\n",
       "      <td>89.6</td>\n",
       "    </tr>\n",
       "    <tr>\n",
       "      <th>197</th>\n",
       "      <td>6.429858</td>\n",
       "      <td>10.722343</td>\n",
       "      <td>11.692123</td>\n",
       "      <td>6.939691</td>\n",
       "      <td>9.011730</td>\n",
       "      <td>9.160088</td>\n",
       "      <td>11.425778</td>\n",
       "      <td>9.901486</td>\n",
       "      <td>9.631856</td>\n",
       "      <td>8.958376</td>\n",
       "      <td>...</td>\n",
       "      <td>8.687783</td>\n",
       "      <td>6.446787</td>\n",
       "      <td>7.909082</td>\n",
       "      <td>5.712037</td>\n",
       "      <td>3.876885</td>\n",
       "      <td>6.508481</td>\n",
       "      <td>39</td>\n",
       "      <td>2.5</td>\n",
       "      <td>4.50</td>\n",
       "      <td>67.7</td>\n",
       "    </tr>\n",
       "  </tbody>\n",
       "</table>\n",
       "<p>198 rows × 80 columns</p>\n",
       "</div>"
      ],
      "text/plain": [
       "     219340_s_at  217771_at  202418_at  206295_at  201091_s_at  204015_s_at  \\\n",
       "0       7.014110   9.938705  11.053083   5.326001    10.964107     6.244280   \n",
       "1       7.326724   6.374728  10.596457   8.290123    11.594716     6.542130   \n",
       "2       6.974651   9.226757  10.834848   5.731169     9.166088     6.586000   \n",
       "3       7.703683   8.169183  11.627066   8.538247     9.086937     8.477335   \n",
       "4       6.581141   7.496745  11.500773   5.979282     8.887616     7.398170   \n",
       "..           ...        ...        ...        ...          ...          ...   \n",
       "193     6.954604  10.129438  10.888537   6.915913    10.740020     6.139044   \n",
       "194     4.108023   8.701039  10.908745   6.655799    11.145993     7.044179   \n",
       "195     5.667819  10.940586  10.464572   6.845962    10.463171     9.980030   \n",
       "196     7.466355  10.032314  10.894581   7.338324     8.609631    10.528216   \n",
       "197     6.429858  10.722343  11.692123   6.939691     9.011730     9.160088   \n",
       "\n",
       "     200726_at  200965_s_at  210314_x_at  221882_s_at  ...  204218_at  \\\n",
       "0    10.926361     8.962608    10.523859    10.926365  ...   8.319661   \n",
       "1    12.242090     9.531718    10.342614     9.555092  ...   9.118091   \n",
       "2    11.661716    10.238680    10.144875     9.308048  ...   8.927673   \n",
       "3    12.174021     9.819279    10.888251    10.208241  ...   9.292112   \n",
       "4    11.484011    11.489233     9.702690    10.931843  ...   9.166668   \n",
       "..         ...          ...          ...          ...  ...        ...   \n",
       "193  12.018292     8.323876     8.839213     9.604668  ...   9.681136   \n",
       "194  11.711415    10.428482     9.634663    11.067820  ...   8.937584   \n",
       "195  11.939616     9.615587     9.424510     7.743568  ...   9.079387   \n",
       "196  11.848449    10.528911    10.517222     9.298178  ...   9.504684   \n",
       "197  11.425778     9.901486     9.631856     8.958376  ...   8.687783   \n",
       "\n",
       "     221241_s_at  209862_s_at  217019_at  210593_at  216103_at  age  size  \\\n",
       "0       5.649573     8.180319   7.751753   4.528973   3.944944   57   3.0   \n",
       "1       7.599788     8.332043   7.669779   4.190050   5.215237   57   3.0   \n",
       "2       4.987613     9.023475   7.134818   6.538038   5.191881   48   2.5   \n",
       "3       7.205051     8.374399   7.912452   7.230222   4.540211   42   1.8   \n",
       "4       6.973316     7.599664   7.539716   6.421427   5.278598   46   3.0   \n",
       "..           ...          ...        ...        ...        ...  ...   ...   \n",
       "193     8.542533     7.888977   6.592585   4.429037   3.218512   39   2.2   \n",
       "194     6.457199     9.263448   6.427916   6.215172   6.154912   46   3.2   \n",
       "195     7.138855     8.577323   6.539374   7.436809   6.104234   47   2.5   \n",
       "196     8.603733     8.079926   7.798234   5.624854   6.104978   43   1.2   \n",
       "197     6.446787     7.909082   5.712037   3.876885   6.508481   39   2.5   \n",
       "\n",
       "      NPI  AOL_os_10y  \n",
       "0    4.60        62.7  \n",
       "1    4.60        69.0  \n",
       "2    4.50        66.2  \n",
       "3    4.36        84.9  \n",
       "4    3.60        80.2  \n",
       "..    ...         ...  \n",
       "193  4.44        67.7  \n",
       "194  4.64        62.7  \n",
       "195  2.50        87.6  \n",
       "196  3.24        89.6  \n",
       "197  4.50        67.7  \n",
       "\n",
       "[198 rows x 80 columns]"
      ]
     },
     "execution_count": 8,
     "metadata": {},
     "output_type": "execute_result"
    }
   ],
   "source": [
    "X"
   ]
  },
  {
   "cell_type": "code",
   "execution_count": 9,
   "metadata": {},
   "outputs": [],
   "source": [
    "y = df[\"t.os\"]"
   ]
  },
  {
   "cell_type": "code",
   "execution_count": 10,
   "metadata": {},
   "outputs": [],
   "source": [
    "from sklearn import linear_model\n",
    "from sklearn.model_selection import train_test_split"
   ]
  },
  {
   "cell_type": "code",
   "execution_count": 11,
   "metadata": {},
   "outputs": [],
   "source": [
    "X_train, X_test, y_train, y_test = train_test_split(X, y, test_size=0.10, random_state=42)"
   ]
  },
  {
   "cell_type": "code",
   "execution_count": 12,
   "metadata": {},
   "outputs": [
    {
     "data": {
      "text/plain": [
       "LinearRegression(normalize=True)"
      ]
     },
     "execution_count": 12,
     "metadata": {},
     "output_type": "execute_result"
    }
   ],
   "source": [
    "lr = linear_model.LinearRegression(normalize = True)\n",
    "lr.fit(X_train,y_train)"
   ]
  },
  {
   "cell_type": "code",
   "execution_count": 13,
   "metadata": {},
   "outputs": [
    {
     "data": {
      "text/plain": [
       "array([8198.26716837, 2326.02249308, 3756.4955394 , 3265.73237672,\n",
       "       6570.77298864, 4670.12139991, 4647.61282827, 5364.76925281,\n",
       "       4565.97247017, 4346.79825571, 4511.78570065, 5490.61658898,\n",
       "       5652.9861509 , 4067.27151762, 3417.33904311, 2284.64662948,\n",
       "       6841.46409964, 5308.78956739, 6176.79572032, 2933.37501191])"
      ]
     },
     "execution_count": 13,
     "metadata": {},
     "output_type": "execute_result"
    }
   ],
   "source": [
    "lr.predict(X_test)"
   ]
  },
  {
   "cell_type": "code",
   "execution_count": 14,
   "metadata": {},
   "outputs": [
    {
     "data": {
      "text/plain": [
       "-0.5081822869484658"
      ]
     },
     "execution_count": 14,
     "metadata": {},
     "output_type": "execute_result"
    }
   ],
   "source": [
    "lr.score(X_test, y_test)"
   ]
  },
  {
   "cell_type": "code",
   "execution_count": 15,
   "metadata": {},
   "outputs": [],
   "source": [
    "from sklearn import svm\n",
    "regr = svm.SVR()"
   ]
  },
  {
   "cell_type": "code",
   "execution_count": 16,
   "metadata": {},
   "outputs": [
    {
     "data": {
      "text/plain": [
       "SVR()"
      ]
     },
     "execution_count": 16,
     "metadata": {},
     "output_type": "execute_result"
    }
   ],
   "source": [
    "regr.fit(X_train, y_train)"
   ]
  },
  {
   "cell_type": "code",
   "execution_count": 17,
   "metadata": {},
   "outputs": [
    {
     "data": {
      "text/plain": [
       "-0.02040889880747998"
      ]
     },
     "execution_count": 17,
     "metadata": {},
     "output_type": "execute_result"
    }
   ],
   "source": [
    "regr.score(X_test, y_test)"
   ]
  },
  {
   "cell_type": "code",
   "execution_count": 19,
   "metadata": {},
   "outputs": [
    {
     "data": {
      "text/plain": [
       "RandomForestRegressor(n_estimators=500)"
      ]
     },
     "execution_count": 19,
     "metadata": {},
     "output_type": "execute_result"
    }
   ],
   "source": [
    "rfreg = RandomForestRegressor(n_estimators=500, )\n",
    "rfreg.fit(X_train, y_train)"
   ]
  },
  {
   "cell_type": "code",
   "execution_count": 20,
   "metadata": {},
   "outputs": [
    {
     "data": {
      "text/plain": [
       "0.10868063051454113"
      ]
     },
     "execution_count": 20,
     "metadata": {},
     "output_type": "execute_result"
    }
   ],
   "source": [
    "rfreg.score(X_test, y_test)"
   ]
  },
  {
   "cell_type": "code",
   "execution_count": 21,
   "metadata": {},
   "outputs": [
    {
     "data": {
      "text/plain": [
       "2014.435207053282"
      ]
     },
     "execution_count": 21,
     "metadata": {},
     "output_type": "execute_result"
    }
   ],
   "source": [
    "mean_squared_error(y_test, rfreg.predict(X_test))**0.5"
   ]
  },
  {
   "cell_type": "code",
   "execution_count": 22,
   "metadata": {},
   "outputs": [
    {
     "data": {
      "text/plain": [
       "array([75, 39, 35,  3, 67, 13,  5, 73,  1, 24, 19, 34, 77, 26, 37, 59, 64,\n",
       "       47, 42, 41,  8, 40, 51, 48, 70, 78, 17, 29, 63, 44, 46, 11, 15, 10,\n",
       "        7, 50, 12, 79, 66, 22, 56, 14, 54, 68, 31, 18, 28, 72,  9, 71,  0,\n",
       "       57, 16, 33, 69, 60, 74, 30, 62, 61, 45,  4, 53, 38,  6, 55, 21, 65,\n",
       "        2, 43, 49, 76, 27, 58, 20, 25, 36, 23, 52, 32])"
      ]
     },
     "execution_count": 22,
     "metadata": {},
     "output_type": "execute_result"
    }
   ],
   "source": [
    "feature_imp = rfreg.feature_importances_\n",
    "sorted_idx = np.argsort(feature_imp)\n",
    "sorted_idx"
   ]
  },
  {
   "cell_type": "code",
   "execution_count": 23,
   "metadata": {},
   "outputs": [
    {
     "data": {
      "text/plain": [
       "Index(['216103_at', '214919_s_at', '201368_at', '206295_at', '221634_at',\n",
       "       '212567_s_at', '204015_s_at', '217019_at', '217771_at', '204740_at',\n",
       "       '201664_at', '217815_at', 'size', '204768_s_at', '201068_s_at',\n",
       "       '211040_x_at', '216010_x_at', '208683_at', '203306_s_at', '217471_at',\n",
       "       '210314_x_at', '209835_x_at', '221928_at', '215510_at', '204218_at',\n",
       "       'NPI', '210028_s_at', '218914_at', '214915_at', '221816_s_at',\n",
       "       '217102_at', '219588_s_at', '201663_s_at', '217767_at', '200965_s_at',\n",
       "       '215633_x_at', '204073_s_at', 'AOL_os_10y', '202687_s_at',\n",
       "       '212014_x_at', '209500_x_at', '211382_s_at', '221916_at', '220886_at',\n",
       "       '211779_x_at', '218782_s_at', '211762_s_at', '209862_s_at',\n",
       "       '221882_s_at', '221241_s_at', '219340_s_at', '209524_at', '221344_at',\n",
       "       '204888_s_at', '202239_at', '218430_s_at', '210593_at', '221028_s_at',\n",
       "       '205848_at', '217404_s_at', '219510_at', '201091_s_at', '204540_at',\n",
       "       '218478_s_at', '200726_at', '216693_x_at', '204014_at', '204631_at',\n",
       "       '202418_at', '205034_at', '218533_s_at', 'age', '203391_at',\n",
       "       '207118_s_at', '219724_s_at', '208180_s_at', '201288_at', '202240_at',\n",
       "       '214806_at', '218883_s_at'],\n",
       "      dtype='object')"
      ]
     },
     "execution_count": 23,
     "metadata": {},
     "output_type": "execute_result"
    }
   ],
   "source": [
    "features = X_train.columns[sorted_idx]\n",
    "features"
   ]
  },
  {
   "cell_type": "code",
   "execution_count": 26,
   "metadata": {},
   "outputs": [
    {
     "data": {
      "image/png": "[encoded data removed]",
      "text/plain": [
       "<Figure size 720x1080 with 1 Axes>"
      ]
     },
     "metadata": {
      "needs_background": "light"
     },
     "output_type": "display_data"
    }
   ],
   "source": [
    "plt.figure(figsize = (10, 15))\n",
    "pos = np.arange(sorted_idx.shape[0]) + .5\n",
    "# plt.barh(pos[:15], feature_imp[sorted_idx][:15])\n",
    "# plt.yticks(pos[:15], features[:15]);\n",
    "# plt.show()\n",
    "pos = np.arange(sorted_idx.shape[0])\n",
    "plt.barh(pos, feature_imp[sorted_idx])\n",
    "plt.yticks(pos, features[::-1]);\n",
    "plt.xlabel('Feature Importance')\n",
    "plt.ylabel('Feature')\n",
    "plt.title('Feature Importance Graph');"
   ]
  },
  {
   "cell_type": "code",
   "execution_count": 27,
   "metadata": {},
   "outputs": [],
   "source": [
    "# features[:22]"
   ]
  },
  {
   "cell_type": "code",
   "execution_count": 28,
   "metadata": {},
   "outputs": [],
   "source": [
    "cols = features[:21]\n",
    "X = df[cols]\n",
    "y = df['t.os']\n",
    "X_train, X_test, y_train, y_test = train_test_split(X, y, test_size = 0.1)\n"
   ]
  },
  {
   "cell_type": "code",
   "execution_count": 29,
   "metadata": {},
   "outputs": [
    {
     "data": {
      "text/plain": [
       "RandomForestRegressor(n_estimators=200)"
      ]
     },
     "execution_count": 29,
     "metadata": {},
     "output_type": "execute_result"
    }
   ],
   "source": [
    "rfreg = RandomForestRegressor(n_estimators=200)\n",
    "rfreg.fit(X_train, y_train)"
   ]
  },
  {
   "cell_type": "code",
   "execution_count": 30,
   "metadata": {},
   "outputs": [
    {
     "data": {
      "text/plain": [
       "-0.26017626795484006"
      ]
     },
     "execution_count": 30,
     "metadata": {},
     "output_type": "execute_result"
    }
   ],
   "source": [
    "rfreg.score(X_test, y_test)"
   ]
  },
  {
   "cell_type": "code",
   "execution_count": 31,
   "metadata": {},
   "outputs": [
    {
     "data": {
      "text/plain": [
       "AdaBoostRegressor(base_estimator=DecisionTreeRegressor(max_depth=5),\n",
       "                  learning_rate=1, loss='exponential', n_estimators=10000)"
      ]
     },
     "execution_count": 31,
     "metadata": {},
     "output_type": "execute_result"
    }
   ],
   "source": [
    "adaboost = AdaBoostRegressor(base_estimator= DecisionTreeRegressor(max_depth = 5),\n",
    "                             n_estimators=10000,\n",
    "                             loss = 'exponential',\n",
    "                             learning_rate=1)\n",
    "adaboost.fit(X_train, y_train)"
   ]
  },
  {
   "cell_type": "code",
   "execution_count": 32,
   "metadata": {},
   "outputs": [
    {
     "data": {
      "text/plain": [
       "-0.31104337323176945"
      ]
     },
     "execution_count": 32,
     "metadata": {},
     "output_type": "execute_result"
    }
   ],
   "source": [
    "adaboost.score(X_test, y_test)"
   ]
  },
  {
   "cell_type": "code",
   "execution_count": 33,
   "metadata": {},
   "outputs": [
    {
     "data": {
      "text/plain": [
       "5103991.950152825"
      ]
     },
     "execution_count": 33,
     "metadata": {},
     "output_type": "execute_result"
    }
   ],
   "source": [
    "mean_squared_error(y_test, adaboost.predict(X_test))"
   ]
  },
  {
   "cell_type": "code",
   "execution_count": 34,
   "metadata": {},
   "outputs": [],
   "source": [
    "params = {'n_estimators': 500,\n",
    "          'max_depth': 10,\n",
    "          'min_samples_split': 5,\n",
    "          'learning_rate': 0.01}"
   ]
  },
  {
   "cell_type": "code",
   "execution_count": 35,
   "metadata": {},
   "outputs": [],
   "source": [
    "gradboost = GradientBoostingRegressor(**params)"
   ]
  },
  {
   "cell_type": "code",
   "execution_count": 36,
   "metadata": {},
   "outputs": [
    {
     "data": {
      "text/plain": [
       "GradientBoostingRegressor(learning_rate=0.01, max_depth=10, min_samples_split=5,\n",
       "                          n_estimators=500)"
      ]
     },
     "execution_count": 36,
     "metadata": {},
     "output_type": "execute_result"
    }
   ],
   "source": [
    "gradboost.fit(X_train, y_train)"
   ]
  },
  {
   "cell_type": "code",
   "execution_count": 37,
   "metadata": {},
   "outputs": [
    {
     "data": {
      "text/plain": [
       "-0.5973725928687144"
      ]
     },
     "execution_count": 37,
     "metadata": {},
     "output_type": "execute_result"
    }
   ],
   "source": [
    "gradboost.score(X_test, y_test)"
   ]
  },
  {
   "cell_type": "code",
   "execution_count": 38,
   "metadata": {},
   "outputs": [
    {
     "data": {
      "text/plain": [
       "array([4852.45713102, 3622.30563247, 3407.90014682, 4851.910924  ,\n",
       "       3046.13268101, 4489.84765264, 4644.64407985, 4279.3080599 ,\n",
       "       2476.88404261, 3161.69866302, 4795.3980752 , 1420.26462886,\n",
       "       2926.33090308, 2159.93953298, 3733.60831163, 5401.62964734,\n",
       "       3736.36936157, 5207.66661662, 4170.63627006, 4988.25384693])"
      ]
     },
     "execution_count": 38,
     "metadata": {},
     "output_type": "execute_result"
    }
   ],
   "source": [
    "gradboost.predict(X_test)"
   ]
  },
  {
   "cell_type": "code",
   "execution_count": 39,
   "metadata": {},
   "outputs": [],
   "source": [
    "feature_imp = gradboost.feature_importances_\n",
    "sorted_idx = np.argsort(feature_imp)"
   ]
  },
  {
   "cell_type": "code",
   "execution_count": 40,
   "metadata": {},
   "outputs": [],
   "source": [
    "features = X_train.columns[sorted_idx]"
   ]
  },
  {
   "cell_type": "code",
   "execution_count": 41,
   "metadata": {},
   "outputs": [
    {
     "data": {
      "image/png": "[encoded data removed]",
      "text/plain": [
       "<Figure size 432x288 with 1 Axes>"
      ]
     },
     "metadata": {
      "needs_background": "light"
     },
     "output_type": "display_data"
    }
   ],
   "source": [
    "pos = np.arange(sorted_idx.shape[0]) + .5\n",
    "plt.barh(pos[:20], feature_imp[sorted_idx][:20])\n",
    "plt.yticks(pos[:20], features[sorted_idx][:20]);\n"
   ]
  },
  {
   "cell_type": "code",
   "execution_count": 42,
   "metadata": {},
   "outputs": [],
   "source": [
    "cols = features[sorted_idx][:12]"
   ]
  },
  {
   "cell_type": "code",
   "execution_count": 43,
   "metadata": {},
   "outputs": [],
   "source": [
    "X = df[cols]\n",
    "y = df['t.os']"
   ]
  },
  {
   "cell_type": "code",
   "execution_count": 44,
   "metadata": {},
   "outputs": [],
   "source": [
    "X_train, X_test, y_train, y_test = train_test_split(X, y, test_size = 0.1)"
   ]
  },
  {
   "cell_type": "code",
   "execution_count": 45,
   "metadata": {},
   "outputs": [
    {
     "data": {
      "text/plain": [
       "GradientBoostingRegressor(learning_rate=0.01, max_depth=10, min_samples_split=5,\n",
       "                          n_estimators=500)"
      ]
     },
     "execution_count": 45,
     "metadata": {},
     "output_type": "execute_result"
    }
   ],
   "source": [
    "gradboost.fit(X_train, y_train)"
   ]
  },
  {
   "cell_type": "code",
   "execution_count": 46,
   "metadata": {},
   "outputs": [
    {
     "data": {
      "text/plain": [
       "-0.40024591921062846"
      ]
     },
     "execution_count": 46,
     "metadata": {},
     "output_type": "execute_result"
    }
   ],
   "source": [
    "gradboost.score(X_test, y_test)"
   ]
  }
 ],
 "metadata": {
  "kernelspec": {
   "display_name": "Python 3",
   "language": "python",
   "name": "python3"
  },
  "language_info": {
   "codemirror_mode": {
    "name": "ipython",
    "version": 3
   },
   "file_extension": ".py",
   "mimetype": "text/x-python",
   "name": "python",
   "nbconvert_exporter": "python",
   "pygments_lexer": "ipython3",
   "version": "3.7.6"
  }
 },
 "nbformat": 4,
 "nbformat_minor": 5
}
