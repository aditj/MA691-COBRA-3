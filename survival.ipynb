{
 "cells": [
  {
   "cell_type": "markdown",
   "metadata": {},
   "source": [
    "### Dependencies"
   ]
  },
  {
   "cell_type": "code",
   "execution_count": 10,
   "metadata": {},
   "outputs": [
    {
     "name": "stdout",
     "output_type": "stream",
     "text": [
      "Collecting delayed\n",
      "  Downloading delayed-0.11.0b1-py2.py3-none-any.whl (19 kB)\n",
      "Collecting hiredis\n",
      "  Downloading hiredis-2.0.0-cp37-cp37m-manylinux2010_x86_64.whl (85 kB)\n",
      "     |████████████████████████████████| 85 kB 889 kB/s            \n",
      "\u001b[?25hCollecting redis\n",
      "  Downloading redis-3.5.3-py2.py3-none-any.whl (72 kB)\n",
      "     |████████████████████████████████| 72 kB 430 kB/s            \n",
      "\u001b[?25hInstalling collected packages: redis, hiredis, delayed\n",
      "Successfully installed delayed-0.11.0b1 hiredis-2.0.0 redis-3.5.3\n",
      "Note: you may need to restart the kernel to use updated packages.\n"
     ]
    }
   ],
   "source": [
    "# pip install delayed\n",
    "# !pip install scikit-survival"
   ]
  },
  {
   "cell_type": "markdown",
   "metadata": {},
   "source": [
    "### Imports"
   ]
  },
  {
   "cell_type": "code",
   "execution_count": 2,
   "metadata": {},
   "outputs": [],
   "source": [
    "import pandas as pd\n",
    "import numpy as np\n",
    "from sklearn.metrics import r2_score\n",
    "from sklearn.model_selection import train_test_split\n",
    "from sksurv.ensemble import RandomSurvivalForest\n",
    "import matplotlib.pyplot as plt"
   ]
  },
  {
   "cell_type": "markdown",
   "metadata": {},
   "source": [
    "### Loading and Cleaning dataset"
   ]
  },
  {
   "cell_type": "code",
   "execution_count": 3,
   "metadata": {},
   "outputs": [
    {
     "data": {
      "text/html": [
       "<div>\n",
       "<style scoped>\n",
       "    .dataframe tbody tr th:only-of-type {\n",
       "        vertical-align: middle;\n",
       "    }\n",
       "\n",
       "    .dataframe tbody tr th {\n",
       "        vertical-align: top;\n",
       "    }\n",
       "\n",
       "    .dataframe thead th {\n",
       "        text-align: right;\n",
       "    }\n",
       "</style>\n",
       "<table border=\"1\" class=\"dataframe\">\n",
       "  <thead>\n",
       "    <tr style=\"text-align: right;\">\n",
       "      <th></th>\n",
       "      <th>219340_s_at</th>\n",
       "      <th>217771_at</th>\n",
       "      <th>202418_at</th>\n",
       "      <th>206295_at</th>\n",
       "      <th>201091_s_at</th>\n",
       "      <th>204015_s_at</th>\n",
       "      <th>200726_at</th>\n",
       "      <th>200965_s_at</th>\n",
       "      <th>210314_x_at</th>\n",
       "      <th>221882_s_at</th>\n",
       "      <th>...</th>\n",
       "      <th>t.dmfs</th>\n",
       "      <th>e.dmfs</th>\n",
       "      <th>t.tdm</th>\n",
       "      <th>e.tdm</th>\n",
       "      <th>risksg</th>\n",
       "      <th>NPI</th>\n",
       "      <th>risknpi</th>\n",
       "      <th>AOL_os_10y</th>\n",
       "      <th>risk_AOL</th>\n",
       "      <th>veridex_risk</th>\n",
       "    </tr>\n",
       "  </thead>\n",
       "  <tbody>\n",
       "    <tr>\n",
       "      <th>0</th>\n",
       "      <td>7.014110</td>\n",
       "      <td>9.938705</td>\n",
       "      <td>11.053083</td>\n",
       "      <td>5.326001</td>\n",
       "      <td>10.964107</td>\n",
       "      <td>6.244280</td>\n",
       "      <td>10.926361</td>\n",
       "      <td>8.962608</td>\n",
       "      <td>10.523859</td>\n",
       "      <td>10.926365</td>\n",
       "      <td>...</td>\n",
       "      <td>723</td>\n",
       "      <td>1</td>\n",
       "      <td>723</td>\n",
       "      <td>1</td>\n",
       "      <td>2</td>\n",
       "      <td>4.60</td>\n",
       "      <td>2</td>\n",
       "      <td>62.7</td>\n",
       "      <td>1</td>\n",
       "      <td>Poor</td>\n",
       "    </tr>\n",
       "    <tr>\n",
       "      <th>1</th>\n",
       "      <td>7.326724</td>\n",
       "      <td>6.374728</td>\n",
       "      <td>10.596457</td>\n",
       "      <td>8.290123</td>\n",
       "      <td>11.594716</td>\n",
       "      <td>6.542130</td>\n",
       "      <td>12.242090</td>\n",
       "      <td>9.531718</td>\n",
       "      <td>10.342614</td>\n",
       "      <td>9.555092</td>\n",
       "      <td>...</td>\n",
       "      <td>6591</td>\n",
       "      <td>0</td>\n",
       "      <td>6591</td>\n",
       "      <td>0</td>\n",
       "      <td>2</td>\n",
       "      <td>4.60</td>\n",
       "      <td>2</td>\n",
       "      <td>69.0</td>\n",
       "      <td>1</td>\n",
       "      <td>Poor</td>\n",
       "    </tr>\n",
       "    <tr>\n",
       "      <th>2</th>\n",
       "      <td>6.974651</td>\n",
       "      <td>9.226757</td>\n",
       "      <td>10.834848</td>\n",
       "      <td>5.731169</td>\n",
       "      <td>9.166088</td>\n",
       "      <td>6.586000</td>\n",
       "      <td>11.661716</td>\n",
       "      <td>10.238680</td>\n",
       "      <td>10.144875</td>\n",
       "      <td>9.308048</td>\n",
       "      <td>...</td>\n",
       "      <td>524</td>\n",
       "      <td>1</td>\n",
       "      <td>524</td>\n",
       "      <td>1</td>\n",
       "      <td>2</td>\n",
       "      <td>4.50</td>\n",
       "      <td>2</td>\n",
       "      <td>66.2</td>\n",
       "      <td>1</td>\n",
       "      <td>Poor</td>\n",
       "    </tr>\n",
       "    <tr>\n",
       "      <th>3</th>\n",
       "      <td>7.703683</td>\n",
       "      <td>8.169183</td>\n",
       "      <td>11.627066</td>\n",
       "      <td>8.538247</td>\n",
       "      <td>9.086937</td>\n",
       "      <td>8.477335</td>\n",
       "      <td>12.174021</td>\n",
       "      <td>9.819279</td>\n",
       "      <td>10.888251</td>\n",
       "      <td>10.208241</td>\n",
       "      <td>...</td>\n",
       "      <td>6255</td>\n",
       "      <td>1</td>\n",
       "      <td>6255</td>\n",
       "      <td>0</td>\n",
       "      <td>2</td>\n",
       "      <td>4.36</td>\n",
       "      <td>2</td>\n",
       "      <td>84.9</td>\n",
       "      <td>1</td>\n",
       "      <td>Poor</td>\n",
       "    </tr>\n",
       "    <tr>\n",
       "      <th>4</th>\n",
       "      <td>6.581141</td>\n",
       "      <td>7.496745</td>\n",
       "      <td>11.500773</td>\n",
       "      <td>5.979282</td>\n",
       "      <td>8.887616</td>\n",
       "      <td>7.398170</td>\n",
       "      <td>11.484011</td>\n",
       "      <td>11.489233</td>\n",
       "      <td>9.702690</td>\n",
       "      <td>10.931843</td>\n",
       "      <td>...</td>\n",
       "      <td>3822</td>\n",
       "      <td>1</td>\n",
       "      <td>3822</td>\n",
       "      <td>1</td>\n",
       "      <td>2</td>\n",
       "      <td>3.60</td>\n",
       "      <td>2</td>\n",
       "      <td>80.2</td>\n",
       "      <td>1</td>\n",
       "      <td>Poor</td>\n",
       "    </tr>\n",
       "  </tbody>\n",
       "</table>\n",
       "<p>5 rows × 103 columns</p>\n",
       "</div>"
      ],
      "text/plain": [
       "   219340_s_at  217771_at  202418_at  206295_at  201091_s_at  204015_s_at  \\\n",
       "0     7.014110   9.938705  11.053083   5.326001    10.964107     6.244280   \n",
       "1     7.326724   6.374728  10.596457   8.290123    11.594716     6.542130   \n",
       "2     6.974651   9.226757  10.834848   5.731169     9.166088     6.586000   \n",
       "3     7.703683   8.169183  11.627066   8.538247     9.086937     8.477335   \n",
       "4     6.581141   7.496745  11.500773   5.979282     8.887616     7.398170   \n",
       "\n",
       "   200726_at  200965_s_at  210314_x_at  221882_s_at  ...  t.dmfs  e.dmfs  \\\n",
       "0  10.926361     8.962608    10.523859    10.926365  ...     723       1   \n",
       "1  12.242090     9.531718    10.342614     9.555092  ...    6591       0   \n",
       "2  11.661716    10.238680    10.144875     9.308048  ...     524       1   \n",
       "3  12.174021     9.819279    10.888251    10.208241  ...    6255       1   \n",
       "4  11.484011    11.489233     9.702690    10.931843  ...    3822       1   \n",
       "\n",
       "   t.tdm  e.tdm  risksg   NPI  risknpi  AOL_os_10y  risk_AOL  veridex_risk  \n",
       "0    723      1       2  4.60        2        62.7         1          Poor  \n",
       "1   6591      0       2  4.60        2        69.0         1          Poor  \n",
       "2    524      1       2  4.50        2        66.2         1          Poor  \n",
       "3   6255      0       2  4.36        2        84.9         1          Poor  \n",
       "4   3822      1       2  3.60        2        80.2         1          Poor  \n",
       "\n",
       "[5 rows x 103 columns]"
      ]
     },
     "execution_count": 3,
     "metadata": {},
     "output_type": "execute_result"
    }
   ],
   "source": [
    "df = pd.read_csv(\"selected.csv\", index_col = False)\n",
    "df.drop([\"Unnamed: 0\"], inplace = True, axis = 1)\n",
    "df = df.replace(' NA', np.nan)\n",
    "df = df.replace('NA', np.nan)\n",
    "df['NPI'] = df['NPI'].astype('float')\n",
    "df['NPI'].replace(np.nan, df['NPI'].mean(), inplace = True)\n",
    "df.head()"
   ]
  },
  {
   "cell_type": "code",
   "execution_count": 4,
   "metadata": {},
   "outputs": [
    {
     "data": {
      "text/plain": [
       "203391_at        0\n",
       "204768_s_at      0\n",
       "208180_s_at      0\n",
       "217815_at        0\n",
       "risksg           1\n",
       "risknpi          2\n",
       "grade            2\n",
       "Histtype         4\n",
       "Angioinv        77\n",
       "Lymp_infil     117\n",
       "dtype: int64"
      ]
     },
     "execution_count": 4,
     "metadata": {},
     "output_type": "execute_result"
    }
   ],
   "source": [
    "df.isna().sum(axis = 0).sort_values()[-10:]"
   ]
  },
  {
   "cell_type": "markdown",
   "metadata": {},
   "source": [
    "### Choosing columns for training"
   ]
  },
  {
   "cell_type": "code",
   "execution_count": 5,
   "metadata": {},
   "outputs": [],
   "source": [
    "removals = ['t.rfs', 'e.rfs', 't.os', 'e.os', 't.dmfs','e.dmfs', 't.tdm', 'e.tdm', \"samplename\", \"id\",\"filename\",\"hospital\", 'Surgery_type', 'Histtype', 'Angioinv', 'Lymp_infil', 'node', 'grade', 'er', 'risksg', 'risknpi', 'risk_AOL', 'veridex_risk']\n",
    "rest = [i for i in df.columns if i not in removals]"
   ]
  },
  {
   "cell_type": "markdown",
   "metadata": {},
   "source": [
    "### Defining Explanatory and Response Variable"
   ]
  },
  {
   "cell_type": "code",
   "execution_count": 6,
   "metadata": {},
   "outputs": [
    {
     "data": {
      "text/plain": [
       "array([( True,  723.), (False, 6591.), ( True,  524.), (False, 6255.),\n",
       "       ( True, 3822.), (False, 6507.), (False, 5947.), (False, 5816.),\n",
       "       (False, 6007.), ( True, 1233.), ( True, 1136.), (False, 5984.),\n",
       "       (False, 6249.), ( True, 4066.), ( True,  690.), ( True,  994.),\n",
       "       ( True,  434.), ( True, 1743.), ( True, 2863.), (False, 5693.),\n",
       "       (False, 5823.), (False, 5785.), (False, 5661.), (False, 2909.),\n",
       "       ( True, 1171.), (False, 5110.), (False, 5533.), (False, 5571.),\n",
       "       (False, 5519.), (False, 5379.), (False, 4675.), (False, 4652.),\n",
       "       (False, 4227.), ( True,  910.), (False, 4472.), ( True, 1206.),\n",
       "       (False, 7057.), (False,  958.), (False, 5359.), (False, 5945.),\n",
       "       (False, 5651.), ( True,  528.), ( True,  796.), (False, 5685.),\n",
       "       ( True, 1023.), (False, 4791.), (False, 1215.), (False, 3779.),\n",
       "       (False, 5306.), (False, 5678.), ( True,  421.), (False, 5612.),\n",
       "       ( True, 3121.), (False, 1104.), (False, 4691.), (False, 5238.),\n",
       "       (False, 5101.), (False, 2809.), (False, 3296.), (False, 3555.),\n",
       "       (False, 5433.), (False, 5228.), (False, 5316.), (False, 4925.),\n",
       "       (False, 5012.), (False, 4642.), (False, 3311.), (False, 4863.),\n",
       "       ( True, 1815.), ( True,  803.), (False, 2105.), ( True,  530.),\n",
       "       (False, 4830.), ( True, 1721.), (False, 4720.), ( True, 1259.),\n",
       "       ( True, 3976.), ( True, 4050.), (False, 1740.), (False, 3608.),\n",
       "       (False, 3900.), (False, 1554.), (False, 3544.), (False, 3721.),\n",
       "       (False, 3771.), (False, 3293.), (False, 3800.), ( True, 4415.),\n",
       "       ( True,  649.), (False, 4952.), ( True, 1693.), (False, 4603.),\n",
       "       (False, 4857.), (False, 4681.), (False, 2965.), (False, 4596.),\n",
       "       ( True, 1112.), (False, 1918.), ( True, 1731.), (False, 4327.),\n",
       "       (False, 4352.), (False, 4181.), (False, 3188.), (False, 2672.),\n",
       "       ( True,  730.), (False, 1591.), (False, 1920.), (False, 2647.),\n",
       "       ( True,  269.), (False, 1290.), (False, 4568.), (False, 4537.),\n",
       "       (False, 5035.), ( True, 2604.), ( True,  394.), (False, 6777.),\n",
       "       (False, 2549.), (False, 4085.), (False, 2892.), (False, 5236.),\n",
       "       (False, 5406.), (False, 4279.), (False, 5359.), (False, 3964.),\n",
       "       ( True,  289.), (False, 6298.), (False, 6399.), (False, 5683.),\n",
       "       (False, 6240.), (False, 6161.), (False, 6132.), ( True, 4212.),\n",
       "       (False, 4980.), (False, 1703.), (False, 5014.), ( True,  880.),\n",
       "       (False, 8711.), (False, 4672.), (False, 6943.), (False, 6135.),\n",
       "       ( True,  805.), (False, 5917.), (False, 5909.), (False, 2196.),\n",
       "       (False, 5860.), ( True, 2349.), (False, 5779.), (False, 5779.),\n",
       "       (False, 5723.), (False, 5714.), (False, 5653.), ( True,  125.),\n",
       "       (False, 5678.), ( True, 1742.), (False, 3614.), (False, 5602.),\n",
       "       (False, 5768.), (False, 5684.), (False, 5530.), (False, 5551.),\n",
       "       (False, 6352.), (False, 6295.), ( True, 7185.), (False, 6281.),\n",
       "       ( True, 3313.), (False, 6003.), (False, 2972.), ( True, 6232.),\n",
       "       (False, 9108.), ( True, 4353.), (False, 3914.), (False, 5181.),\n",
       "       (False, 3855.), (False, 5156.), (False, 4744.), ( True,  794.),\n",
       "       ( True, 1598.), (False, 5038.), (False, 4874.), (False, 4555.),\n",
       "       (False, 4487.), (False, 4297.), (False, 4866.), (False, 4178.),\n",
       "       ( True, 4618.), (False, 4052.), (False, 3782.), (False, 3492.),\n",
       "       (False, 2561.), ( True, 2454.), (False, 2879.), (False, 5137.),\n",
       "       (False, 7023.), (False, 5673.), ( True,  404.), (False, 2225.),\n",
       "       (False, 2722.), (False, 1781.)],\n",
       "      dtype=[('fstat', '?'), ('lenfol', '<f8')])"
      ]
     },
     "execution_count": 6,
     "metadata": {},
     "output_type": "execute_result"
    }
   ],
   "source": [
    "X = df[rest]\n",
    "y = pd.DataFrame(df[['e.tdm', 't.tdm']])\n",
    "y.columns = ['event', 'time']\n",
    "y['event'] = y['event'] == 1\n",
    "y = [tuple(row) for row in y.values]\n",
    "out = np.empty(len(y), dtype =[('fstat', '?'), ('lenfol', '<f8')])\n",
    "out[:] = y\n",
    "out"
   ]
  },
  {
   "cell_type": "markdown",
   "metadata": {},
   "source": [
    "### Train-Test Split"
   ]
  },
  {
   "cell_type": "code",
   "execution_count": 7,
   "metadata": {},
   "outputs": [],
   "source": [
    "X_train, X_test, y_train, y_test = train_test_split(X, out, test_size=0.50, random_state=42)"
   ]
  },
  {
   "cell_type": "markdown",
   "metadata": {},
   "source": [
    "### Fitting Random Survival Forest"
   ]
  },
  {
   "cell_type": "code",
   "execution_count": 8,
   "metadata": {},
   "outputs": [
    {
     "data": {
      "text/plain": [
       "RandomSurvivalForest(max_features='sqrt', min_samples_leaf=15,\n",
       "                     min_samples_split=10, n_estimators=1000, random_state=0)"
      ]
     },
     "execution_count": 8,
     "metadata": {},
     "output_type": "execute_result"
    }
   ],
   "source": [
    "rsf = RandomSurvivalForest(n_estimators = 1000, \n",
    "                          min_samples_split=10, \n",
    "                          min_samples_leaf=15,\n",
    "                          max_features=\"sqrt\", \n",
    "                          random_state=0)\n",
    "rsf.fit(X_train, y_train)"
   ]
  },
  {
   "cell_type": "markdown",
   "metadata": {},
   "source": [
    "### Score"
   ]
  },
  {
   "cell_type": "code",
   "execution_count": 9,
   "metadata": {},
   "outputs": [
    {
     "data": {
      "text/plain": [
       "0.665868263473054"
      ]
     },
     "execution_count": 9,
     "metadata": {},
     "output_type": "execute_result"
    }
   ],
   "source": [
    "rsf.score(X_test, y_test)"
   ]
  },
  {
   "cell_type": "markdown",
   "metadata": {},
   "source": [
    "### Predicting and Plotting Cumulative Hazard Function"
   ]
  },
  {
   "cell_type": "code",
   "execution_count": 10,
   "metadata": {},
   "outputs": [
    {
     "data": {
      "text/plain": [
       "array([[0.00431992, 0.01116434, 0.01726432, ..., 0.18285761, 0.21326457,\n",
       "        0.22894807],\n",
       "       [0.01394193, 0.02559209, 0.03595799, ..., 0.30334373, 0.33289709,\n",
       "        0.36968292],\n",
       "       [0.00862591, 0.02160779, 0.03642167, ..., 0.25171091, 0.27384897,\n",
       "        0.30787517],\n",
       "       ...,\n",
       "       [0.01498643, 0.02670604, 0.04194323, ..., 0.29341808, 0.308274  ,\n",
       "        0.33801593],\n",
       "       [0.01113998, 0.02512716, 0.03575426, ..., 0.21833185, 0.24474053,\n",
       "        0.27657735],\n",
       "       [0.01316929, 0.02431265, 0.035299  , ..., 0.22333119, 0.24598949,\n",
       "        0.26542275]])"
      ]
     },
     "execution_count": 10,
     "metadata": {},
     "output_type": "execute_result"
    }
   ],
   "source": [
    "chf = rsf.predict_cumulative_hazard_function(X_test, return_array=True)\n",
    "chf"
   ]
  },
  {
   "cell_type": "code",
   "execution_count": 11,
   "metadata": {},
   "outputs": [
    {
     "data": {
      "text/plain": [
       "<matplotlib.legend.Legend at 0x7fb804e1a7d0>"
      ]
     },
     "execution_count": 11,
     "metadata": {},
     "output_type": "execute_result"
    },
    {
     "data": {
      "image/png": "[encoded data removed]",
      "text/plain": [
       "<Figure size 432x288 with 1 Axes>"
      ]
     },
     "metadata": {
      "needs_background": "light"
     },
     "output_type": "display_data"
    }
   ],
   "source": [
    "plt.figure()\n",
    "for i, hazard in enumerate(chf[::15]):\n",
    "    plt.plot(rsf.event_times_, hazard, label=f\"patient {X_test.iloc[i].name}\")\n",
    "    \n",
    "plt.xlabel(\"Time in days\")\n",
    "plt.ylabel(\"Cumulative Hazard\")\n",
    "plt.title(\"Plotting Cumulative Hazard Function vs Time in days\")\n",
    "plt.legend()\n"
   ]
  },
  {
   "cell_type": "markdown",
   "metadata": {},
   "source": [
    "### Predicting and Plotting Survival Function"
   ]
  },
  {
   "cell_type": "code",
   "execution_count": 12,
   "metadata": {},
   "outputs": [
    {
     "data": {
      "text/plain": [
       "array([[0.99568008, 0.98888596, 0.98296231, 0.97737296, 0.96889343,\n",
       "        0.95954816, 0.94805331, 0.93919716, 0.93046274, 0.92570405,\n",
       "        0.91671813, 0.90330904, 0.89352032, 0.87388594, 0.85830308,\n",
       "        0.84697069, 0.82263163, 0.81132808],\n",
       "       [0.98605807, 0.97463052, 0.96467175, 0.95142723, 0.93420644,\n",
       "        0.92116433, 0.90975288, 0.89532222, 0.88104807, 0.86710398,\n",
       "        0.85550811, 0.83394728, 0.82020773, 0.79308837, 0.7725343 ,\n",
       "        0.75321506, 0.73152323, 0.70698621],\n",
       "       [0.99137409, 0.97857003, 0.96421202, 0.95207964, 0.94026161,\n",
       "        0.92993587, 0.91710137, 0.90402868, 0.89419121, 0.88531591,\n",
       "        0.86961683, 0.86143315, 0.84665132, 0.82846093, 0.81108397,\n",
       "        0.79179934, 0.77590118, 0.75340918],\n",
       "       [0.9866831 , 0.97319493, 0.96305484, 0.95192298, 0.94206395,\n",
       "        0.92860599, 0.91790359, 0.90641599, 0.8963352 , 0.87945432,\n",
       "        0.86807412, 0.86074056, 0.84817327, 0.83168262, 0.81308364,\n",
       "        0.79703132, 0.78202239, 0.75182552],\n",
       "       [0.99143584, 0.98281339, 0.97913438, 0.97490588, 0.96755422,\n",
       "        0.96129342, 0.95705145, 0.95261023, 0.94718197, 0.94092635,\n",
       "        0.93381683, 0.92390965, 0.91708067, 0.90973975, 0.90217464,\n",
       "        0.88705885, 0.8680921 , 0.85457364]])"
      ]
     },
     "execution_count": 12,
     "metadata": {},
     "output_type": "execute_result"
    }
   ],
   "source": [
    "sf = rsf.predict_survival_function(X_test, return_array=True)\n",
    "sf[:5]"
   ]
  },
  {
   "cell_type": "code",
   "execution_count": 13,
   "metadata": {},
   "outputs": [
    {
     "data": {
      "text/plain": [
       "<matplotlib.legend.Legend at 0x7fb804d61490>"
      ]
     },
     "execution_count": 13,
     "metadata": {},
     "output_type": "execute_result"
    },
    {
     "data": {
      "image/png": "[encoded data removed]",
      "text/plain": [
       "<Figure size 432x288 with 1 Axes>"
      ]
     },
     "metadata": {
      "needs_background": "light"
     },
     "output_type": "display_data"
    }
   ],
   "source": [
    "plt.figure()\n",
    "for i, sfi in enumerate(sf[::15]):\n",
    "    plt.plot(rsf.event_times_, sfi, label=f\"patient {X_test.iloc[i].name}\")\n",
    "    \n",
    "plt.xlabel(\"Time in days\")\n",
    "plt.ylabel(\"Survival Function\")\n",
    "plt.title(\"Plotting Survival Function vs Time\")\n",
    "plt.legend()"
   ]
  },
  {
   "cell_type": "code",
   "execution_count": 14,
   "metadata": {},
   "outputs": [
    {
     "name": "stdout",
     "output_type": "stream",
     "text": [
      "Risk scores\n"
     ]
    },
    {
     "data": {
      "text/plain": [
       "65     1.663998\n",
       "114    2.851931\n",
       "16     2.424459\n",
       "141    2.421694\n",
       "156    1.286020\n",
       "126    2.317410\n",
       "140    2.119929\n",
       "dtype: float64"
      ]
     },
     "execution_count": 14,
     "metadata": {},
     "output_type": "execute_result"
    }
   ],
   "source": [
    "print(\"Risk scores\")\n",
    "risks = [rsf.predict(X_test.iloc[[i]])[0] for i in range(len(X_test[::15]))]\n",
    "index = [X_test.iloc[i].name for i in range(len(X_test[::15]))]\n",
    "pd.Series(data=risks, index=index)"
   ]
  }
 ],
 "metadata": {
  "kernelspec": {
   "display_name": "Python 3",
   "language": "python",
   "name": "python3"
  },
  "language_info": {
   "codemirror_mode": {
    "name": "ipython",
    "version": 3
   },
   "file_extension": ".py",
   "mimetype": "text/x-python",
   "name": "python",
   "nbconvert_exporter": "python",
   "pygments_lexer": "ipython3",
   "version": "3.7.6"
  }
 },
 "nbformat": 4,
 "nbformat_minor": 5
}
